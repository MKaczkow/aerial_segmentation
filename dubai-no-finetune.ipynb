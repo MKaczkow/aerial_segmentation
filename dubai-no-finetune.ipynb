{
 "cells": [
  {
   "cell_type": "code",
   "execution_count": null,
   "metadata": {},
   "outputs": [],
   "source": [
    "import matplotlib.pyplot as plt\n",
    "import numpy as np\n",
    "import pandas as pd\n",
    "\n",
    "import torch\n",
    "from torch.utils.data import DataLoader\n",
    "from torchvision import transforms\n",
    "import segmentation_models_pytorch as smp\n",
    "\n",
    "from src.datasets.DubaiSemanticSegmentationDataset import (\n",
    "    DubaiSemanticSegmentationDataset,\n",
    ")\n",
    "\n",
    "from src.datasets.utils.ResizeToDivisibleBy32 import ResizeToDivisibleBy32"
   ]
  },
  {
   "cell_type": "code",
   "execution_count": null,
   "metadata": {},
   "outputs": [],
   "source": [
    "DUBAI_DATASET_PATH = \"data/DubaiSemanticSegmentationDataset\""
   ]
  },
  {
   "cell_type": "code",
   "execution_count": null,
   "metadata": {},
   "outputs": [],
   "source": [
    "example_dataset = DubaiSemanticSegmentationDataset(\n",
    "    DUBAI_DATASET_PATH, transforms=[ResizeToDivisibleBy32()]\n",
    ")\n",
    "print(len(example_dataset))"
   ]
  },
  {
   "cell_type": "code",
   "execution_count": null,
   "metadata": {},
   "outputs": [],
   "source": [
    "example_loader = DataLoader(example_dataset, batch_size=1, shuffle=True)"
   ]
  },
  {
   "cell_type": "code",
   "execution_count": null,
   "metadata": {},
   "outputs": [],
   "source": [
    "for images, masks in example_loader:\n",
    "    print(images.shape)\n",
    "    print(masks.shape)\n",
    "    break"
   ]
  },
  {
   "cell_type": "code",
   "execution_count": null,
   "metadata": {},
   "outputs": [],
   "source": [
    "to_pil_transform = transforms.ToPILImage()\n",
    "img = to_pil_transform(images.squeeze())"
   ]
  },
  {
   "cell_type": "code",
   "execution_count": null,
   "metadata": {},
   "outputs": [],
   "source": [
    "# img.show()"
   ]
  },
  {
   "cell_type": "code",
   "execution_count": null,
   "metadata": {},
   "outputs": [],
   "source": [
    "msk = to_pil_transform(masks.squeeze())"
   ]
  },
  {
   "cell_type": "code",
   "execution_count": null,
   "metadata": {},
   "outputs": [],
   "source": [
    "# msk.show()"
   ]
  },
  {
   "cell_type": "code",
   "execution_count": null,
   "metadata": {},
   "outputs": [],
   "source": [
    "model = smp.Unet(\n",
    "    encoder_name=\"resnet34\",  # choose encoder, e.g. mobilenet_v2 or efficientnet-b7\n",
    "    encoder_weights=\"imagenet\",  # use `imagenet` pre-trained weights for encoder initialization\n",
    "    in_channels=3,  # model input channels (1 for gray-scale images, 3 for RGB, etc.)\n",
    "    classes=6,  # model output channels (number of classes in your dataset)\n",
    ")"
   ]
  },
  {
   "cell_type": "code",
   "execution_count": null,
   "metadata": {},
   "outputs": [],
   "source": [
    "import numpy as np\n",
    "\n",
    "model.eval()\n",
    "\n",
    "with torch.no_grad():\n",
    "    for images, masks in example_loader:\n",
    "\n",
    "        height = images.shape[2]\n",
    "        width = images.shape[3]\n",
    "\n",
    "        if height % 32 == 0 and width % 32 == 0:\n",
    "            print(\"Height and width are divisible by 32\")\n",
    "        else:\n",
    "            print(\"Height and width are not divisible by 32\")\n",
    "\n",
    "        output = model(images)\n",
    "        output = torch.softmax(output, dim=1)\n",
    "        class_output = torch.argmax(output, dim=1)\n",
    "\n",
    "        print(\"output\")\n",
    "        print(type(output))\n",
    "        print(output.shape)\n",
    "        print(output.max())\n",
    "        print(output.min())\n",
    "        print()\n",
    "        print(\"masks\")\n",
    "        print(type(masks))\n",
    "        print(masks.shape)\n",
    "        print(masks.max())\n",
    "        print(masks.min())\n",
    "\n",
    "        images = to_pil_transform(images.squeeze())\n",
    "        # images.show()\n",
    "        images_array = np.array(images)\n",
    "\n",
    "        # Show the images using matplotlib\n",
    "        # plt.imshow(images_array, cmap='gray')\n",
    "        # plt.axis('off')\n",
    "\n",
    "        # output = to_pil_transform(output.squeeze())\n",
    "        # output.show()\n",
    "        output_array = np.array(output.squeeze())\n",
    "\n",
    "        # Show the output using matplotlib\n",
    "        # plt.figure()\n",
    "        # plt.imshow(output_array, cmap='gray')\n",
    "        # plt.axis('off')\n",
    "        # plt.show()\n",
    "\n",
    "        class_output_array = np.array(class_output.squeeze())\n",
    "\n",
    "        masks = to_pil_transform(masks.squeeze())\n",
    "        # masks.show()\n",
    "        # Convert the PIL Image to a numpy array\n",
    "        mask_array = np.array(msk)\n",
    "\n",
    "        # Show the mask using matplotlib\n",
    "        # plt.imshow(mask_array, cmap='gray')\n",
    "        # plt.axis('off')\n",
    "        # plt.show()\n",
    "\n",
    "        # tp, fp, fn, tn = smp.metrics.get_stats(\n",
    "        #     output, masks, mode=\"multilabel\", threshold=0.5\n",
    "        # )\n",
    "        # print(f\"TP: {tp}\")\n",
    "        # print(f\"FP: {fp}\")\n",
    "        # print(f\"TN: {tn}\")\n",
    "        # print(f\"FN: {fn}\")\n",
    "\n",
    "        # iou_score = smp.metrics.iou_score(tp, fp, fn, tn, reduction=\"micro\")\n",
    "        # print(f\"IoU score: {iou_score}\")\n",
    "\n",
    "        break"
   ]
  },
  {
   "cell_type": "code",
   "execution_count": null,
   "metadata": {},
   "outputs": [],
   "source": [
    "plt.imshow(images_array, cmap=\"gray\")\n",
    "plt.axis(\"off\")\n",
    "plt.show()"
   ]
  },
  {
   "cell_type": "code",
   "execution_count": null,
   "metadata": {},
   "outputs": [],
   "source": [
    "plt.imshow(mask_array, cmap=\"gray\")\n",
    "plt.axis(\"off\")\n",
    "plt.show()"
   ]
  },
  {
   "cell_type": "code",
   "execution_count": null,
   "metadata": {},
   "outputs": [],
   "source": [
    "# plt.imshow(output_array, cmap='gray')\n",
    "# plt.axis('off')\n",
    "# plt.show()\n",
    "plt.matshow(output_array[0, :, :])\n",
    "plt.matshow(output_array[1, :, :])\n",
    "plt.matshow(output_array[2, :, :])\n",
    "plt.matshow(output_array[3, :, :])\n",
    "plt.matshow(output_array[4, :, :])\n",
    "plt.matshow(output_array[5, :, :])"
   ]
  },
  {
   "cell_type": "code",
   "execution_count": null,
   "metadata": {},
   "outputs": [],
   "source": [
    "plt.imshow(class_output_array, cmap=\"viridis\")\n",
    "plt.axis(\"off\")\n",
    "plt.show()"
   ]
  },
  {
   "cell_type": "code",
   "execution_count": null,
   "metadata": {},
   "outputs": [],
   "source": [
    "plt.matshow(class_output_array)"
   ]
  },
  {
   "cell_type": "code",
   "execution_count": null,
   "metadata": {},
   "outputs": [],
   "source": [
    "class_output_array"
   ]
  },
  {
   "cell_type": "code",
   "execution_count": null,
   "metadata": {},
   "outputs": [],
   "source": [
    "class_output_array.max()"
   ]
  },
  {
   "cell_type": "code",
   "execution_count": null,
   "metadata": {},
   "outputs": [],
   "source": [
    "class_output_array.min()"
   ]
  },
  {
   "cell_type": "code",
   "execution_count": null,
   "metadata": {},
   "outputs": [],
   "source": [
    "unique, counts = np.unique(class_output_array, return_counts=True)\n",
    "print(dict(zip(unique, counts)))"
   ]
  },
  {
   "cell_type": "code",
   "execution_count": null,
   "metadata": {},
   "outputs": [],
   "source": []
  }
 ],
 "metadata": {
  "kernelspec": {
   "display_name": "Python 3",
   "language": "python",
   "name": "python3"
  },
  "language_info": {
   "codemirror_mode": {
    "name": "ipython",
    "version": 3
   },
   "file_extension": ".py",
   "mimetype": "text/x-python",
   "name": "python",
   "nbconvert_exporter": "python",
   "pygments_lexer": "ipython3",
   "version": "3.10.3"
  }
 },
 "nbformat": 4,
 "nbformat_minor": 2
}
