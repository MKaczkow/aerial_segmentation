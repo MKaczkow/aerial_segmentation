{
 "cells": [
  {
   "cell_type": "code",
   "execution_count": 1,
   "metadata": {},
   "outputs": [],
   "source": [
    "from torch.utils.data import DataLoader\n",
    "from src.DubaiSemanticSegmentationDataset import DubaiSemanticSegmentationDataset"
   ]
  },
  {
   "cell_type": "code",
   "execution_count": 2,
   "metadata": {},
   "outputs": [],
   "source": [
    "DUBAI_DATASET_PATH = 'data/DubaiSemanticSegmentationDataset'"
   ]
  },
  {
   "cell_type": "code",
   "execution_count": 3,
   "metadata": {},
   "outputs": [],
   "source": [
    "import os\n",
    "from PIL import Image"
   ]
  },
  {
   "cell_type": "code",
   "execution_count": 4,
   "metadata": {},
   "outputs": [],
   "source": [
    "images_paths = []\n",
    "masks_paths = []\n",
    "\n",
    "for root, _, files in os.walk(f'{DUBAI_DATASET_PATH}'):\n",
    "    for file in files:\n",
    "        file_path = f'{root}/{file}'\n",
    "        # differentiating between images and masks is easy\n",
    "        # because masks are *.png and images are *.jpg\n",
    "        if file.endswith('.png'):\n",
    "            masks_paths.append(file_path)\n",
    "        elif file.endswith('.jpg'):\n",
    "            images_paths.append(file_path)"
   ]
  },
  {
   "cell_type": "code",
   "execution_count": 5,
   "metadata": {},
   "outputs": [
    {
     "name": "stdout",
     "output_type": "stream",
     "text": [
      "['data/DubaiSemanticSegmentationDataset\\\\Tile 1\\\\images/image_part_001.jpg', 'data/DubaiSemanticSegmentationDataset\\\\Tile 1\\\\images/image_part_002.jpg', 'data/DubaiSemanticSegmentationDataset\\\\Tile 1\\\\images/image_part_003.jpg', 'data/DubaiSemanticSegmentationDataset\\\\Tile 1\\\\images/image_part_004.jpg', 'data/DubaiSemanticSegmentationDataset\\\\Tile 1\\\\images/image_part_005.jpg', 'data/DubaiSemanticSegmentationDataset\\\\Tile 1\\\\images/image_part_006.jpg', 'data/DubaiSemanticSegmentationDataset\\\\Tile 1\\\\images/image_part_007.jpg', 'data/DubaiSemanticSegmentationDataset\\\\Tile 1\\\\images/image_part_008.jpg', 'data/DubaiSemanticSegmentationDataset\\\\Tile 1\\\\images/image_part_009.jpg', 'data/DubaiSemanticSegmentationDataset\\\\Tile 2\\\\images/image_part_001.jpg', 'data/DubaiSemanticSegmentationDataset\\\\Tile 2\\\\images/image_part_002.jpg', 'data/DubaiSemanticSegmentationDataset\\\\Tile 2\\\\images/image_part_003.jpg', 'data/DubaiSemanticSegmentationDataset\\\\Tile 2\\\\images/image_part_004.jpg', 'data/DubaiSemanticSegmentationDataset\\\\Tile 2\\\\images/image_part_005.jpg', 'data/DubaiSemanticSegmentationDataset\\\\Tile 2\\\\images/image_part_006.jpg', 'data/DubaiSemanticSegmentationDataset\\\\Tile 2\\\\images/image_part_007.jpg', 'data/DubaiSemanticSegmentationDataset\\\\Tile 2\\\\images/image_part_008.jpg', 'data/DubaiSemanticSegmentationDataset\\\\Tile 2\\\\images/image_part_009.jpg', 'data/DubaiSemanticSegmentationDataset\\\\Tile 3\\\\images/image_part_001.jpg', 'data/DubaiSemanticSegmentationDataset\\\\Tile 3\\\\images/image_part_002.jpg', 'data/DubaiSemanticSegmentationDataset\\\\Tile 3\\\\images/image_part_003.jpg', 'data/DubaiSemanticSegmentationDataset\\\\Tile 3\\\\images/image_part_004.jpg', 'data/DubaiSemanticSegmentationDataset\\\\Tile 3\\\\images/image_part_005.jpg', 'data/DubaiSemanticSegmentationDataset\\\\Tile 3\\\\images/image_part_006.jpg', 'data/DubaiSemanticSegmentationDataset\\\\Tile 3\\\\images/image_part_007.jpg', 'data/DubaiSemanticSegmentationDataset\\\\Tile 3\\\\images/image_part_008.jpg', 'data/DubaiSemanticSegmentationDataset\\\\Tile 3\\\\images/image_part_009.jpg', 'data/DubaiSemanticSegmentationDataset\\\\Tile 4\\\\images/image_part_001.jpg', 'data/DubaiSemanticSegmentationDataset\\\\Tile 4\\\\images/image_part_002.jpg', 'data/DubaiSemanticSegmentationDataset\\\\Tile 4\\\\images/image_part_003.jpg', 'data/DubaiSemanticSegmentationDataset\\\\Tile 4\\\\images/image_part_004.jpg', 'data/DubaiSemanticSegmentationDataset\\\\Tile 4\\\\images/image_part_005.jpg', 'data/DubaiSemanticSegmentationDataset\\\\Tile 4\\\\images/image_part_006.jpg', 'data/DubaiSemanticSegmentationDataset\\\\Tile 4\\\\images/image_part_007.jpg', 'data/DubaiSemanticSegmentationDataset\\\\Tile 4\\\\images/image_part_008.jpg', 'data/DubaiSemanticSegmentationDataset\\\\Tile 4\\\\images/image_part_009.jpg', 'data/DubaiSemanticSegmentationDataset\\\\Tile 5\\\\images/image_part_001.jpg', 'data/DubaiSemanticSegmentationDataset\\\\Tile 5\\\\images/image_part_002.jpg', 'data/DubaiSemanticSegmentationDataset\\\\Tile 5\\\\images/image_part_003.jpg', 'data/DubaiSemanticSegmentationDataset\\\\Tile 5\\\\images/image_part_004.jpg', 'data/DubaiSemanticSegmentationDataset\\\\Tile 5\\\\images/image_part_005.jpg', 'data/DubaiSemanticSegmentationDataset\\\\Tile 5\\\\images/image_part_006.jpg', 'data/DubaiSemanticSegmentationDataset\\\\Tile 5\\\\images/image_part_007.jpg', 'data/DubaiSemanticSegmentationDataset\\\\Tile 5\\\\images/image_part_008.jpg', 'data/DubaiSemanticSegmentationDataset\\\\Tile 5\\\\images/image_part_009.jpg', 'data/DubaiSemanticSegmentationDataset\\\\Tile 6\\\\images/image_part_001.jpg', 'data/DubaiSemanticSegmentationDataset\\\\Tile 6\\\\images/image_part_002.jpg', 'data/DubaiSemanticSegmentationDataset\\\\Tile 6\\\\images/image_part_003.jpg', 'data/DubaiSemanticSegmentationDataset\\\\Tile 6\\\\images/image_part_004.jpg', 'data/DubaiSemanticSegmentationDataset\\\\Tile 6\\\\images/image_part_005.jpg', 'data/DubaiSemanticSegmentationDataset\\\\Tile 6\\\\images/image_part_006.jpg', 'data/DubaiSemanticSegmentationDataset\\\\Tile 6\\\\images/image_part_007.jpg', 'data/DubaiSemanticSegmentationDataset\\\\Tile 6\\\\images/image_part_008.jpg', 'data/DubaiSemanticSegmentationDataset\\\\Tile 6\\\\images/image_part_009.jpg', 'data/DubaiSemanticSegmentationDataset\\\\Tile 7\\\\images/image_part_001.jpg', 'data/DubaiSemanticSegmentationDataset\\\\Tile 7\\\\images/image_part_002.jpg', 'data/DubaiSemanticSegmentationDataset\\\\Tile 7\\\\images/image_part_003.jpg', 'data/DubaiSemanticSegmentationDataset\\\\Tile 7\\\\images/image_part_004.jpg', 'data/DubaiSemanticSegmentationDataset\\\\Tile 7\\\\images/image_part_005.jpg', 'data/DubaiSemanticSegmentationDataset\\\\Tile 7\\\\images/image_part_006.jpg', 'data/DubaiSemanticSegmentationDataset\\\\Tile 7\\\\images/image_part_007.jpg', 'data/DubaiSemanticSegmentationDataset\\\\Tile 7\\\\images/image_part_008.jpg', 'data/DubaiSemanticSegmentationDataset\\\\Tile 7\\\\images/image_part_009.jpg', 'data/DubaiSemanticSegmentationDataset\\\\Tile 8\\\\images/image_part_001.jpg', 'data/DubaiSemanticSegmentationDataset\\\\Tile 8\\\\images/image_part_002.jpg', 'data/DubaiSemanticSegmentationDataset\\\\Tile 8\\\\images/image_part_003.jpg', 'data/DubaiSemanticSegmentationDataset\\\\Tile 8\\\\images/image_part_004.jpg', 'data/DubaiSemanticSegmentationDataset\\\\Tile 8\\\\images/image_part_005.jpg', 'data/DubaiSemanticSegmentationDataset\\\\Tile 8\\\\images/image_part_006.jpg', 'data/DubaiSemanticSegmentationDataset\\\\Tile 8\\\\images/image_part_007.jpg', 'data/DubaiSemanticSegmentationDataset\\\\Tile 8\\\\images/image_part_008.jpg', 'data/DubaiSemanticSegmentationDataset\\\\Tile 8\\\\images/image_part_009.jpg']\n",
      "['data/DubaiSemanticSegmentationDataset\\\\Tile 1\\\\masks/image_part_001.png', 'data/DubaiSemanticSegmentationDataset\\\\Tile 1\\\\masks/image_part_002.png', 'data/DubaiSemanticSegmentationDataset\\\\Tile 1\\\\masks/image_part_003.png', 'data/DubaiSemanticSegmentationDataset\\\\Tile 1\\\\masks/image_part_004.png', 'data/DubaiSemanticSegmentationDataset\\\\Tile 1\\\\masks/image_part_005.png', 'data/DubaiSemanticSegmentationDataset\\\\Tile 1\\\\masks/image_part_006.png', 'data/DubaiSemanticSegmentationDataset\\\\Tile 1\\\\masks/image_part_007.png', 'data/DubaiSemanticSegmentationDataset\\\\Tile 1\\\\masks/image_part_008.png', 'data/DubaiSemanticSegmentationDataset\\\\Tile 1\\\\masks/image_part_009.png', 'data/DubaiSemanticSegmentationDataset\\\\Tile 2\\\\masks/image_part_001.png', 'data/DubaiSemanticSegmentationDataset\\\\Tile 2\\\\masks/image_part_002.png', 'data/DubaiSemanticSegmentationDataset\\\\Tile 2\\\\masks/image_part_003.png', 'data/DubaiSemanticSegmentationDataset\\\\Tile 2\\\\masks/image_part_004.png', 'data/DubaiSemanticSegmentationDataset\\\\Tile 2\\\\masks/image_part_005.png', 'data/DubaiSemanticSegmentationDataset\\\\Tile 2\\\\masks/image_part_006.png', 'data/DubaiSemanticSegmentationDataset\\\\Tile 2\\\\masks/image_part_007.png', 'data/DubaiSemanticSegmentationDataset\\\\Tile 2\\\\masks/image_part_008.png', 'data/DubaiSemanticSegmentationDataset\\\\Tile 2\\\\masks/image_part_009.png', 'data/DubaiSemanticSegmentationDataset\\\\Tile 3\\\\masks/image_part_001.png', 'data/DubaiSemanticSegmentationDataset\\\\Tile 3\\\\masks/image_part_002.png', 'data/DubaiSemanticSegmentationDataset\\\\Tile 3\\\\masks/image_part_003.png', 'data/DubaiSemanticSegmentationDataset\\\\Tile 3\\\\masks/image_part_004.png', 'data/DubaiSemanticSegmentationDataset\\\\Tile 3\\\\masks/image_part_005.png', 'data/DubaiSemanticSegmentationDataset\\\\Tile 3\\\\masks/image_part_006.png', 'data/DubaiSemanticSegmentationDataset\\\\Tile 3\\\\masks/image_part_007.png', 'data/DubaiSemanticSegmentationDataset\\\\Tile 3\\\\masks/image_part_008.png', 'data/DubaiSemanticSegmentationDataset\\\\Tile 3\\\\masks/image_part_009.png', 'data/DubaiSemanticSegmentationDataset\\\\Tile 4\\\\masks/image_part_001.png', 'data/DubaiSemanticSegmentationDataset\\\\Tile 4\\\\masks/image_part_002.png', 'data/DubaiSemanticSegmentationDataset\\\\Tile 4\\\\masks/image_part_003.png', 'data/DubaiSemanticSegmentationDataset\\\\Tile 4\\\\masks/image_part_004.png', 'data/DubaiSemanticSegmentationDataset\\\\Tile 4\\\\masks/image_part_005.png', 'data/DubaiSemanticSegmentationDataset\\\\Tile 4\\\\masks/image_part_006.png', 'data/DubaiSemanticSegmentationDataset\\\\Tile 4\\\\masks/image_part_007.png', 'data/DubaiSemanticSegmentationDataset\\\\Tile 4\\\\masks/image_part_008.png', 'data/DubaiSemanticSegmentationDataset\\\\Tile 4\\\\masks/image_part_009.png', 'data/DubaiSemanticSegmentationDataset\\\\Tile 5\\\\masks/image_part_001.png', 'data/DubaiSemanticSegmentationDataset\\\\Tile 5\\\\masks/image_part_002.png', 'data/DubaiSemanticSegmentationDataset\\\\Tile 5\\\\masks/image_part_003.png', 'data/DubaiSemanticSegmentationDataset\\\\Tile 5\\\\masks/image_part_004.png', 'data/DubaiSemanticSegmentationDataset\\\\Tile 5\\\\masks/image_part_005.png', 'data/DubaiSemanticSegmentationDataset\\\\Tile 5\\\\masks/image_part_006.png', 'data/DubaiSemanticSegmentationDataset\\\\Tile 5\\\\masks/image_part_007.png', 'data/DubaiSemanticSegmentationDataset\\\\Tile 5\\\\masks/image_part_008.png', 'data/DubaiSemanticSegmentationDataset\\\\Tile 5\\\\masks/image_part_009.png', 'data/DubaiSemanticSegmentationDataset\\\\Tile 6\\\\masks/image_part_001.png', 'data/DubaiSemanticSegmentationDataset\\\\Tile 6\\\\masks/image_part_002.png', 'data/DubaiSemanticSegmentationDataset\\\\Tile 6\\\\masks/image_part_003.png', 'data/DubaiSemanticSegmentationDataset\\\\Tile 6\\\\masks/image_part_004.png', 'data/DubaiSemanticSegmentationDataset\\\\Tile 6\\\\masks/image_part_005.png', 'data/DubaiSemanticSegmentationDataset\\\\Tile 6\\\\masks/image_part_006.png', 'data/DubaiSemanticSegmentationDataset\\\\Tile 6\\\\masks/image_part_007.png', 'data/DubaiSemanticSegmentationDataset\\\\Tile 6\\\\masks/image_part_008.png', 'data/DubaiSemanticSegmentationDataset\\\\Tile 6\\\\masks/image_part_009.png', 'data/DubaiSemanticSegmentationDataset\\\\Tile 7\\\\masks/image_part_001.png', 'data/DubaiSemanticSegmentationDataset\\\\Tile 7\\\\masks/image_part_002.png', 'data/DubaiSemanticSegmentationDataset\\\\Tile 7\\\\masks/image_part_003.png', 'data/DubaiSemanticSegmentationDataset\\\\Tile 7\\\\masks/image_part_004.png', 'data/DubaiSemanticSegmentationDataset\\\\Tile 7\\\\masks/image_part_005.png', 'data/DubaiSemanticSegmentationDataset\\\\Tile 7\\\\masks/image_part_006.png', 'data/DubaiSemanticSegmentationDataset\\\\Tile 7\\\\masks/image_part_007.png', 'data/DubaiSemanticSegmentationDataset\\\\Tile 7\\\\masks/image_part_008.png', 'data/DubaiSemanticSegmentationDataset\\\\Tile 7\\\\masks/image_part_009.png', 'data/DubaiSemanticSegmentationDataset\\\\Tile 8\\\\masks/image_part_001.png', 'data/DubaiSemanticSegmentationDataset\\\\Tile 8\\\\masks/image_part_002.png', 'data/DubaiSemanticSegmentationDataset\\\\Tile 8\\\\masks/image_part_003.png', 'data/DubaiSemanticSegmentationDataset\\\\Tile 8\\\\masks/image_part_004.png', 'data/DubaiSemanticSegmentationDataset\\\\Tile 8\\\\masks/image_part_005.png', 'data/DubaiSemanticSegmentationDataset\\\\Tile 8\\\\masks/image_part_006.png', 'data/DubaiSemanticSegmentationDataset\\\\Tile 8\\\\masks/image_part_007.png', 'data/DubaiSemanticSegmentationDataset\\\\Tile 8\\\\masks/image_part_008.png', 'data/DubaiSemanticSegmentationDataset\\\\Tile 8\\\\masks/image_part_009.png']\n"
     ]
    }
   ],
   "source": [
    "print(images_paths)\n",
    "print(masks_paths)"
   ]
  },
  {
   "cell_type": "code",
   "execution_count": 6,
   "metadata": {},
   "outputs": [
    {
     "name": "stdout",
     "output_type": "stream",
     "text": [
      "<class 'PIL.JpegImagePlugin.JpegImageFile'>\n",
      "(797, 644)\n"
     ]
    }
   ],
   "source": [
    "# Image.open(images_paths[0]).show()\n",
    "print(type(Image.open(images_paths[0])))\n",
    "print(Image.open(images_paths[0]).size)"
   ]
  },
  {
   "cell_type": "code",
   "execution_count": 7,
   "metadata": {},
   "outputs": [
    {
     "name": "stdout",
     "output_type": "stream",
     "text": [
      "<class 'PIL.PngImagePlugin.PngImageFile'>\n",
      "(797, 644)\n"
     ]
    }
   ],
   "source": [
    "# Image.open(masks_paths[0]).show()\n",
    "print(type(Image.open(masks_paths[0])))\n",
    "print(Image.open(masks_paths[0]).size)"
   ]
  },
  {
   "cell_type": "code",
   "execution_count": 8,
   "metadata": {},
   "outputs": [
    {
     "name": "stdout",
     "output_type": "stream",
     "text": [
      "72\n"
     ]
    }
   ],
   "source": [
    "train_dataset = DubaiSemanticSegmentationDataset(DUBAI_DATASET_PATH)\n",
    "print(len(train_dataset))"
   ]
  },
  {
   "cell_type": "code",
   "execution_count": 9,
   "metadata": {},
   "outputs": [],
   "source": [
    "train_loader = DataLoader(train_dataset, batch_size=1, shuffle=True)"
   ]
  },
  {
   "cell_type": "code",
   "execution_count": 10,
   "metadata": {},
   "outputs": [
    {
     "name": "stdout",
     "output_type": "stream",
     "text": [
      "torch.Size([1, 3, 643, 797])\n",
      "torch.Size([1, 3, 643, 797])\n"
     ]
    }
   ],
   "source": [
    "for images, masks in train_loader:\n",
    "    print(images.shape)\n",
    "    print(masks.shape)\n",
    "    break"
   ]
  },
  {
   "cell_type": "code",
   "execution_count": null,
   "metadata": {},
   "outputs": [],
   "source": []
  }
 ],
 "metadata": {
  "kernelspec": {
   "display_name": "Python 3",
   "language": "python",
   "name": "python3"
  },
  "language_info": {
   "codemirror_mode": {
    "name": "ipython",
    "version": 3
   },
   "file_extension": ".py",
   "mimetype": "text/x-python",
   "name": "python",
   "nbconvert_exporter": "python",
   "pygments_lexer": "ipython3",
   "version": "3.9.7"
  }
 },
 "nbformat": 4,
 "nbformat_minor": 2
}
