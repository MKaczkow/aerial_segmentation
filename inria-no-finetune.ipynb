{
 "cells": [
  {
   "cell_type": "code",
   "execution_count": 98,
   "metadata": {},
   "outputs": [],
   "source": [
    "import gc\n",
    "\n",
    "import matplotlib.pyplot as plt\n",
    "import numpy as np\n",
    "\n",
    "import torch\n",
    "from torch.utils.data import DataLoader\n",
    "from torchvision import transforms\n",
    "import segmentation_models_pytorch as smp\n",
    "\n",
    "from src.models.BaselineModel import BaselineModel\n",
    "from src.evaluation.evaluate_result import evaluate_result\n",
    "from src.datasets.INRIAAerialImageLabellingDataset import (\n",
    "    INRIAAerialImageLabellingDataset,\n",
    ")\n",
    "\n",
    "from src.datasets.utils.ResizeToDivisibleBy32 import ResizeToDivisibleBy32"
   ]
  },
  {
   "cell_type": "code",
   "execution_count": 2,
   "metadata": {},
   "outputs": [
    {
     "data": {
      "text/plain": [
       "True"
      ]
     },
     "execution_count": 2,
     "metadata": {},
     "output_type": "execute_result"
    }
   ],
   "source": [
    "torch.cuda.is_available()"
   ]
  },
  {
   "cell_type": "code",
   "execution_count": 3,
   "metadata": {},
   "outputs": [
    {
     "name": "stdout",
     "output_type": "stream",
     "text": [
      "cuda\n"
     ]
    }
   ],
   "source": [
    "device = torch.device(\"cuda\" if torch.cuda.is_available() else \"cpu\")\n",
    "print(device)"
   ]
  },
  {
   "cell_type": "code",
   "execution_count": 4,
   "metadata": {},
   "outputs": [],
   "source": [
    "VAL_SIZE = 0.2\n",
    "BATCH_SIZE = 1\n",
    "SEED = 42\n",
    "INRIA_DATASET_PATH = \"data/INRIAAerialImageLabellingDataset\""
   ]
  },
  {
   "cell_type": "code",
   "execution_count": 6,
   "metadata": {},
   "outputs": [
    {
     "name": "stdout",
     "output_type": "stream",
     "text": [
      "data/INRIAAerialImageLabellingDataset\\train\n",
      "180\n"
     ]
    }
   ],
   "source": [
    "labeled_dataset = INRIAAerialImageLabellingDataset(\n",
    "    INRIA_DATASET_PATH, transforms=[ResizeToDivisibleBy32()]\n",
    ")\n",
    "print(len(labeled_dataset))"
   ]
  },
  {
   "cell_type": "code",
   "execution_count": 7,
   "metadata": {},
   "outputs": [
    {
     "name": "stdout",
     "output_type": "stream",
     "text": [
      "data/INRIAAerialImageLabellingDataset\\test\n",
      "144\n"
     ]
    }
   ],
   "source": [
    "test_dataset = INRIAAerialImageLabellingDataset(\n",
    "    INRIA_DATASET_PATH, split=\"test\", transforms=[ResizeToDivisibleBy32()]\n",
    ")\n",
    "print(len(test_dataset))"
   ]
  },
  {
   "cell_type": "code",
   "execution_count": 8,
   "metadata": {},
   "outputs": [],
   "source": [
    "# train_indices, val_indices = train_test_split(\n",
    "#     range(len(labeled_dataset)),\n",
    "#     test_size=VAL_SIZE,\n",
    "#     random_state=SEED\n",
    "# )\n",
    "\n",
    "# print(f\"Number of training samples: {len(train_indices)}\")\n",
    "# print(f\"Number of validation samples: {len(val_indices)}\")"
   ]
  },
  {
   "cell_type": "code",
   "execution_count": 9,
   "metadata": {},
   "outputs": [],
   "source": [
    "# train_split = Subset(labeled_dataset, train_indices)\n",
    "# print(len(train_split))\n",
    "# val_split = Subset(labeled_dataset, val_indices)\n",
    "# print(len(val_split))"
   ]
  },
  {
   "cell_type": "code",
   "execution_count": 10,
   "metadata": {},
   "outputs": [],
   "source": [
    "# train_loader = DataLoader(train_split, batch_size=BATCH_SIZE, shuffle=True)\n",
    "# val_loader = DataLoader(val_split, batch_size=BATCH_SIZE, shuffle=True)\n",
    "\n",
    "train_loader = DataLoader(labeled_dataset, batch_size=BATCH_SIZE, shuffle=True)\n",
    "test_loader = DataLoader(test_dataset, batch_size=BATCH_SIZE, shuffle=True)"
   ]
  },
  {
   "cell_type": "code",
   "execution_count": 11,
   "metadata": {},
   "outputs": [
    {
     "name": "stdout",
     "output_type": "stream",
     "text": [
      "torch.Size([1, 3, 5024, 5024])\n",
      "torch.Size([1, 1, 5024, 5024])\n"
     ]
    }
   ],
   "source": [
    "for images, masks in train_loader:\n",
    "    print(images.shape)\n",
    "    print(masks.shape)\n",
    "    break"
   ]
  },
  {
   "cell_type": "code",
   "execution_count": 19,
   "metadata": {},
   "outputs": [],
   "source": [
    "to_pil_transform = transforms.ToPILImage()"
   ]
  },
  {
   "cell_type": "code",
   "execution_count": 12,
   "metadata": {},
   "outputs": [],
   "source": [
    "img = to_pil_transform(images.squeeze())"
   ]
  },
  {
   "cell_type": "code",
   "execution_count": 13,
   "metadata": {},
   "outputs": [],
   "source": [
    "img.show()"
   ]
  },
  {
   "cell_type": "code",
   "execution_count": 14,
   "metadata": {},
   "outputs": [],
   "source": [
    "msk = to_pil_transform(masks.squeeze())"
   ]
  },
  {
   "cell_type": "code",
   "execution_count": 49,
   "metadata": {},
   "outputs": [],
   "source": [
    "msk.show()"
   ]
  },
  {
   "cell_type": "code",
   "execution_count": 41,
   "metadata": {},
   "outputs": [],
   "source": [
    "model = smp.Unet(\n",
    "    encoder_name=\"resnet18\",  # choose encoder, e.g. mobilenet_v2 or efficientnet-b7\n",
    "    encoder_weights=\"imagenet\",  # use `imagenet` pre-trained weights for encoder initialization\n",
    "    in_channels=3,  # model input channels (1 for gray-scale images, 3 for RGB, etc.)\n",
    "    classes=1,  # model output channels (number of classes in your dataset)\n",
    ").to(device)"
   ]
  },
  {
   "cell_type": "code",
   "execution_count": 99,
   "metadata": {},
   "outputs": [],
   "source": [
    "baseline_model = BaselineModel()"
   ]
  },
  {
   "cell_type": "code",
   "execution_count": 42,
   "metadata": {},
   "outputs": [],
   "source": [
    "torch.cuda.empty_cache()"
   ]
  },
  {
   "cell_type": "code",
   "execution_count": 100,
   "metadata": {},
   "outputs": [
    {
     "name": "stdout",
     "output_type": "stream",
     "text": [
      "torch.Size([1, 3, 5024, 5024])\n",
      "torch.Size([1, 1, 5024, 5024])\n"
     ]
    }
   ],
   "source": [
    "model.eval()\n",
    "with torch.no_grad():\n",
    "    for images, masks in train_loader:\n",
    "        print(images.shape)\n",
    "        print(masks.shape)\n",
    "        break\n",
    "    output = model(images.to(device))\n",
    "    output = (output > 0.5).float()\n",
    "\n",
    "    output_baseline = baseline_model(images.to(device))\n",
    "    output_baseline = (output_baseline > 0.5).float()"
   ]
  },
  {
   "cell_type": "code",
   "execution_count": 101,
   "metadata": {},
   "outputs": [
    {
     "name": "stdout",
     "output_type": "stream",
     "text": [
      "torch.Size([1, 1, 5024, 5024])\n"
     ]
    }
   ],
   "source": [
    "print(output.shape)"
   ]
  },
  {
   "cell_type": "code",
   "execution_count": 102,
   "metadata": {},
   "outputs": [
    {
     "name": "stdout",
     "output_type": "stream",
     "text": [
      "torch.Size([1, 1, 5024, 5024])\n"
     ]
    }
   ],
   "source": [
    "print(output_baseline.shape)"
   ]
  },
  {
   "cell_type": "code",
   "execution_count": 103,
   "metadata": {},
   "outputs": [],
   "source": [
    "outp = to_pil_transform(output.squeeze().cpu().numpy())"
   ]
  },
  {
   "cell_type": "code",
   "execution_count": 104,
   "metadata": {},
   "outputs": [
    {
     "name": "stdout",
     "output_type": "stream",
     "text": [
      "{0: 25165645, 255: 74931}\n"
     ]
    }
   ],
   "source": [
    "unique, counts = np.unique(outp, return_counts=True)\n",
    "print(dict(zip(unique, counts)))"
   ]
  },
  {
   "cell_type": "code",
   "execution_count": 105,
   "metadata": {},
   "outputs": [
    {
     "name": "stdout",
     "output_type": "stream",
     "text": [
      "{0.0: 25165645, 1.0: 74931}\n"
     ]
    }
   ],
   "source": [
    "unique, counts = np.unique(output.cpu(), return_counts=True)\n",
    "print(dict(zip(unique, counts)))"
   ]
  },
  {
   "cell_type": "code",
   "execution_count": 106,
   "metadata": {},
   "outputs": [],
   "source": [
    "outp.show()"
   ]
  },
  {
   "cell_type": "code",
   "execution_count": 107,
   "metadata": {},
   "outputs": [],
   "source": [
    "rand_outp = to_pil_transform(output_baseline.squeeze().cpu().numpy())"
   ]
  },
  {
   "cell_type": "code",
   "execution_count": 108,
   "metadata": {},
   "outputs": [
    {
     "name": "stdout",
     "output_type": "stream",
     "text": [
      "{0: 12625381, 255: 12615195}\n"
     ]
    }
   ],
   "source": [
    "unique, counts = np.unique(rand_outp, return_counts=True)\n",
    "print(dict(zip(unique, counts)))"
   ]
  },
  {
   "cell_type": "code",
   "execution_count": 109,
   "metadata": {},
   "outputs": [],
   "source": [
    "rand_outp.show()"
   ]
  },
  {
   "cell_type": "code",
   "execution_count": 110,
   "metadata": {},
   "outputs": [
    {
     "data": {
      "text/plain": [
       "{'IoU score': tensor(0.0026),\n",
       " 'F1 score': tensor(0.0052),\n",
       " 'Accuracy': tensor(0.7816),\n",
       " 'Recall': tensor(0.0488)}"
      ]
     },
     "execution_count": 110,
     "metadata": {},
     "output_type": "execute_result"
    }
   ],
   "source": [
    "evaluate_result(output, masks)"
   ]
  },
  {
   "cell_type": "code",
   "execution_count": 111,
   "metadata": {},
   "outputs": [
    {
     "data": {
      "text/plain": [
       "{'IoU score': tensor(0.1780),\n",
       " 'F1 score': tensor(0.3022),\n",
       " 'Accuracy': tensor(0.5001),\n",
       " 'Recall': tensor(0.5222)}"
      ]
     },
     "execution_count": 111,
     "metadata": {},
     "output_type": "execute_result"
    }
   ],
   "source": [
    "evaluate_result(output_baseline, masks)"
   ]
  },
  {
   "cell_type": "code",
   "execution_count": 112,
   "metadata": {},
   "outputs": [
    {
     "data": {
      "text/plain": [
       "{'IoU score': tensor(1.),\n",
       " 'F1 score': tensor(1.),\n",
       " 'Accuracy': tensor(1.),\n",
       " 'Recall': tensor(1.)}"
      ]
     },
     "execution_count": 112,
     "metadata": {},
     "output_type": "execute_result"
    }
   ],
   "source": [
    "evaluate_result(masks, masks)"
   ]
  },
  {
   "cell_type": "code",
   "execution_count": null,
   "metadata": {},
   "outputs": [],
   "source": [
    "model.eval()\n",
    "\n",
    "with torch.no_grad():\n",
    "    for i, (images, masks) in enumerate(train_loader):\n",
    "\n",
    "        cumulated_iou_score = 0.0\n",
    "        height = images.shape[2]\n",
    "        width = images.shape[3]\n",
    "\n",
    "        # if height % 32 == 0 and width % 32 == 0:\n",
    "        #     print(\"Height and width are divisible by 32\")\n",
    "        # else:\n",
    "        #     print(\"Height and width are not divisible by 32\")\n",
    "\n",
    "        output = model(images.to(device))\n",
    "        classes_output = (output > 0.5).float()\n",
    "        # output = torch.softmax(output, dim=1)\n",
    "        # output = torch.argmax(output, dim=1)\n",
    "        # class_output = torch.sigmoid(output)\n",
    "        # class_output = torch.round(output)\n",
    "\n",
    "        print(\"output\")\n",
    "        print(type(output))\n",
    "        print(output.shape)\n",
    "        print(output.max())\n",
    "        print(output.min())\n",
    "        print()\n",
    "        # print(\"masks\")\n",
    "        # print(type(masks))\n",
    "        # print(masks.shape)\n",
    "        # print(masks.max())\n",
    "        # print(masks.min())\n",
    "        # print()\n",
    "        # print(\"class_output\")\n",
    "        # print(type(class_output))\n",
    "        # print(class_output.shape)\n",
    "        # print(class_output.max())\n",
    "        # print(class_output.min())\n",
    "        # print()\n",
    "\n",
    "        # images = to_pil_transform(images.squeeze())\n",
    "        # images.show()\n",
    "        # images_array = np.array(images)\n",
    "\n",
    "        # Show the images using matplotlib\n",
    "        # plt.imshow(images_array, cmap='gray')\n",
    "        # plt.axis('off')\n",
    "\n",
    "        # output = to_pil_transform(output.squeeze())\n",
    "        # output.show()\n",
    "        # output_array = np.array(output.squeeze())\n",
    "\n",
    "        # Show the output using matplotlib\n",
    "        # plt.figure()\n",
    "        # plt.imshow(output_array, cmap='gray')\n",
    "        # plt.axis('off')\n",
    "        # plt.show()\n",
    "\n",
    "        # class_output_array = np.array(class_output.squeeze())\n",
    "\n",
    "        # masks_pil= to_pil_transform(masks.squeeze())\n",
    "        # masks.show()\n",
    "        # Convert the PIL Image to a numpy array\n",
    "        # mask_array = np.array(masks_pil)\n",
    "\n",
    "        # Show the mask using matplotlib\n",
    "        # plt.imshow(mask_array, cmap='gray')\n",
    "        # plt.axis('off')\n",
    "        # plt.show()\n",
    "\n",
    "        tp, fp, fn, tn = smp.metrics.get_stats(\n",
    "            class_output.squeeze().to(\"cpu\"),\n",
    "            masks.int().squeeze(),\n",
    "            mode=\"binary\",\n",
    "            threshold=0.5,\n",
    "            # output.squeeze().to(\"cpu\"), masks.int().squeeze(), mode=\"binary\", threshold=0.5\n",
    "        )\n",
    "        # print(f\"TP: {tp}\")\n",
    "        # print(f\"FP: {fp}\")\n",
    "        # print(f\"TN: {tn}\")\n",
    "        # print(f\"FN: {fn}\")\n",
    "\n",
    "        iou_score = smp.metrics.iou_score(tp, fp, fn, tn, reduction=\"micro\")\n",
    "        print(f\"IoU score: {iou_score}\")\n",
    "\n",
    "        cumulated_iou_score += iou_score\n",
    "        del images, masks, output\n",
    "        gc.collect()\n",
    "        torch.cuda.empty_cache()\n",
    "\n",
    "        if i >= 1:\n",
    "            break\n",
    "\n",
    "average_iou_score = cumulated_iou_score / i\n",
    "print(f\"Average IoU score: {average_iou_score}\")"
   ]
  },
  {
   "cell_type": "code",
   "execution_count": null,
   "metadata": {},
   "outputs": [],
   "source": [
    "plt.imshow(images_array, cmap=\"gray\")\n",
    "plt.axis(\"off\")\n",
    "plt.show()"
   ]
  },
  {
   "cell_type": "code",
   "execution_count": null,
   "metadata": {},
   "outputs": [],
   "source": [
    "plt.imshow(mask_array, cmap=\"gray\")\n",
    "plt.axis(\"off\")\n",
    "plt.show()"
   ]
  },
  {
   "cell_type": "code",
   "execution_count": null,
   "metadata": {},
   "outputs": [],
   "source": [
    "# plt.imshow(output_array, cmap='gray')\n",
    "# plt.axis('off')\n",
    "# plt.show()\n",
    "plt.matshow(output_array[0, :, :])\n",
    "plt.matshow(output_array[1, :, :])"
   ]
  },
  {
   "cell_type": "code",
   "execution_count": null,
   "metadata": {},
   "outputs": [],
   "source": [
    "plt.imshow(class_output_array, cmap=\"gray\")\n",
    "plt.axis(\"off\")\n",
    "plt.show()"
   ]
  },
  {
   "cell_type": "code",
   "execution_count": null,
   "metadata": {},
   "outputs": [],
   "source": [
    "plt.matshow(class_output_array)"
   ]
  },
  {
   "cell_type": "code",
   "execution_count": null,
   "metadata": {},
   "outputs": [],
   "source": [
    "class_output_array"
   ]
  },
  {
   "cell_type": "code",
   "execution_count": null,
   "metadata": {},
   "outputs": [],
   "source": [
    "class_output_array.max()"
   ]
  },
  {
   "cell_type": "code",
   "execution_count": null,
   "metadata": {},
   "outputs": [],
   "source": [
    "class_output_array.min()"
   ]
  },
  {
   "cell_type": "code",
   "execution_count": null,
   "metadata": {},
   "outputs": [],
   "source": [
    "unique, counts = np.unique(class_output_array, return_counts=True)\n",
    "print(dict(zip(unique, counts)))"
   ]
  },
  {
   "cell_type": "code",
   "execution_count": null,
   "metadata": {},
   "outputs": [],
   "source": []
  }
 ],
 "metadata": {
  "kernelspec": {
   "display_name": "Python 3",
   "language": "python",
   "name": "python3"
  },
  "language_info": {
   "codemirror_mode": {
    "name": "ipython",
    "version": 3
   },
   "file_extension": ".py",
   "mimetype": "text/x-python",
   "name": "python",
   "nbconvert_exporter": "python",
   "pygments_lexer": "ipython3",
   "version": "3.10.3"
  }
 },
 "nbformat": 4,
 "nbformat_minor": 2
}
