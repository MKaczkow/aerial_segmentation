{
 "cells": [
  {
   "cell_type": "code",
   "execution_count": 1,
   "metadata": {},
   "outputs": [
    {
     "name": "stderr",
     "output_type": "stream",
     "text": [
      "d:\\__repos\\aerial_segmentation\\venv\\lib\\site-packages\\tqdm\\auto.py:21: TqdmWarning: IProgress not found. Please update jupyter and ipywidgets. See https://ipywidgets.readthedocs.io/en/stable/user_install.html\n",
      "  from .autonotebook import tqdm as notebook_tqdm\n"
     ]
    }
   ],
   "source": [
    "import numpy as np\n",
    "import matplotlib.pyplot as plt\n",
    "\n",
    "import torch\n",
    "from torch.utils.data import DataLoader\n",
    "from torchvision import transforms\n",
    "from torchvision.transforms import Resize\n",
    "import segmentation_models_pytorch as smp\n",
    "\n",
    "from src.models.BaselineModel import BaselineModel\n",
    "from src.evaluation.evaluate_result import evaluate_result\n",
    "from src.datasets.INRIAAerialImageLabellingDataset import (\n",
    "    INRIAAerialImageLabellingDataset,\n",
    ")\n",
    "\n",
    "from src.datasets.utils.ResizeToDivisibleBy32 import ResizeToDivisibleBy32"
   ]
  },
  {
   "cell_type": "markdown",
   "metadata": {},
   "source": [
    "## Prepare environment"
   ]
  },
  {
   "cell_type": "code",
   "execution_count": 2,
   "metadata": {},
   "outputs": [
    {
     "data": {
      "text/plain": [
       "True"
      ]
     },
     "execution_count": 2,
     "metadata": {},
     "output_type": "execute_result"
    }
   ],
   "source": [
    "torch.cuda.is_available()"
   ]
  },
  {
   "cell_type": "code",
   "execution_count": 3,
   "metadata": {},
   "outputs": [
    {
     "name": "stdout",
     "output_type": "stream",
     "text": [
      "cuda\n"
     ]
    }
   ],
   "source": [
    "device = torch.device(\"cuda\" if torch.cuda.is_available() else \"cpu\")\n",
    "print(device)"
   ]
  },
  {
   "cell_type": "code",
   "execution_count": 7,
   "metadata": {},
   "outputs": [],
   "source": [
    "VAL_SIZE = 0.2\n",
    "BATCH_SIZE = 1\n",
    "SEED = 42\n",
    "IMAGE_SIZE = 576\n",
    "INRIA_DATASET_PATH = \"data/INRIAAerialImageLabellingDataset\"  # home PC\n",
    "# INRIA_DATASET_PATH = \"data/TestSubsets/INRIAAerialImageLabellingDataset\"  # laptop"
   ]
  },
  {
   "cell_type": "code",
   "execution_count": 8,
   "metadata": {},
   "outputs": [
    {
     "name": "stdout",
     "output_type": "stream",
     "text": [
      "data/INRIAAerialImageLabellingDataset\\train\n",
      "180\n"
     ]
    }
   ],
   "source": [
    "labeled_dataset = INRIAAerialImageLabellingDataset(\n",
    "    INRIA_DATASET_PATH,\n",
    "    transforms=[\n",
    "        Resize(IMAGE_SIZE),\n",
    "        # ResizeToDivisibleBy32()\n",
    "    ],\n",
    ")\n",
    "print(len(labeled_dataset))"
   ]
  },
  {
   "cell_type": "code",
   "execution_count": 9,
   "metadata": {},
   "outputs": [
    {
     "name": "stdout",
     "output_type": "stream",
     "text": [
      "data/INRIAAerialImageLabellingDataset\\test\n",
      "144\n"
     ]
    }
   ],
   "source": [
    "test_dataset = INRIAAerialImageLabellingDataset(\n",
    "    INRIA_DATASET_PATH,\n",
    "    split=\"test\",\n",
    "    transforms=[\n",
    "        Resize(IMAGE_SIZE),\n",
    "        # ResizeToDivisibleBy32()\n",
    "    ],\n",
    ")\n",
    "print(len(test_dataset))"
   ]
  },
  {
   "cell_type": "markdown",
   "metadata": {},
   "source": [
    "## Sanity check data"
   ]
  },
  {
   "cell_type": "code",
   "execution_count": 10,
   "metadata": {},
   "outputs": [],
   "source": [
    "train_loader = DataLoader(labeled_dataset, batch_size=BATCH_SIZE, shuffle=True)\n",
    "test_loader = DataLoader(test_dataset, batch_size=BATCH_SIZE, shuffle=True)"
   ]
  },
  {
   "cell_type": "code",
   "execution_count": 11,
   "metadata": {},
   "outputs": [
    {
     "name": "stdout",
     "output_type": "stream",
     "text": [
      "torch.Size([1, 3, 576, 576])\n",
      "torch.Size([1, 1, 576, 576])\n"
     ]
    }
   ],
   "source": [
    "for images, masks in train_loader:\n",
    "    print(images.shape)\n",
    "    print(masks.shape)\n",
    "    break"
   ]
  },
  {
   "cell_type": "code",
   "execution_count": 12,
   "metadata": {},
   "outputs": [],
   "source": [
    "to_pil_transform = transforms.ToPILImage()"
   ]
  },
  {
   "cell_type": "code",
   "execution_count": 13,
   "metadata": {},
   "outputs": [],
   "source": [
    "img = to_pil_transform(images.squeeze())"
   ]
  },
  {
   "cell_type": "code",
   "execution_count": 14,
   "metadata": {},
   "outputs": [],
   "source": [
    "# plt.imsave(\"assets/inria-example-image.jpeg\", np.array(img))"
   ]
  },
  {
   "cell_type": "code",
   "execution_count": 15,
   "metadata": {},
   "outputs": [],
   "source": [
    "# img.show()"
   ]
  },
  {
   "cell_type": "code",
   "execution_count": 16,
   "metadata": {},
   "outputs": [],
   "source": [
    "msk = to_pil_transform(masks.squeeze())"
   ]
  },
  {
   "cell_type": "code",
   "execution_count": 17,
   "metadata": {},
   "outputs": [],
   "source": [
    "# plt.imsave(\"assets/inria-example-mask.jpeg\", np.array(msk))"
   ]
  },
  {
   "cell_type": "code",
   "execution_count": 18,
   "metadata": {},
   "outputs": [],
   "source": [
    "# msk.show()"
   ]
  },
  {
   "cell_type": "markdown",
   "metadata": {},
   "source": [
    "# UNET"
   ]
  },
  {
   "cell_type": "markdown",
   "metadata": {},
   "source": [
    "## Run example model on single image"
   ]
  },
  {
   "cell_type": "code",
   "execution_count": 19,
   "metadata": {},
   "outputs": [],
   "source": [
    "model = smp.Unet(\n",
    "    encoder_name=\"resnet18\",  # choose encoder, e.g. mobilenet_v2 or efficientnet-b7\n",
    "    encoder_weights=\"imagenet\",  # use `imagenet` pre-trained weights for encoder initialization\n",
    "    in_channels=3,  # model input channels (1 for gray-scale images, 3 for RGB, etc.)\n",
    "    classes=1,  # model output channels (number of classes in your dataset)\n",
    ").to(device)"
   ]
  },
  {
   "cell_type": "code",
   "execution_count": 20,
   "metadata": {},
   "outputs": [],
   "source": [
    "baseline_model = BaselineModel()"
   ]
  },
  {
   "cell_type": "code",
   "execution_count": 21,
   "metadata": {},
   "outputs": [],
   "source": [
    "torch.cuda.empty_cache()"
   ]
  },
  {
   "cell_type": "code",
   "execution_count": 22,
   "metadata": {},
   "outputs": [
    {
     "name": "stdout",
     "output_type": "stream",
     "text": [
      "torch.Size([1, 3, 576, 576])\n",
      "torch.Size([1, 1, 576, 576])\n"
     ]
    }
   ],
   "source": [
    "model.eval()\n",
    "with torch.no_grad():\n",
    "    for images, masks in train_loader:\n",
    "        print(images.shape)\n",
    "        print(masks.shape)\n",
    "        break\n",
    "    output = model(images.to(device))\n",
    "    output = (output > 0.5).float()\n",
    "\n",
    "    output_baseline = baseline_model(images.to(device))\n",
    "    output_baseline = (output_baseline > 0.5).float()"
   ]
  },
  {
   "cell_type": "code",
   "execution_count": 23,
   "metadata": {},
   "outputs": [
    {
     "name": "stdout",
     "output_type": "stream",
     "text": [
      "torch.Size([1, 1, 576, 576])\n"
     ]
    }
   ],
   "source": [
    "print(output.shape)"
   ]
  },
  {
   "cell_type": "code",
   "execution_count": 24,
   "metadata": {},
   "outputs": [
    {
     "name": "stdout",
     "output_type": "stream",
     "text": [
      "torch.Size([1, 1, 576, 576])\n"
     ]
    }
   ],
   "source": [
    "print(output_baseline.shape)"
   ]
  },
  {
   "cell_type": "code",
   "execution_count": 25,
   "metadata": {},
   "outputs": [],
   "source": [
    "outp = to_pil_transform(output.squeeze().cpu().numpy())"
   ]
  },
  {
   "cell_type": "code",
   "execution_count": 26,
   "metadata": {},
   "outputs": [
    {
     "name": "stdout",
     "output_type": "stream",
     "text": [
      "{0: 329368, 255: 2408}\n"
     ]
    }
   ],
   "source": [
    "unique, counts = np.unique(outp, return_counts=True)\n",
    "print(dict(zip(unique, counts)))"
   ]
  },
  {
   "cell_type": "code",
   "execution_count": 27,
   "metadata": {},
   "outputs": [
    {
     "name": "stdout",
     "output_type": "stream",
     "text": [
      "{0.0: 329368, 1.0: 2408}\n"
     ]
    }
   ],
   "source": [
    "unique, counts = np.unique(output.cpu(), return_counts=True)\n",
    "print(dict(zip(unique, counts)))"
   ]
  },
  {
   "cell_type": "code",
   "execution_count": 28,
   "metadata": {},
   "outputs": [],
   "source": [
    "# outp.show()"
   ]
  },
  {
   "cell_type": "code",
   "execution_count": 29,
   "metadata": {},
   "outputs": [],
   "source": [
    "rand_outp = to_pil_transform(output_baseline.squeeze().cpu().numpy())"
   ]
  },
  {
   "cell_type": "code",
   "execution_count": 30,
   "metadata": {},
   "outputs": [
    {
     "name": "stdout",
     "output_type": "stream",
     "text": [
      "{0: 165760, 255: 166016}\n"
     ]
    }
   ],
   "source": [
    "unique, counts = np.unique(rand_outp, return_counts=True)\n",
    "print(dict(zip(unique, counts)))"
   ]
  },
  {
   "cell_type": "code",
   "execution_count": 31,
   "metadata": {},
   "outputs": [],
   "source": [
    "# rand_outp.show()"
   ]
  },
  {
   "cell_type": "code",
   "execution_count": 32,
   "metadata": {},
   "outputs": [
    {
     "data": {
      "text/plain": [
       "{'iou': tensor(0.0058),\n",
       " 'f1': tensor(0.0115),\n",
       " 'accuracy': tensor(0.9227),\n",
       " 'recall': tensor(0.0124)}"
      ]
     },
     "execution_count": 32,
     "metadata": {},
     "output_type": "execute_result"
    }
   ],
   "source": [
    "evaluate_result(output, masks)"
   ]
  },
  {
   "cell_type": "code",
   "execution_count": 33,
   "metadata": {},
   "outputs": [
    {
     "data": {
      "text/plain": [
       "{'iou': tensor(0.0665),\n",
       " 'f1': tensor(0.1247),\n",
       " 'accuracy': tensor(0.4999),\n",
       " 'recall': tensor(0.5045)}"
      ]
     },
     "execution_count": 33,
     "metadata": {},
     "output_type": "execute_result"
    }
   ],
   "source": [
    "evaluate_result(output_baseline, masks)"
   ]
  },
  {
   "cell_type": "code",
   "execution_count": 34,
   "metadata": {},
   "outputs": [
    {
     "data": {
      "text/plain": [
       "{'iou': tensor(1.),\n",
       " 'f1': tensor(1.),\n",
       " 'accuracy': tensor(1.),\n",
       " 'recall': tensor(1.)}"
      ]
     },
     "execution_count": 34,
     "metadata": {},
     "output_type": "execute_result"
    }
   ],
   "source": [
    "evaluate_result(masks, masks)"
   ]
  },
  {
   "cell_type": "markdown",
   "metadata": {},
   "source": [
    "## Run example model on dataset"
   ]
  },
  {
   "cell_type": "code",
   "execution_count": 35,
   "metadata": {},
   "outputs": [],
   "source": [
    "model.eval()\n",
    "metrics_dict = {\n",
    "    \"iou\": [],\n",
    "    \"f1\": [],\n",
    "    \"accuracy\": [],\n",
    "    \"recall\": [],\n",
    "}"
   ]
  },
  {
   "cell_type": "code",
   "execution_count": 36,
   "metadata": {},
   "outputs": [],
   "source": [
    "with torch.no_grad():\n",
    "    for images, masks in train_loader:\n",
    "        output = model(images.to(device))\n",
    "        output = (output > 0.5).float()\n",
    "\n",
    "        iter_metrics = evaluate_result(output, masks)\n",
    "        for key in metrics_dict.keys():\n",
    "            metrics_dict[key].append(iter_metrics[key])"
   ]
  },
  {
   "cell_type": "code",
   "execution_count": 37,
   "metadata": {},
   "outputs": [
    {
     "name": "stdout",
     "output_type": "stream",
     "text": [
      "{'iou': [tensor(0.0076), tensor(0.0028), tensor(0.0123), tensor(0.0083), tensor(0.0092), tensor(0.0060), tensor(0.0058), tensor(0.0043), tensor(0.0108), tensor(0.0087), tensor(0.0071), tensor(0.0072), tensor(0.0099), tensor(0.0068), tensor(0.0081), tensor(0.0210), tensor(0.0040), tensor(0.0052), tensor(0.0068), tensor(0.0078), tensor(0.0091), tensor(0.0004), tensor(0.0073), tensor(0.0100), tensor(0.0066), tensor(0.0066), tensor(0.0164), tensor(0.0086), tensor(0.0147), tensor(0.0144), tensor(0.0095), tensor(0.0060), tensor(0.0362), tensor(0.0023), tensor(0.0034), tensor(0.0056), tensor(0.0082), tensor(0.0052), tensor(0.0062), tensor(0.0026), tensor(0.0041), tensor(0.0113), tensor(0.0033), tensor(0.0059), tensor(0.0084), tensor(0.0074), tensor(0.0058), tensor(0.0140), tensor(0.0081), tensor(0.0158), tensor(0.0093), tensor(0.0055), tensor(0.0002), tensor(0.0041), tensor(0.0131), tensor(0.0088), tensor(0.0161), tensor(0.0036), tensor(0.0038), tensor(0.0154), tensor(0.0091), tensor(0.0041), tensor(0.0094), tensor(0.0086), tensor(0.0175), tensor(0.0050), tensor(0.0045), tensor(0.0090), tensor(0.0007), tensor(0.0033), tensor(0.0043), tensor(0.0039), tensor(0.0193), tensor(0.0219), tensor(0.0042), tensor(0.0034), tensor(0.0035), tensor(0.0074), tensor(0.0089), tensor(0.0058), tensor(0.0098), tensor(0.0054), tensor(0.0089), tensor(0.0088), tensor(0.0026), tensor(0.0122), tensor(0.0198), tensor(0.0076), tensor(0.0041), tensor(0.0042), tensor(0.0024), tensor(0.0051), tensor(0.0096), tensor(0.0015), tensor(0.0095), tensor(0.0029), tensor(0.0076), tensor(0.0086), tensor(0.0069), tensor(0.0026), tensor(0.0021), tensor(0.0083), tensor(0.0100), tensor(0.0112), tensor(0.0014), tensor(0.0115), tensor(0.0058), tensor(0.0020), tensor(0.0115), tensor(0.0123), tensor(0.0085), tensor(0.0020), tensor(0.0055), tensor(0.0024), tensor(0.0056), tensor(0.0032), tensor(0.0074), tensor(0.0065), tensor(0.0083), tensor(0.0084), tensor(0.0076), tensor(0.0100), tensor(0.0042), tensor(0.0038), tensor(0.0041), tensor(0.0061), tensor(0.0100), tensor(0.0182), tensor(0.0204), tensor(0.0030), tensor(0.0048), tensor(0.0009), tensor(0.0088), tensor(0.0133), tensor(0.0062), tensor(0.0007), tensor(0.0035), tensor(0.0049), tensor(0.0066), tensor(0.0034), tensor(0.0180), tensor(0.0015), tensor(0.0055), tensor(0.0020), tensor(0.0097), tensor(0.0060), tensor(0.0011), tensor(0.0049), tensor(0.0014), tensor(0.0106), tensor(0.0129), tensor(0.0146), tensor(0.0087), tensor(0.0070), tensor(0.0095), tensor(0.0080), tensor(0.0090), tensor(0.0031), tensor(0.0099), tensor(0.0080), tensor(0.0136), tensor(0.0081), tensor(0.0041), tensor(0.0016), tensor(0.0040), tensor(0.0058), tensor(0.0092), tensor(0.0017), tensor(0.0077), tensor(0.), tensor(0.0075), tensor(0.0087), tensor(0.0049), tensor(0.0088), tensor(0.0136), tensor(0.0028), tensor(0.0112), tensor(0.0071), tensor(0.0052), tensor(0.0077)], 'f1': [tensor(0.0150), tensor(0.0056), tensor(0.0243), tensor(0.0165), tensor(0.0183), tensor(0.0118), tensor(0.0114), tensor(0.0086), tensor(0.0213), tensor(0.0172), tensor(0.0142), tensor(0.0143), tensor(0.0196), tensor(0.0135), tensor(0.0161), tensor(0.0412), tensor(0.0079), tensor(0.0103), tensor(0.0135), tensor(0.0155), tensor(0.0181), tensor(0.0009), tensor(0.0146), tensor(0.0199), tensor(0.0131), tensor(0.0132), tensor(0.0322), tensor(0.0171), tensor(0.0289), tensor(0.0284), tensor(0.0189), tensor(0.0119), tensor(0.0699), tensor(0.0045), tensor(0.0067), tensor(0.0111), tensor(0.0162), tensor(0.0103), tensor(0.0123), tensor(0.0051), tensor(0.0081), tensor(0.0223), tensor(0.0065), tensor(0.0117), tensor(0.0166), tensor(0.0147), tensor(0.0116), tensor(0.0276), tensor(0.0160), tensor(0.0311), tensor(0.0184), tensor(0.0109), tensor(0.0003), tensor(0.0082), tensor(0.0258), tensor(0.0174), tensor(0.0317), tensor(0.0071), tensor(0.0076), tensor(0.0304), tensor(0.0180), tensor(0.0082), tensor(0.0187), tensor(0.0170), tensor(0.0343), tensor(0.0100), tensor(0.0089), tensor(0.0179), tensor(0.0015), tensor(0.0066), tensor(0.0086), tensor(0.0079), tensor(0.0378), tensor(0.0428), tensor(0.0083), tensor(0.0068), tensor(0.0070), tensor(0.0147), tensor(0.0177), tensor(0.0115), tensor(0.0194), tensor(0.0107), tensor(0.0177), tensor(0.0174), tensor(0.0051), tensor(0.0242), tensor(0.0388), tensor(0.0151), tensor(0.0083), tensor(0.0083), tensor(0.0047), tensor(0.0102), tensor(0.0191), tensor(0.0030), tensor(0.0188), tensor(0.0057), tensor(0.0150), tensor(0.0171), tensor(0.0138), tensor(0.0052), tensor(0.0043), tensor(0.0165), tensor(0.0199), tensor(0.0222), tensor(0.0028), tensor(0.0227), tensor(0.0116), tensor(0.0040), tensor(0.0228), tensor(0.0244), tensor(0.0168), tensor(0.0039), tensor(0.0110), tensor(0.0048), tensor(0.0112), tensor(0.0063), tensor(0.0148), tensor(0.0130), tensor(0.0165), tensor(0.0167), tensor(0.0151), tensor(0.0197), tensor(0.0083), tensor(0.0076), tensor(0.0082), tensor(0.0120), tensor(0.0198), tensor(0.0358), tensor(0.0400), tensor(0.0061), tensor(0.0096), tensor(0.0017), tensor(0.0175), tensor(0.0262), tensor(0.0122), tensor(0.0013), tensor(0.0070), tensor(0.0098), tensor(0.0131), tensor(0.0068), tensor(0.0353), tensor(0.0031), tensor(0.0109), tensor(0.0041), tensor(0.0192), tensor(0.0120), tensor(0.0023), tensor(0.0097), tensor(0.0028), tensor(0.0210), tensor(0.0255), tensor(0.0288), tensor(0.0172), tensor(0.0139), tensor(0.0188), tensor(0.0159), tensor(0.0179), tensor(0.0061), tensor(0.0196), tensor(0.0159), tensor(0.0269), tensor(0.0161), tensor(0.0082), tensor(0.0031), tensor(0.0080), tensor(0.0116), tensor(0.0182), tensor(0.0034), tensor(0.0153), tensor(0.), tensor(0.0148), tensor(0.0172), tensor(0.0097), tensor(0.0174), tensor(0.0268), tensor(0.0055), tensor(0.0221), tensor(0.0141), tensor(0.0103), tensor(0.0152)], 'accuracy': [tensor(0.9759), tensor(0.9827), tensor(0.9685), tensor(0.9744), tensor(0.9621), tensor(0.9718), tensor(0.9276), tensor(0.9500), tensor(0.9706), tensor(0.9563), tensor(0.9706), tensor(0.9834), tensor(0.9660), tensor(0.9691), tensor(0.9727), tensor(0.9621), tensor(0.9690), tensor(0.9803), tensor(0.9231), tensor(0.9640), tensor(0.9680), tensor(0.9859), tensor(0.9784), tensor(0.9813), tensor(0.9678), tensor(0.9427), tensor(0.9654), tensor(0.9762), tensor(0.9638), tensor(0.9336), tensor(0.9725), tensor(0.9840), tensor(0.9781), tensor(0.9921), tensor(0.9591), tensor(0.9661), tensor(0.9593), tensor(0.9775), tensor(0.9555), tensor(0.9918), tensor(0.9728), tensor(0.9743), tensor(0.9853), tensor(0.9781), tensor(0.9765), tensor(0.9381), tensor(0.9583), tensor(0.9245), tensor(0.9321), tensor(0.9575), tensor(0.9762), tensor(0.9853), tensor(0.9809), tensor(0.9433), tensor(0.9911), tensor(0.9288), tensor(0.9416), tensor(0.9715), tensor(0.9702), tensor(0.9621), tensor(0.9502), tensor(0.9752), tensor(0.9645), tensor(0.9729), tensor(0.9443), tensor(0.9685), tensor(0.9813), tensor(0.9692), tensor(0.9918), tensor(0.9703), tensor(0.9827), tensor(0.9665), tensor(0.9811), tensor(0.9640), tensor(0.9611), tensor(0.9516), tensor(0.9709), tensor(0.9425), tensor(0.9455), tensor(0.9227), tensor(0.9723), tensor(0.9443), tensor(0.9561), tensor(0.9595), tensor(0.9523), tensor(0.9535), tensor(0.9340), tensor(0.9812), tensor(0.9399), tensor(0.9720), tensor(0.9886), tensor(0.9889), tensor(0.9646), tensor(0.9781), tensor(0.9320), tensor(0.9874), tensor(0.9751), tensor(0.9875), tensor(0.9720), tensor(0.9586), tensor(0.9831), tensor(0.9471), tensor(0.9693), tensor(0.9793), tensor(0.9873), tensor(0.9440), tensor(0.9532), tensor(0.9590), tensor(0.9610), tensor(0.9783), tensor(0.9732), tensor(0.9557), tensor(0.9641), tensor(0.9863), tensor(0.9643), tensor(0.9685), tensor(0.9385), tensor(0.9483), tensor(0.9221), tensor(0.9046), tensor(0.9616), tensor(0.9374), tensor(0.9676), tensor(0.9844), tensor(0.9730), tensor(0.9614), tensor(0.9681), tensor(0.9750), tensor(0.9692), tensor(0.9793), tensor(0.9352), tensor(0.9648), tensor(0.9287), tensor(0.9637), tensor(0.9674), tensor(0.9816), tensor(0.9556), tensor(0.9640), tensor(0.9768), tensor(0.9659), tensor(0.9713), tensor(0.9902), tensor(0.9770), tensor(0.9868), tensor(0.9604), tensor(0.9559), tensor(0.9761), tensor(0.9540), tensor(0.9788), tensor(0.9575), tensor(0.9393), tensor(0.9756), tensor(0.9668), tensor(0.9423), tensor(0.9493), tensor(0.9444), tensor(0.9610), tensor(0.9648), tensor(0.9548), tensor(0.9618), tensor(0.9390), tensor(0.9208), tensor(0.9582), tensor(0.9864), tensor(0.9447), tensor(0.9650), tensor(0.9753), tensor(0.9858), tensor(0.9283), tensor(0.9887), tensor(0.9864), tensor(0.9540), tensor(0.9547), tensor(0.9694), tensor(0.9680), tensor(0.9825), tensor(0.9811), tensor(0.9368), tensor(0.9775), tensor(0.9461)], 'recall': [tensor(0.3182), tensor(0.7009), tensor(0.1728), tensor(0.1312), tensor(0.2282), tensor(0.1697), tensor(0.1122), tensor(0.0189), tensor(0.1301), tensor(0.1376), tensor(0.2325), tensor(0.3453), tensor(0.1050), tensor(0.0716), tensor(0.1323), tensor(0.2952), tensor(0.5445), tensor(0.5081), tensor(0.0931), tensor(0.7573), tensor(0.0757), tensor(0.8160), tensor(0.0756), tensor(0.2641), tensor(0.0748), tensor(0.0165), tensor(0.0798), tensor(0.1264), tensor(0.1852), tensor(0.0326), tensor(0.0748), tensor(0.5105), tensor(0.5859), tensor(0.7073), tensor(0.1094), tensor(0.0852), tensor(0.4111), tensor(0.3634), tensor(0.0535), tensor(0.5741), tensor(0.1656), tensor(0.3074), tensor(0.1442), tensor(0.0688), tensor(0.1734), tensor(0.0744), tensor(0.1540), tensor(0.0273), tensor(0.0180), tensor(0.2574), tensor(0.1410), tensor(0.6085), tensor(0.7922), tensor(0.6481), tensor(0.7981), tensor(0.0128), tensor(0.0500), tensor(0.5885), tensor(0.2148), tensor(0.1327), tensor(0.0327), tensor(0.6691), tensor(0.1020), tensor(0.1190), tensor(0.2640), tensor(0.1361), tensor(0.3683), tensor(0.5301), tensor(0.7474), tensor(0.4464), tensor(0.4931), tensor(0.1496), tensor(0.7001), tensor(0.3286), tensor(0.0646), tensor(0.1211), tensor(0.4921), tensor(0.0426), tensor(0.0214), tensor(0.0124), tensor(0.1114), tensor(0.1111), tensor(0.0369), tensor(0.0588), tensor(0.0550), tensor(0.4498), tensor(0.1155), tensor(0.1540), tensor(0.1353), tensor(0.5954), tensor(0.7930), tensor(0.5777), tensor(0.0769), tensor(0.6035), tensor(0.0256), tensor(0.4097), tensor(0.1444), tensor(0.5239), tensor(0.5169), tensor(0.5879), tensor(0.6228), tensor(0.0182), tensor(0.1403), tensor(0.2000), tensor(0.3271), tensor(0.0342), tensor(0.3476), tensor(0.8027), tensor(0.2054), tensor(0.3792), tensor(0.2510), tensor(0.1459), tensor(0.1845), tensor(0.2301), tensor(0.5715), tensor(0.0661), tensor(0.5588), tensor(0.1069), tensor(0.0151), tensor(0.0946), tensor(0.0973), tensor(0.0182), tensor(0.5424), tensor(0.5754), tensor(0.3071), tensor(0.1380), tensor(0.2639), tensor(0.1655), tensor(0.0869), tensor(0.5929), tensor(0.0706), tensor(0.6292), tensor(0.0875), tensor(0.1296), tensor(0.1812), tensor(0.8264), tensor(0.1149), tensor(0.2339), tensor(0.1442), tensor(0.2114), tensor(0.3366), tensor(0.5749), tensor(0.6376), tensor(0.7832), tensor(0.1389), tensor(0.1849), tensor(0.6375), tensor(0.1543), tensor(0.4472), tensor(0.1743), tensor(0.0391), tensor(0.1067), tensor(0.2201), tensor(0.0881), tensor(0.0391), tensor(0.1397), tensor(0.1162), tensor(0.4682), tensor(0.0596), tensor(0.2966), tensor(0.0344), tensor(0.0180), tensor(0.0578), tensor(0.8748), tensor(0.1618), tensor(0.3166), tensor(0.1760), tensor(0.7148), tensor(0.0150), tensor(0.9688), tensor(0.3453), tensor(0.0951), tensor(0.4618), tensor(0.1042), tensor(0.4097), tensor(0.5261), tensor(0.9048), tensor(0.0301), tensor(0.1859), tensor(0.0160)]}\n"
     ]
    }
   ],
   "source": [
    "print(metrics_dict)"
   ]
  },
  {
   "cell_type": "code",
   "execution_count": 38,
   "metadata": {},
   "outputs": [
    {
     "name": "stdout",
     "output_type": "stream",
     "text": [
      "{'iou': 0.007533122, 'f1': 0.014907256, 'accuracy': 0.96392655, 'recall': 0.28058752}\n"
     ]
    }
   ],
   "source": [
    "print({key: np.mean(value) for key, value in metrics_dict.items()})"
   ]
  },
  {
   "cell_type": "markdown",
   "metadata": {},
   "source": [
    "# UNET++"
   ]
  },
  {
   "cell_type": "markdown",
   "metadata": {},
   "source": [
    "## Run example model on single image"
   ]
  },
  {
   "cell_type": "code",
   "execution_count": 39,
   "metadata": {},
   "outputs": [],
   "source": [
    "model = smp.UnetPlusPlus(\n",
    "    encoder_name=\"resnet18\",  # choose encoder, e.g. mobilenet_v2 or efficientnet-b7\n",
    "    encoder_weights=\"imagenet\",  # use `imagenet` pre-trained weights for encoder initialization\n",
    "    in_channels=3,  # model input channels (1 for gray-scale images, 3 for RGB, etc.)\n",
    "    classes=1,  # model output channels (number of classes in your dataset)\n",
    ").to(device)"
   ]
  },
  {
   "cell_type": "code",
   "execution_count": 40,
   "metadata": {},
   "outputs": [],
   "source": [
    "baseline_model = BaselineModel()"
   ]
  },
  {
   "cell_type": "code",
   "execution_count": 41,
   "metadata": {},
   "outputs": [],
   "source": [
    "torch.cuda.empty_cache()"
   ]
  },
  {
   "cell_type": "code",
   "execution_count": 42,
   "metadata": {},
   "outputs": [
    {
     "name": "stdout",
     "output_type": "stream",
     "text": [
      "torch.Size([1, 3, 576, 576])\n",
      "torch.Size([1, 1, 576, 576])\n"
     ]
    }
   ],
   "source": [
    "model.eval()\n",
    "with torch.no_grad():\n",
    "    for images, masks in train_loader:\n",
    "        print(images.shape)\n",
    "        print(masks.shape)\n",
    "        break\n",
    "    output = model(images.to(device))\n",
    "    output = (output > 0.5).float()\n",
    "\n",
    "    output_baseline = baseline_model(images.to(device))\n",
    "    output_baseline = (output_baseline > 0.5).float()"
   ]
  },
  {
   "cell_type": "code",
   "execution_count": 43,
   "metadata": {},
   "outputs": [
    {
     "name": "stdout",
     "output_type": "stream",
     "text": [
      "torch.Size([1, 1, 576, 576])\n"
     ]
    }
   ],
   "source": [
    "print(output.shape)"
   ]
  },
  {
   "cell_type": "code",
   "execution_count": 44,
   "metadata": {},
   "outputs": [
    {
     "name": "stdout",
     "output_type": "stream",
     "text": [
      "torch.Size([1, 1, 576, 576])\n"
     ]
    }
   ],
   "source": [
    "print(output_baseline.shape)"
   ]
  },
  {
   "cell_type": "code",
   "execution_count": 45,
   "metadata": {},
   "outputs": [],
   "source": [
    "to_pil_transform = transforms.ToPILImage()"
   ]
  },
  {
   "cell_type": "code",
   "execution_count": 46,
   "metadata": {},
   "outputs": [],
   "source": [
    "img = to_pil_transform(images.squeeze())"
   ]
  },
  {
   "cell_type": "code",
   "execution_count": 47,
   "metadata": {},
   "outputs": [],
   "source": [
    "plt.imsave(\"assets/inria-example-image.jpeg\", np.array(img))"
   ]
  },
  {
   "cell_type": "code",
   "execution_count": 48,
   "metadata": {},
   "outputs": [],
   "source": [
    "# img.show()"
   ]
  },
  {
   "cell_type": "code",
   "execution_count": 49,
   "metadata": {},
   "outputs": [],
   "source": [
    "msk = to_pil_transform(masks.squeeze())"
   ]
  },
  {
   "cell_type": "code",
   "execution_count": 50,
   "metadata": {},
   "outputs": [],
   "source": [
    "plt.imsave(\"assets/inria-example-mask.jpeg\", np.array(msk))"
   ]
  },
  {
   "cell_type": "code",
   "execution_count": 51,
   "metadata": {},
   "outputs": [],
   "source": [
    "# msk.show()"
   ]
  },
  {
   "cell_type": "code",
   "execution_count": 52,
   "metadata": {},
   "outputs": [],
   "source": [
    "outp = to_pil_transform(output.squeeze().cpu())"
   ]
  },
  {
   "cell_type": "code",
   "execution_count": 53,
   "metadata": {},
   "outputs": [],
   "source": [
    "plt.imsave(\"assets/inria-example-unet-plus-plus-output.jpeg\", np.array(outp))"
   ]
  },
  {
   "cell_type": "code",
   "execution_count": 54,
   "metadata": {},
   "outputs": [],
   "source": [
    "# outp.show()"
   ]
  },
  {
   "cell_type": "code",
   "execution_count": 55,
   "metadata": {},
   "outputs": [
    {
     "data": {
      "text/plain": [
       "{'iou': tensor(0.),\n",
       " 'f1': tensor(0.),\n",
       " 'accuracy': tensor(0.9810),\n",
       " 'recall': tensor(0.0556)}"
      ]
     },
     "execution_count": 55,
     "metadata": {},
     "output_type": "execute_result"
    }
   ],
   "source": [
    "evaluate_result(output, masks)"
   ]
  },
  {
   "cell_type": "code",
   "execution_count": null,
   "metadata": {},
   "outputs": [],
   "source": []
  }
 ],
 "metadata": {
  "kernelspec": {
   "display_name": "Python 3",
   "language": "python",
   "name": "python3"
  },
  "language_info": {
   "codemirror_mode": {
    "name": "ipython",
    "version": 3
   },
   "file_extension": ".py",
   "mimetype": "text/x-python",
   "name": "python",
   "nbconvert_exporter": "python",
   "pygments_lexer": "ipython3",
   "version": "3.10.3"
  }
 },
 "nbformat": 4,
 "nbformat_minor": 2
}
