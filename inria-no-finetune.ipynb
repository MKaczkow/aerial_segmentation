{
 "cells": [
  {
   "cell_type": "code",
   "execution_count": 1,
   "metadata": {},
   "outputs": [
    {
     "name": "stderr",
     "output_type": "stream",
     "text": [
      "d:\\__repos\\aerial_segmentation\\venv\\lib\\site-packages\\tqdm\\auto.py:21: TqdmWarning: IProgress not found. Please update jupyter and ipywidgets. See https://ipywidgets.readthedocs.io/en/stable/user_install.html\n",
      "  from .autonotebook import tqdm as notebook_tqdm\n"
     ]
    }
   ],
   "source": [
    "import gc\n",
    "\n",
    "import matplotlib.pyplot as plt\n",
    "import numpy as np\n",
    "import pandas as pd\n",
    "from sklearn.model_selection import train_test_split\n",
    "\n",
    "import torch\n",
    "from torch.utils.data import DataLoader, Subset\n",
    "from torchvision import transforms\n",
    "import segmentation_models_pytorch as smp\n",
    "\n",
    "from src.datasets.INRIAAerialImageLabellingDataset import (\n",
    "    INRIAAerialImageLabellingDataset,\n",
    ")\n",
    "\n",
    "from src.datasets.utils.ResizeToDivisibleBy32 import ResizeToDivisibleBy32"
   ]
  },
  {
   "cell_type": "code",
   "execution_count": 2,
   "metadata": {},
   "outputs": [
    {
     "data": {
      "text/plain": [
       "True"
      ]
     },
     "execution_count": 2,
     "metadata": {},
     "output_type": "execute_result"
    }
   ],
   "source": [
    "torch.cuda.is_available()"
   ]
  },
  {
   "cell_type": "code",
   "execution_count": 3,
   "metadata": {},
   "outputs": [
    {
     "name": "stdout",
     "output_type": "stream",
     "text": [
      "cuda\n"
     ]
    }
   ],
   "source": [
    "device = torch.device(\"cuda\" if torch.cuda.is_available() else \"cpu\")\n",
    "print(device)"
   ]
  },
  {
   "cell_type": "code",
   "execution_count": 4,
   "metadata": {},
   "outputs": [],
   "source": [
    "VAL_SIZE = 0.2\n",
    "BATCH_SIZE = 1\n",
    "SEED = 42"
   ]
  },
  {
   "cell_type": "code",
   "execution_count": 5,
   "metadata": {},
   "outputs": [],
   "source": [
    "INRIA_DATASET_PATH = \"data/INRIAAerialImageLabellingDataset\""
   ]
  },
  {
   "cell_type": "code",
   "execution_count": 6,
   "metadata": {},
   "outputs": [
    {
     "name": "stdout",
     "output_type": "stream",
     "text": [
      "data/INRIAAerialImageLabellingDataset\\train\n",
      "180\n"
     ]
    }
   ],
   "source": [
    "labeled_dataset = INRIAAerialImageLabellingDataset(\n",
    "    INRIA_DATASET_PATH, transforms=[ResizeToDivisibleBy32()]\n",
    ")\n",
    "print(len(labeled_dataset))"
   ]
  },
  {
   "cell_type": "code",
   "execution_count": 7,
   "metadata": {},
   "outputs": [
    {
     "name": "stdout",
     "output_type": "stream",
     "text": [
      "data/INRIAAerialImageLabellingDataset\\test\n",
      "144\n"
     ]
    }
   ],
   "source": [
    "test_dataset = INRIAAerialImageLabellingDataset(\n",
    "    INRIA_DATASET_PATH, split=\"test\", transforms=[ResizeToDivisibleBy32()]\n",
    ")\n",
    "print(len(test_dataset))"
   ]
  },
  {
   "cell_type": "code",
   "execution_count": 8,
   "metadata": {},
   "outputs": [],
   "source": [
    "# train_indices, val_indices = train_test_split(\n",
    "#     range(len(labeled_dataset)),\n",
    "#     test_size=VAL_SIZE,\n",
    "#     random_state=SEED\n",
    "# )\n",
    "\n",
    "# print(f\"Number of training samples: {len(train_indices)}\")\n",
    "# print(f\"Number of validation samples: {len(val_indices)}\")"
   ]
  },
  {
   "cell_type": "code",
   "execution_count": 9,
   "metadata": {},
   "outputs": [],
   "source": [
    "# train_split = Subset(labeled_dataset, train_indices)\n",
    "# print(len(train_split))\n",
    "# val_split = Subset(labeled_dataset, val_indices)\n",
    "# print(len(val_split))"
   ]
  },
  {
   "cell_type": "code",
   "execution_count": 10,
   "metadata": {},
   "outputs": [],
   "source": [
    "# train_loader = DataLoader(train_split, batch_size=BATCH_SIZE, shuffle=True)\n",
    "# val_loader = DataLoader(val_split, batch_size=BATCH_SIZE, shuffle=True)\n",
    "\n",
    "train_loader = DataLoader(labeled_dataset, batch_size=BATCH_SIZE, shuffle=True)\n",
    "test_loader = DataLoader(test_dataset, batch_size=BATCH_SIZE, shuffle=True)"
   ]
  },
  {
   "cell_type": "code",
   "execution_count": 11,
   "metadata": {},
   "outputs": [
    {
     "name": "stdout",
     "output_type": "stream",
     "text": [
      "torch.Size([1, 3, 5024, 5024])\n",
      "torch.Size([1, 1, 5024, 5024])\n"
     ]
    }
   ],
   "source": [
    "for images, masks in train_loader:\n",
    "    print(images.shape)\n",
    "    print(masks.shape)\n",
    "    break"
   ]
  },
  {
   "cell_type": "code",
   "execution_count": 19,
   "metadata": {},
   "outputs": [],
   "source": [
    "to_pil_transform = transforms.ToPILImage()"
   ]
  },
  {
   "cell_type": "code",
   "execution_count": 12,
   "metadata": {},
   "outputs": [],
   "source": [
    "img = to_pil_transform(images.squeeze())"
   ]
  },
  {
   "cell_type": "code",
   "execution_count": 13,
   "metadata": {},
   "outputs": [],
   "source": [
    "img.show()"
   ]
  },
  {
   "cell_type": "code",
   "execution_count": 14,
   "metadata": {},
   "outputs": [],
   "source": [
    "msk = to_pil_transform(masks.squeeze())"
   ]
  },
  {
   "cell_type": "code",
   "execution_count": 49,
   "metadata": {},
   "outputs": [],
   "source": [
    "msk.show()"
   ]
  },
  {
   "cell_type": "code",
   "execution_count": 41,
   "metadata": {},
   "outputs": [],
   "source": [
    "model = smp.Unet(\n",
    "    encoder_name=\"resnet18\",  # choose encoder, e.g. mobilenet_v2 or efficientnet-b7\n",
    "    encoder_weights=\"imagenet\",  # use `imagenet` pre-trained weights for encoder initialization\n",
    "    in_channels=3,  # model input channels (1 for gray-scale images, 3 for RGB, etc.)\n",
    "    classes=1,  # model output channels (number of classes in your dataset)\n",
    "    # activation=\"softmax\"\n",
    ").to(device)"
   ]
  },
  {
   "cell_type": "code",
   "execution_count": 66,
   "metadata": {},
   "outputs": [],
   "source": [
    "class BaselineModel(torch.nn.Module):\n",
    "    def __init__(self, classes: int = 1):\n",
    "        super().__init__()\n",
    "        self.classes = classes\n",
    "\n",
    "    def forward(self, x) -> torch.Tensor:\n",
    "        return torch.rand(x.shape[0], self.classes, x.shape[2], x.shape[3])"
   ]
  },
  {
   "cell_type": "code",
   "execution_count": 67,
   "metadata": {},
   "outputs": [],
   "source": [
    "baseline_model = BaselineModel()"
   ]
  },
  {
   "cell_type": "code",
   "execution_count": 42,
   "metadata": {},
   "outputs": [],
   "source": [
    "torch.cuda.empty_cache()"
   ]
  },
  {
   "cell_type": "code",
   "execution_count": 81,
   "metadata": {},
   "outputs": [
    {
     "name": "stdout",
     "output_type": "stream",
     "text": [
      "torch.Size([1, 3, 5024, 5024])\n",
      "torch.Size([1, 1, 5024, 5024])\n"
     ]
    }
   ],
   "source": [
    "model.eval()\n",
    "with torch.no_grad():\n",
    "    for images, masks in train_loader:\n",
    "        print(images.shape)\n",
    "        print(masks.shape)\n",
    "        break\n",
    "    output = model(images.to(device))\n",
    "    output = (output > 0.5).float()\n",
    "\n",
    "    output_baseline = baseline_model(images.to(device))\n",
    "    output_baseline = (output_baseline > 0.5).float()"
   ]
  },
  {
   "cell_type": "code",
   "execution_count": 82,
   "metadata": {},
   "outputs": [
    {
     "name": "stdout",
     "output_type": "stream",
     "text": [
      "torch.Size([1, 1, 5024, 5024])\n"
     ]
    }
   ],
   "source": [
    "print(output.shape)"
   ]
  },
  {
   "cell_type": "code",
   "execution_count": 83,
   "metadata": {},
   "outputs": [
    {
     "name": "stdout",
     "output_type": "stream",
     "text": [
      "torch.Size([1, 1, 5024, 5024])\n"
     ]
    }
   ],
   "source": [
    "print(output_baseline.shape)"
   ]
  },
  {
   "cell_type": "code",
   "execution_count": 84,
   "metadata": {},
   "outputs": [],
   "source": [
    "outp = to_pil_transform(output.squeeze().cpu().numpy())"
   ]
  },
  {
   "cell_type": "code",
   "execution_count": 85,
   "metadata": {},
   "outputs": [
    {
     "name": "stdout",
     "output_type": "stream",
     "text": [
      "{0: 25193472, 255: 47104}\n"
     ]
    }
   ],
   "source": [
    "unique, counts = np.unique(outp, return_counts=True)\n",
    "print(dict(zip(unique, counts)))"
   ]
  },
  {
   "cell_type": "code",
   "execution_count": 86,
   "metadata": {},
   "outputs": [
    {
     "name": "stdout",
     "output_type": "stream",
     "text": [
      "{0.0: 25193472, 1.0: 47104}\n"
     ]
    }
   ],
   "source": [
    "unique, counts = np.unique(output.cpu(), return_counts=True)\n",
    "print(dict(zip(unique, counts)))"
   ]
  },
  {
   "cell_type": "code",
   "execution_count": 87,
   "metadata": {},
   "outputs": [],
   "source": [
    "outp.show()"
   ]
  },
  {
   "cell_type": "code",
   "execution_count": 88,
   "metadata": {},
   "outputs": [],
   "source": [
    "rand_outp = to_pil_transform(output_baseline.squeeze().cpu().numpy())"
   ]
  },
  {
   "cell_type": "code",
   "execution_count": 89,
   "metadata": {},
   "outputs": [
    {
     "name": "stdout",
     "output_type": "stream",
     "text": [
      "{0: 12621182, 255: 12619394}\n"
     ]
    }
   ],
   "source": [
    "unique, counts = np.unique(rand_outp, return_counts=True)\n",
    "print(dict(zip(unique, counts)))"
   ]
  },
  {
   "cell_type": "code",
   "execution_count": 90,
   "metadata": {},
   "outputs": [],
   "source": [
    "rand_outp.show()"
   ]
  },
  {
   "cell_type": "code",
   "execution_count": 93,
   "metadata": {},
   "outputs": [
    {
     "name": "stdout",
     "output_type": "stream",
     "text": [
      "IoU score: 0.004862932488322258\n",
      "F1 score: 0.009678797796368599\n",
      "Accuracy: 0.9397695660591125\n",
      "Recall: 0.23330450057983398\n"
     ]
    }
   ],
   "source": [
    "tp, fp, fn, tn = smp.metrics.get_stats(\n",
    "    output.squeeze().to(\"cpu\"),\n",
    "    masks.squeeze().int(),\n",
    "    mode=\"binary\",\n",
    "    threshold=0.5,\n",
    ")\n",
    "# print(f\"TP: {tp}\")\n",
    "# print(f\"FP: {fp}\")\n",
    "# print(f\"TN: {tn}\")\n",
    "# print(f\"FN: {fn}\")\n",
    "\n",
    "iou_score = smp.metrics.iou_score(tp, fp, fn, tn, reduction=\"micro\")\n",
    "f1_score = smp.metrics.f1_score(tp, fp, fn, tn, reduction=\"micro\")\n",
    "accuracy = smp.metrics.accuracy(tp, fp, fn, tn, reduction=\"macro\")\n",
    "recall = smp.metrics.recall(tp, fp, fn, tn, reduction=\"micro-imagewise\")\n",
    "print(f\"IoU score: {iou_score}\")\n",
    "print(f\"F1 score: {f1_score}\")\n",
    "print(f\"Accuracy: {accuracy}\")\n",
    "print(f\"Recall: {recall}\")"
   ]
  },
  {
   "cell_type": "code",
   "execution_count": 91,
   "metadata": {},
   "outputs": [
    {
     "ename": "ValueError",
     "evalue": "Output should be one of the integer types if ``threshold`` is not None, got torch.float32.",
     "output_type": "error",
     "traceback": [
      "\u001b[1;31m---------------------------------------------------------------------------\u001b[0m",
      "\u001b[1;31mValueError\u001b[0m                                Traceback (most recent call last)",
      "Cell \u001b[1;32mIn[91], line 1\u001b[0m\n\u001b[1;32m----> 1\u001b[0m tp, fp, fn, tn \u001b[38;5;241m=\u001b[39m \u001b[43msmp\u001b[49m\u001b[38;5;241;43m.\u001b[39;49m\u001b[43mmetrics\u001b[49m\u001b[38;5;241;43m.\u001b[39;49m\u001b[43mget_stats\u001b[49m\u001b[43m(\u001b[49m\n\u001b[0;32m      2\u001b[0m \u001b[43m    \u001b[49m\u001b[43moutput_baseline\u001b[49m\u001b[38;5;241;43m.\u001b[39;49m\u001b[43msqueeze\u001b[49m\u001b[43m(\u001b[49m\u001b[43m)\u001b[49m\u001b[38;5;241;43m.\u001b[39;49m\u001b[43mto\u001b[49m\u001b[43m(\u001b[49m\u001b[38;5;124;43m\"\u001b[39;49m\u001b[38;5;124;43mcpu\u001b[39;49m\u001b[38;5;124;43m\"\u001b[39;49m\u001b[43m)\u001b[49m\u001b[43m,\u001b[49m\n\u001b[0;32m      3\u001b[0m \u001b[43m    \u001b[49m\u001b[43mmasks\u001b[49m\u001b[38;5;241;43m.\u001b[39;49m\u001b[43msqueeze\u001b[49m\u001b[43m(\u001b[49m\u001b[43m)\u001b[49m\u001b[38;5;241;43m.\u001b[39;49m\u001b[43mint\u001b[49m\u001b[43m(\u001b[49m\u001b[43m)\u001b[49m\u001b[43m,\u001b[49m\n\u001b[0;32m      4\u001b[0m \u001b[43m    \u001b[49m\u001b[43mmode\u001b[49m\u001b[38;5;241;43m=\u001b[39;49m\u001b[38;5;124;43m\"\u001b[39;49m\u001b[38;5;124;43mbinary\u001b[39;49m\u001b[38;5;124;43m\"\u001b[39;49m\u001b[43m,\u001b[49m\n\u001b[0;32m      5\u001b[0m \u001b[43m    \u001b[49m\u001b[38;5;66;43;03m# output.squeeze().to(\"cpu\"), masks.int().squeeze(), mode=\"binary\", threshold=0.5\u001b[39;49;00m\n\u001b[0;32m      6\u001b[0m \u001b[43m)\u001b[49m\n\u001b[0;32m      7\u001b[0m \u001b[38;5;66;03m# print(f\"TP: {tp}\")\u001b[39;00m\n\u001b[0;32m      8\u001b[0m \u001b[38;5;66;03m# print(f\"FP: {fp}\")\u001b[39;00m\n\u001b[0;32m      9\u001b[0m \u001b[38;5;66;03m# print(f\"TN: {tn}\")\u001b[39;00m\n\u001b[0;32m     10\u001b[0m \u001b[38;5;66;03m# print(f\"FN: {fn}\")\u001b[39;00m\n\u001b[0;32m     12\u001b[0m iou_score \u001b[38;5;241m=\u001b[39m smp\u001b[38;5;241m.\u001b[39mmetrics\u001b[38;5;241m.\u001b[39miou_score(tp, fp, fn, tn, reduction\u001b[38;5;241m=\u001b[39m\u001b[38;5;124m\"\u001b[39m\u001b[38;5;124mmicro\u001b[39m\u001b[38;5;124m\"\u001b[39m)\n",
      "File \u001b[1;32md:\\__repos\\aerial_segmentation\\venv\\lib\\site-packages\\segmentation_models_pytorch\\metrics\\functional.py:119\u001b[0m, in \u001b[0;36mget_stats\u001b[1;34m(output, target, mode, ignore_index, threshold, num_classes)\u001b[0m\n\u001b[0;32m    116\u001b[0m     \u001b[38;5;28;01mraise\u001b[39;00m \u001b[38;5;167;01mValueError\u001b[39;00m(\u001b[38;5;124mf\u001b[39m\u001b[38;5;124m\"\u001b[39m\u001b[38;5;124mTarget should be one of the integer types, got \u001b[39m\u001b[38;5;132;01m{\u001b[39;00mtarget\u001b[38;5;241m.\u001b[39mdtype\u001b[38;5;132;01m}\u001b[39;00m\u001b[38;5;124m.\u001b[39m\u001b[38;5;124m\"\u001b[39m)\n\u001b[0;32m    118\u001b[0m \u001b[38;5;28;01mif\u001b[39;00m torch\u001b[38;5;241m.\u001b[39mis_floating_point(output) \u001b[38;5;129;01mand\u001b[39;00m threshold \u001b[38;5;129;01mis\u001b[39;00m \u001b[38;5;28;01mNone\u001b[39;00m:\n\u001b[1;32m--> 119\u001b[0m     \u001b[38;5;28;01mraise\u001b[39;00m \u001b[38;5;167;01mValueError\u001b[39;00m(\n\u001b[0;32m    120\u001b[0m         \u001b[38;5;124mf\u001b[39m\u001b[38;5;124m\"\u001b[39m\u001b[38;5;124mOutput should be one of the integer types if ``threshold`` is not None, got \u001b[39m\u001b[38;5;132;01m{\u001b[39;00moutput\u001b[38;5;241m.\u001b[39mdtype\u001b[38;5;132;01m}\u001b[39;00m\u001b[38;5;124m.\u001b[39m\u001b[38;5;124m\"\u001b[39m\n\u001b[0;32m    121\u001b[0m     )\n\u001b[0;32m    123\u001b[0m \u001b[38;5;28;01mif\u001b[39;00m torch\u001b[38;5;241m.\u001b[39mis_floating_point(output) \u001b[38;5;129;01mand\u001b[39;00m mode \u001b[38;5;241m==\u001b[39m \u001b[38;5;124m\"\u001b[39m\u001b[38;5;124mmulticlass\u001b[39m\u001b[38;5;124m\"\u001b[39m:\n\u001b[0;32m    124\u001b[0m     \u001b[38;5;28;01mraise\u001b[39;00m \u001b[38;5;167;01mValueError\u001b[39;00m(\u001b[38;5;124mf\u001b[39m\u001b[38;5;124m\"\u001b[39m\u001b[38;5;124mFor ``multiclass`` mode ``output`` should be one of the integer types, got \u001b[39m\u001b[38;5;132;01m{\u001b[39;00moutput\u001b[38;5;241m.\u001b[39mdtype\u001b[38;5;132;01m}\u001b[39;00m\u001b[38;5;124m.\u001b[39m\u001b[38;5;124m\"\u001b[39m)\n",
      "\u001b[1;31mValueError\u001b[0m: Output should be one of the integer types if ``threshold`` is not None, got torch.float32."
     ]
    }
   ],
   "source": [
    "tp, fp, fn, tn = smp.metrics.get_stats(\n",
    "    output_baseline.squeeze().to(\"cpu\"),\n",
    "    masks.squeeze().int(),\n",
    "    mode=\"binary\",\n",
    "    threshold=0.5,\n",
    ")\n",
    "# print(f\"TP: {tp}\")\n",
    "# print(f\"FP: {fp}\")\n",
    "# print(f\"TN: {tn}\")\n",
    "# print(f\"FN: {fn}\")\n",
    "\n",
    "iou_score = smp.metrics.iou_score(tp, fp, fn, tn, reduction=\"micro\")\n",
    "f1_score = smp.metrics.f1_score(tp, fp, fn, tn, reduction=\"micro\")\n",
    "accuracy = smp.metrics.accuracy(tp, fp, fn, tn, reduction=\"macro\")\n",
    "recall = smp.metrics.recall(tp, fp, fn, tn, reduction=\"micro-imagewise\")\n",
    "print(f\"IoU score: {iou_score}\")\n",
    "print(f\"F1 score: {f1_score}\")\n",
    "print(f\"Accuracy: {accuracy}\")\n",
    "print(f\"Recall: {recall}\")"
   ]
  },
  {
   "cell_type": "code",
   "execution_count": 65,
   "metadata": {},
   "outputs": [
    {
     "name": "stdout",
     "output_type": "stream",
     "text": [
      "IoU score: 1.0\n",
      "F1 score: 1.0\n",
      "Accuracy: 1.0\n",
      "Recall: 1.0\n"
     ]
    }
   ],
   "source": [
    "tp, fp, fn, tn = smp.metrics.get_stats(\n",
    "    masks.squeeze().int(),\n",
    "    masks.squeeze().int(),\n",
    "    mode=\"binary\",\n",
    "    # output.squeeze().to(\"cpu\"), masks.int().squeeze(), mode=\"binary\", threshold=0.5\n",
    ")\n",
    "# print(f\"TP: {tp}\")\n",
    "# print(f\"FP: {fp}\")\n",
    "# print(f\"TN: {tn}\")\n",
    "# print(f\"FN: {fn}\")\n",
    "\n",
    "iou_score = smp.metrics.iou_score(tp, fp, fn, tn, reduction=\"micro\")\n",
    "f1_score = smp.metrics.f1_score(tp, fp, fn, tn, reduction=\"micro\")\n",
    "accuracy = smp.metrics.accuracy(tp, fp, fn, tn, reduction=\"macro\")\n",
    "recall = smp.metrics.recall(tp, fp, fn, tn, reduction=\"micro-imagewise\")\n",
    "print(f\"IoU score: {iou_score}\")\n",
    "print(f\"F1 score: {f1_score}\")\n",
    "print(f\"Accuracy: {accuracy}\")\n",
    "print(f\"Recall: {recall}\")"
   ]
  },
  {
   "cell_type": "code",
   "execution_count": null,
   "metadata": {},
   "outputs": [],
   "source": [
    "model.eval()\n",
    "\n",
    "with torch.no_grad():\n",
    "    for i, (images, masks) in enumerate(train_loader):\n",
    "\n",
    "        cumulated_iou_score = 0.0\n",
    "        height = images.shape[2]\n",
    "        width = images.shape[3]\n",
    "\n",
    "        # if height % 32 == 0 and width % 32 == 0:\n",
    "        #     print(\"Height and width are divisible by 32\")\n",
    "        # else:\n",
    "        #     print(\"Height and width are not divisible by 32\")\n",
    "\n",
    "        output = model(images.to(device))\n",
    "        classes_output = (output > 0.5).float()\n",
    "        # output = torch.softmax(output, dim=1)\n",
    "        # output = torch.argmax(output, dim=1)\n",
    "        # class_output = torch.sigmoid(output)\n",
    "        # class_output = torch.round(output)\n",
    "\n",
    "        print(\"output\")\n",
    "        print(type(output))\n",
    "        print(output.shape)\n",
    "        print(output.max())\n",
    "        print(output.min())\n",
    "        print()\n",
    "        # print(\"masks\")\n",
    "        # print(type(masks))\n",
    "        # print(masks.shape)\n",
    "        # print(masks.max())\n",
    "        # print(masks.min())\n",
    "        # print()\n",
    "        # print(\"class_output\")\n",
    "        # print(type(class_output))\n",
    "        # print(class_output.shape)\n",
    "        # print(class_output.max())\n",
    "        # print(class_output.min())\n",
    "        # print()\n",
    "\n",
    "        # images = to_pil_transform(images.squeeze())\n",
    "        # images.show()\n",
    "        # images_array = np.array(images)\n",
    "\n",
    "        # Show the images using matplotlib\n",
    "        # plt.imshow(images_array, cmap='gray')\n",
    "        # plt.axis('off')\n",
    "\n",
    "        # output = to_pil_transform(output.squeeze())\n",
    "        # output.show()\n",
    "        # output_array = np.array(output.squeeze())\n",
    "\n",
    "        # Show the output using matplotlib\n",
    "        # plt.figure()\n",
    "        # plt.imshow(output_array, cmap='gray')\n",
    "        # plt.axis('off')\n",
    "        # plt.show()\n",
    "\n",
    "        # class_output_array = np.array(class_output.squeeze())\n",
    "\n",
    "        # masks_pil= to_pil_transform(masks.squeeze())\n",
    "        # masks.show()\n",
    "        # Convert the PIL Image to a numpy array\n",
    "        # mask_array = np.array(masks_pil)\n",
    "\n",
    "        # Show the mask using matplotlib\n",
    "        # plt.imshow(mask_array, cmap='gray')\n",
    "        # plt.axis('off')\n",
    "        # plt.show()\n",
    "\n",
    "        tp, fp, fn, tn = smp.metrics.get_stats(\n",
    "            class_output.squeeze().to(\"cpu\"),\n",
    "            masks.int().squeeze(),\n",
    "            mode=\"binary\",\n",
    "            threshold=0.5,\n",
    "            # output.squeeze().to(\"cpu\"), masks.int().squeeze(), mode=\"binary\", threshold=0.5\n",
    "        )\n",
    "        # print(f\"TP: {tp}\")\n",
    "        # print(f\"FP: {fp}\")\n",
    "        # print(f\"TN: {tn}\")\n",
    "        # print(f\"FN: {fn}\")\n",
    "\n",
    "        iou_score = smp.metrics.iou_score(tp, fp, fn, tn, reduction=\"micro\")\n",
    "        print(f\"IoU score: {iou_score}\")\n",
    "\n",
    "        cumulated_iou_score += iou_score\n",
    "        del images, masks, output\n",
    "        gc.collect()\n",
    "        torch.cuda.empty_cache()\n",
    "\n",
    "        if i >= 1:\n",
    "            break\n",
    "\n",
    "average_iou_score = cumulated_iou_score / i\n",
    "print(f\"Average IoU score: {average_iou_score}\")"
   ]
  },
  {
   "cell_type": "code",
   "execution_count": null,
   "metadata": {},
   "outputs": [],
   "source": [
    "plt.imshow(images_array, cmap=\"gray\")\n",
    "plt.axis(\"off\")\n",
    "plt.show()"
   ]
  },
  {
   "cell_type": "code",
   "execution_count": null,
   "metadata": {},
   "outputs": [],
   "source": [
    "plt.imshow(mask_array, cmap=\"gray\")\n",
    "plt.axis(\"off\")\n",
    "plt.show()"
   ]
  },
  {
   "cell_type": "code",
   "execution_count": null,
   "metadata": {},
   "outputs": [],
   "source": [
    "# plt.imshow(output_array, cmap='gray')\n",
    "# plt.axis('off')\n",
    "# plt.show()\n",
    "plt.matshow(output_array[0, :, :])\n",
    "plt.matshow(output_array[1, :, :])"
   ]
  },
  {
   "cell_type": "code",
   "execution_count": null,
   "metadata": {},
   "outputs": [],
   "source": [
    "plt.imshow(class_output_array, cmap=\"gray\")\n",
    "plt.axis(\"off\")\n",
    "plt.show()"
   ]
  },
  {
   "cell_type": "code",
   "execution_count": null,
   "metadata": {},
   "outputs": [],
   "source": [
    "plt.matshow(class_output_array)"
   ]
  },
  {
   "cell_type": "code",
   "execution_count": null,
   "metadata": {},
   "outputs": [],
   "source": [
    "class_output_array"
   ]
  },
  {
   "cell_type": "code",
   "execution_count": null,
   "metadata": {},
   "outputs": [],
   "source": [
    "class_output_array.max()"
   ]
  },
  {
   "cell_type": "code",
   "execution_count": null,
   "metadata": {},
   "outputs": [],
   "source": [
    "class_output_array.min()"
   ]
  },
  {
   "cell_type": "code",
   "execution_count": null,
   "metadata": {},
   "outputs": [],
   "source": [
    "unique, counts = np.unique(class_output_array, return_counts=True)\n",
    "print(dict(zip(unique, counts)))"
   ]
  },
  {
   "cell_type": "code",
   "execution_count": null,
   "metadata": {},
   "outputs": [],
   "source": []
  }
 ],
 "metadata": {
  "kernelspec": {
   "display_name": "Python 3",
   "language": "python",
   "name": "python3"
  },
  "language_info": {
   "codemirror_mode": {
    "name": "ipython",
    "version": 3
   },
   "file_extension": ".py",
   "mimetype": "text/x-python",
   "name": "python",
   "nbconvert_exporter": "python",
   "pygments_lexer": "ipython3",
   "version": "3.10.3"
  }
 },
 "nbformat": 4,
 "nbformat_minor": 2
}
