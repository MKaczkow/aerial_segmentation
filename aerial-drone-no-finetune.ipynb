{
 "cells": [
  {
   "cell_type": "code",
   "execution_count": 1,
   "metadata": {},
   "outputs": [
    {
     "name": "stderr",
     "output_type": "stream",
     "text": [
      "d:\\__repos\\aerial_segmentation\\venv\\lib\\site-packages\\tqdm\\auto.py:21: TqdmWarning: IProgress not found. Please update jupyter and ipywidgets. See https://ipywidgets.readthedocs.io/en/stable/user_install.html\n",
      "  from .autonotebook import tqdm as notebook_tqdm\n"
     ]
    }
   ],
   "source": [
    "import numpy as np\n",
    "\n",
    "import torch\n",
    "from torch.utils.data import DataLoader\n",
    "from torchvision import transforms\n",
    "from torchvision.transforms import Resize, Compose\n",
    "import segmentation_models_pytorch as smp\n",
    "\n",
    "from src.models.BaselineModel import BaselineModel\n",
    "from src.evaluation.evaluate_result import evaluate_result\n",
    "from src.datasets.AerialDroneSemanticSegmentationDataset import (\n",
    "    AerialDroneSemanticSegmentationDataset,\n",
    ")\n",
    "\n",
    "from src.datasets.utils.ResizeToDivisibleBy32 import ResizeToDivisibleBy32"
   ]
  },
  {
   "cell_type": "markdown",
   "metadata": {},
   "source": [
    "## Prepare environment"
   ]
  },
  {
   "cell_type": "code",
   "execution_count": 2,
   "metadata": {},
   "outputs": [
    {
     "data": {
      "text/plain": [
       "True"
      ]
     },
     "execution_count": 2,
     "metadata": {},
     "output_type": "execute_result"
    }
   ],
   "source": [
    "torch.cuda.is_available()"
   ]
  },
  {
   "cell_type": "code",
   "execution_count": 3,
   "metadata": {},
   "outputs": [
    {
     "name": "stdout",
     "output_type": "stream",
     "text": [
      "cuda\n"
     ]
    }
   ],
   "source": [
    "device = torch.device(\"cuda\" if torch.cuda.is_available() else \"cpu\")\n",
    "print(device)"
   ]
  },
  {
   "cell_type": "code",
   "execution_count": 4,
   "metadata": {},
   "outputs": [],
   "source": [
    "VAL_SIZE = 0.2\n",
    "BATCH_SIZE = 1\n",
    "SEED = 42\n",
    "AERIAL_DRONE_DATASET_PATH = (\n",
    "    \"data/AerialDroneSemanticSegmentationDataset/dataset/semantic_drone_dataset\"\n",
    ")\n",
    "IMAGE_SIZE = 576"
   ]
  },
  {
   "cell_type": "code",
   "execution_count": 5,
   "metadata": {},
   "outputs": [
    {
     "name": "stdout",
     "output_type": "stream",
     "text": [
      "400\n"
     ]
    }
   ],
   "source": [
    "train_dataset = AerialDroneSemanticSegmentationDataset(\n",
    "    AERIAL_DRONE_DATASET_PATH,\n",
    "    transforms=[Compose([Resize(IMAGE_SIZE), ResizeToDivisibleBy32()])],\n",
    ")\n",
    "print(len(train_dataset))"
   ]
  },
  {
   "cell_type": "markdown",
   "metadata": {},
   "source": [
    "## Sanity check data"
   ]
  },
  {
   "cell_type": "code",
   "execution_count": 6,
   "metadata": {},
   "outputs": [],
   "source": [
    "train_loader = DataLoader(train_dataset, batch_size=1, shuffle=True)"
   ]
  },
  {
   "cell_type": "code",
   "execution_count": 7,
   "metadata": {},
   "outputs": [
    {
     "name": "stdout",
     "output_type": "stream",
     "text": [
      "torch.Size([1, 3, 576, 864])\n",
      "torch.Size([1, 1, 576, 864])\n"
     ]
    }
   ],
   "source": [
    "for images, masks in train_loader:\n",
    "    print(images.shape)\n",
    "    print(masks.shape)\n",
    "    break"
   ]
  },
  {
   "cell_type": "code",
   "execution_count": 8,
   "metadata": {},
   "outputs": [],
   "source": [
    "to_pil_transform = transforms.ToPILImage()"
   ]
  },
  {
   "cell_type": "code",
   "execution_count": 9,
   "metadata": {},
   "outputs": [],
   "source": [
    "img = to_pil_transform(images.squeeze())"
   ]
  },
  {
   "cell_type": "code",
   "execution_count": 10,
   "metadata": {},
   "outputs": [],
   "source": [
    "# img.show()"
   ]
  },
  {
   "cell_type": "code",
   "execution_count": 11,
   "metadata": {},
   "outputs": [],
   "source": [
    "msk = to_pil_transform(masks.squeeze())"
   ]
  },
  {
   "cell_type": "code",
   "execution_count": 12,
   "metadata": {},
   "outputs": [],
   "source": [
    "# msk.show()"
   ]
  },
  {
   "cell_type": "markdown",
   "metadata": {},
   "source": [
    "## Run example model on single image"
   ]
  },
  {
   "cell_type": "code",
   "execution_count": 30,
   "metadata": {},
   "outputs": [],
   "source": [
    "model = smp.Unet(\n",
    "    encoder_name=\"resnet18\",  # choose encoder, e.g. mobilenet_v2 or efficientnet-b7\n",
    "    encoder_weights=\"imagenet\",  # use `imagenet` pre-trained weights for encoder initialization\n",
    "    in_channels=3,  # model input channels (1 for gray-scale images, 3 for RGB, etc.)\n",
    "    classes=23,  # model output channels (number of classes in your dataset)\n",
    "    activation=\"softmax\",\n",
    ").to(device)"
   ]
  },
  {
   "cell_type": "code",
   "execution_count": 31,
   "metadata": {},
   "outputs": [],
   "source": [
    "baseline_model = BaselineModel(classes=23).to(device)"
   ]
  },
  {
   "cell_type": "code",
   "execution_count": 32,
   "metadata": {},
   "outputs": [],
   "source": [
    "torch.cuda.empty_cache()"
   ]
  },
  {
   "cell_type": "code",
   "execution_count": 33,
   "metadata": {},
   "outputs": [
    {
     "name": "stdout",
     "output_type": "stream",
     "text": [
      "torch.Size([1, 3, 576, 864])\n",
      "torch.Size([1, 1, 576, 864])\n"
     ]
    },
    {
     "name": "stderr",
     "output_type": "stream",
     "text": [
      "d:\\__repos\\aerial_segmentation\\venv\\lib\\site-packages\\torch\\nn\\modules\\module.py:1511: UserWarning: Implicit dimension choice for softmax has been deprecated. Change the call to include dim=X as an argument.\n",
      "  return self._call_impl(*args, **kwargs)\n"
     ]
    }
   ],
   "source": [
    "model.eval()\n",
    "with torch.no_grad():\n",
    "    for images, masks in train_loader:\n",
    "        print(images.shape)\n",
    "        print(masks.shape)\n",
    "        break\n",
    "    output = model(images.to(device))\n",
    "    # output = (output > 0.5).float()\n",
    "\n",
    "    output_baseline = baseline_model(images.to(device))\n",
    "    # output_baseline = (output_baseline > 0.5).float()"
   ]
  },
  {
   "cell_type": "code",
   "execution_count": 34,
   "metadata": {},
   "outputs": [
    {
     "name": "stdout",
     "output_type": "stream",
     "text": [
      "torch.Size([1, 23, 576, 864])\n"
     ]
    }
   ],
   "source": [
    "print(output.shape)"
   ]
  },
  {
   "cell_type": "code",
   "execution_count": 35,
   "metadata": {},
   "outputs": [
    {
     "name": "stdout",
     "output_type": "stream",
     "text": [
      "torch.Size([1, 23, 576, 864])\n"
     ]
    }
   ],
   "source": [
    "print(output_baseline.shape)"
   ]
  },
  {
   "cell_type": "code",
   "execution_count": 36,
   "metadata": {},
   "outputs": [
    {
     "name": "stdout",
     "output_type": "stream",
     "text": [
      "torch.Size([1, 23, 576, 864])\n",
      "torch.Size([1, 23, 576, 864])\n"
     ]
    }
   ],
   "source": [
    "print(output.shape)\n",
    "print(output_baseline.shape)"
   ]
  },
  {
   "cell_type": "code",
   "execution_count": 37,
   "metadata": {},
   "outputs": [],
   "source": [
    "output = torch.argmax(output, dim=1)\n",
    "output_baseline = torch.argmax(output_baseline, dim=1)"
   ]
  },
  {
   "cell_type": "code",
   "execution_count": 38,
   "metadata": {},
   "outputs": [
    {
     "name": "stdout",
     "output_type": "stream",
     "text": [
      "torch.Size([1, 576, 864])\n",
      "torch.Size([1, 576, 864])\n"
     ]
    }
   ],
   "source": [
    "print(output.shape)\n",
    "print(output_baseline.shape)"
   ]
  },
  {
   "cell_type": "code",
   "execution_count": 39,
   "metadata": {},
   "outputs": [
    {
     "data": {
      "text/plain": [
       "{'iou': tensor(0.0007),\n",
       " 'f1': tensor(0.0014),\n",
       " 'accuracy': tensor(0.9132),\n",
       " 'recall': tensor(0.0014)}"
      ]
     },
     "execution_count": 39,
     "metadata": {},
     "output_type": "execute_result"
    }
   ],
   "source": [
    "evaluate_result(output.squeeze(), masks.squeeze(), mode=\"multiclass\", num_classes=23)"
   ]
  },
  {
   "cell_type": "code",
   "execution_count": 40,
   "metadata": {},
   "outputs": [
    {
     "data": {
      "text/plain": [
       "{'iou': tensor(0.0221),\n",
       " 'f1': tensor(0.0432),\n",
       " 'accuracy': tensor(0.9168),\n",
       " 'recall': tensor(0.0432)}"
      ]
     },
     "execution_count": 40,
     "metadata": {},
     "output_type": "execute_result"
    }
   ],
   "source": [
    "evaluate_result(\n",
    "    output_baseline.squeeze(), masks.squeeze(), mode=\"multiclass\", num_classes=23\n",
    ")"
   ]
  },
  {
   "cell_type": "markdown",
   "metadata": {},
   "source": [
    "## Run example model on dataset"
   ]
  },
  {
   "cell_type": "code",
   "execution_count": 41,
   "metadata": {},
   "outputs": [],
   "source": [
    "model.eval()\n",
    "metrics_dict = {\n",
    "    \"iou\": [],\n",
    "    \"f1\": [],\n",
    "    \"accuracy\": [],\n",
    "    \"recall\": [],\n",
    "}"
   ]
  },
  {
   "cell_type": "code",
   "execution_count": 42,
   "metadata": {},
   "outputs": [],
   "source": [
    "with torch.no_grad():\n",
    "    for images, masks in train_loader:\n",
    "        output = model(images.to(device))\n",
    "        output = torch.argmax(output, dim=1)\n",
    "\n",
    "        iter_metrics = evaluate_result(\n",
    "            output.squeeze(), masks.squeeze(), mode=\"multiclass\", num_classes=23\n",
    "        )\n",
    "        for key in metrics_dict.keys():\n",
    "            metrics_dict[key].append(iter_metrics[key])"
   ]
  },
  {
   "cell_type": "code",
   "execution_count": 43,
   "metadata": {},
   "outputs": [
    {
     "name": "stdout",
     "output_type": "stream",
     "text": [
      "{'iou': [tensor(0.0004), tensor(0.0001), tensor(0.0005), tensor(0.0007), tensor(0.0008), tensor(0.0003), tensor(0.0011), tensor(0.0145), tensor(0.0314), tensor(0.0004), tensor(0.0002), tensor(0.0007), tensor(1.7080e-05), tensor(0.0125), tensor(0.0011), tensor(0.0005), tensor(0.0003), tensor(0.0002), tensor(0.0002), tensor(0.0007), tensor(0.0006), tensor(6.5309e-05), tensor(0.0002), tensor(0.0003), tensor(0.0002), tensor(0.0004), tensor(0.0002), tensor(0.0003), tensor(0.0006), tensor(0.0004), tensor(0.0004), tensor(6.3300e-05), tensor(0.0200), tensor(0.0002), tensor(0.0007), tensor(0.0002), tensor(0.0003), tensor(0.0069), tensor(0.0004), tensor(0.0002), tensor(0.0004), tensor(0.0007), tensor(0.0005), tensor(0.0005), tensor(0.0002), tensor(0.0002), tensor(0.0005), tensor(0.0003), tensor(0.0004), tensor(0.0001), tensor(0.0005), tensor(0.0007), tensor(0.0003), tensor(0.0003), tensor(0.0003), tensor(0.0002), tensor(0.0438), tensor(0.0004), tensor(2.0094e-05), tensor(0.0128), tensor(0.0087), tensor(0.0004), tensor(0.0003), tensor(0.0002), tensor(0.0005), tensor(0.0005), tensor(0.0003), tensor(8.7416e-05), tensor(0.0005), tensor(0.0004), tensor(0.0008), tensor(0.0007), tensor(0.0004), tensor(0.0006), tensor(0.0002), tensor(0.0004), tensor(0.0194), tensor(0.0007), tensor(0.0133), tensor(0.0004), tensor(0.0003), tensor(0.0003), tensor(0.0007), tensor(0.0008), tensor(0.0001), tensor(0.0007), tensor(0.0004), tensor(0.0026), tensor(0.0006), tensor(0.0008), tensor(0.0003), tensor(0.0059), tensor(0.0004), tensor(0.0005), tensor(0.0001), tensor(1.3061e-05), tensor(0.0004), tensor(0.0005), tensor(0.0003), tensor(0.0004), tensor(0.0005), tensor(0.0010), tensor(0.0005), tensor(0.0004), tensor(0.0400), tensor(0.0226), tensor(0.0004), tensor(0.0003), tensor(5.9280e-05), tensor(0.0002), tensor(0.0580), tensor(0.0005), tensor(0.0086), tensor(0.0043), tensor(0.0002), tensor(0.0009), tensor(0.0003), tensor(0.0007), tensor(0.0003), tensor(0.0004), tensor(0.0004), tensor(0.0002), tensor(0.0005), tensor(0.0004), tensor(0.0213), tensor(0.0004), tensor(0.0006), tensor(0.0081), tensor(0.0004), tensor(0.0010), tensor(0.0007), tensor(0.0004), tensor(0.0004), tensor(0.0007), tensor(0.0051), tensor(0.0001), tensor(0.0003), tensor(0.0005), tensor(0.0119), tensor(0.0004), tensor(0.0003), tensor(0.0203), tensor(0.0002), tensor(0.0008), tensor(0.0236), tensor(0.0007), tensor(0.0003), tensor(0.0007), tensor(0.0008), tensor(0.0010), tensor(0.0005), tensor(0.0002), tensor(0.0004), tensor(0.0011), tensor(0.0008), tensor(0.0035), tensor(0.0008), tensor(0.0002), tensor(0.0456), tensor(0.0002), tensor(0.0003), tensor(0.0009), tensor(3.3156e-05), tensor(0.0007), tensor(0.0002), tensor(0.0005), tensor(0.0104), tensor(0.0004), tensor(0.0008), tensor(0.0007), tensor(0.0005), tensor(0.0006), tensor(0.0008), tensor(0.0042), tensor(0.0557), tensor(5.8276e-05), tensor(0.0235), tensor(0.0003), tensor(0.0006), tensor(0.0003), tensor(0.0004), tensor(0.0003), tensor(0.0092), tensor(0.0002), tensor(0.0079), tensor(0.0002), tensor(0.0004), tensor(0.0003), tensor(0.0002), tensor(0.0002), tensor(1.5071e-05), tensor(0.0004), tensor(0.0008), tensor(0.0010), tensor(0.0004), tensor(0.0002), tensor(0.0004), tensor(0.0003), tensor(0.0007), tensor(0.0011), tensor(0.0003), tensor(0.0582), tensor(0.0007), tensor(0.0288), tensor(0.0002), tensor(0.0008), tensor(0.0002), tensor(0.0004), tensor(0.0004), tensor(0.0002), tensor(0.0004), tensor(0.0002), tensor(0.0006), tensor(0.0005), tensor(0.0003), tensor(0.0819), tensor(0.0008), tensor(0.0006), tensor(0.0004), tensor(0.0006), tensor(0.0659), tensor(0.0003), tensor(0.0169), tensor(0.0008), tensor(0.0672), tensor(0.0003), tensor(1.8085e-05), tensor(0.0003), tensor(0.0007), tensor(0.0004), tensor(5.2247e-05), tensor(0.0148), tensor(0.0006), tensor(0.0002), tensor(0.0506), tensor(0.0172), tensor(0.0008), tensor(0.0003), tensor(0.0009), tensor(0.0003), tensor(0.0002), tensor(0.0002), tensor(0.0122), tensor(0.0005), tensor(4.9232e-05), tensor(0.0002), tensor(0.0724), tensor(0.0004), tensor(0.0009), tensor(0.0173), tensor(0.0084), tensor(0.0003), tensor(0.0004), tensor(0.0008), tensor(0.0003), tensor(0.0004), tensor(0.0003), tensor(0.0007), tensor(0.0005), tensor(0.0006), tensor(0.0133), tensor(0.0002), tensor(0.0007), tensor(0.0008), tensor(0.0004), tensor(0.0005), tensor(4.3204e-05), tensor(0.0004), tensor(0.0005), tensor(0.0008), tensor(0.0005), tensor(0.0695), tensor(0.0004), tensor(0.0105), tensor(0.0008), tensor(0.0001), tensor(0.0069), tensor(7.3348e-05), tensor(0.0239), tensor(0.0007), tensor(0.0131), tensor(0.0003), tensor(0.0008), tensor(0.0004), tensor(0.0003), tensor(0.0004), tensor(0.0006), tensor(0.0004), tensor(0.0010), tensor(0.0006), tensor(0.0189), tensor(0.0004), tensor(0.0003), tensor(0.0005), tensor(0.0014), tensor(0.0003), tensor(0.0003), tensor(0.0003), tensor(0.0003), tensor(0.0004), tensor(0.0003), tensor(0.0002), tensor(0.0002), tensor(0.0003), tensor(0.0007), tensor(0.0007), tensor(0.0007), tensor(0.0005), tensor(0.0443), tensor(0.0001), tensor(0.0004), tensor(0.0001), tensor(0.0005), tensor(0.0005), tensor(0.0007), tensor(0.0028), tensor(2.0094e-06), tensor(0.0005), tensor(0.0004), tensor(0.0005), tensor(0.0004), tensor(0.0149), tensor(0.0005), tensor(0.0006), tensor(0.0004), tensor(0.0001), tensor(0.0006), tensor(0.0002), tensor(0.0001), tensor(0.0006), tensor(0.0006), tensor(0.0005), tensor(0.0002), tensor(0.0006), tensor(0.0002), tensor(3.4161e-05), tensor(0.0005), tensor(0.0003), tensor(0.0003), tensor(0.0047), tensor(0.0006), tensor(0.0007), tensor(0.0004), tensor(0.0005), tensor(0.0006), tensor(0.0006), tensor(0.0005), tensor(0.0002), tensor(0.0003), tensor(6.5309e-05), tensor(0.0002), tensor(0.0004), tensor(0.0006), tensor(0.0005), tensor(0.0003), tensor(0.0170), tensor(0.0009), tensor(0.0096), tensor(0.0004), tensor(0.0005), tensor(0.0638), tensor(0.0002), tensor(0.0004), tensor(0.0305), tensor(0.0006), tensor(0.0003), tensor(0.0442), tensor(0.0318), tensor(0.0010), tensor(0.0009), tensor(0.0007), tensor(0.0802), tensor(0.0006), tensor(0.0001), tensor(0.0004), tensor(0.0003), tensor(0.0009), tensor(0.0004), tensor(0.0002), tensor(0.0003), tensor(0.0001), tensor(0.0002), tensor(0.0005), tensor(0.0005), tensor(0.0007), tensor(0.0020), tensor(0.0009), tensor(0.0002), tensor(0.0008), tensor(0.0007), tensor(0.0003), tensor(0.0006), tensor(0.0003), tensor(0.0003), tensor(0.0009), tensor(0.0004), tensor(0.0007), tensor(0.0006), tensor(0.0003), tensor(0.0009)], 'f1': [tensor(0.0008), tensor(0.0003), tensor(0.0011), tensor(0.0014), tensor(0.0016), tensor(0.0006), tensor(0.0021), tensor(0.0286), tensor(0.0608), tensor(0.0008), tensor(0.0005), tensor(0.0013), tensor(3.4160e-05), tensor(0.0248), tensor(0.0021), tensor(0.0009), tensor(0.0007), tensor(0.0005), tensor(0.0005), tensor(0.0015), tensor(0.0013), tensor(0.0001), tensor(0.0004), tensor(0.0006), tensor(0.0005), tensor(0.0008), tensor(0.0004), tensor(0.0006), tensor(0.0011), tensor(0.0008), tensor(0.0009), tensor(0.0001), tensor(0.0391), tensor(0.0004), tensor(0.0013), tensor(0.0003), tensor(0.0005), tensor(0.0137), tensor(0.0007), tensor(0.0004), tensor(0.0008), tensor(0.0015), tensor(0.0010), tensor(0.0010), tensor(0.0005), tensor(0.0004), tensor(0.0010), tensor(0.0005), tensor(0.0008), tensor(0.0002), tensor(0.0009), tensor(0.0014), tensor(0.0005), tensor(0.0006), tensor(0.0006), tensor(0.0005), tensor(0.0840), tensor(0.0008), tensor(4.0188e-05), tensor(0.0252), tensor(0.0172), tensor(0.0008), tensor(0.0006), tensor(0.0005), tensor(0.0009), tensor(0.0010), tensor(0.0005), tensor(0.0002), tensor(0.0011), tensor(0.0008), tensor(0.0015), tensor(0.0014), tensor(0.0009), tensor(0.0011), tensor(0.0005), tensor(0.0007), tensor(0.0380), tensor(0.0014), tensor(0.0262), tensor(0.0008), tensor(0.0007), tensor(0.0005), tensor(0.0015), tensor(0.0015), tensor(0.0003), tensor(0.0013), tensor(0.0008), tensor(0.0052), tensor(0.0011), tensor(0.0015), tensor(0.0006), tensor(0.0116), tensor(0.0009), tensor(0.0010), tensor(0.0002), tensor(2.6122e-05), tensor(0.0008), tensor(0.0009), tensor(0.0006), tensor(0.0008), tensor(0.0009), tensor(0.0019), tensor(0.0011), tensor(0.0009), tensor(0.0770), tensor(0.0441), tensor(0.0008), tensor(0.0006), tensor(0.0001), tensor(0.0004), tensor(0.1096), tensor(0.0010), tensor(0.0171), tensor(0.0085), tensor(0.0004), tensor(0.0018), tensor(0.0007), tensor(0.0014), tensor(0.0006), tensor(0.0008), tensor(0.0008), tensor(0.0003), tensor(0.0009), tensor(0.0007), tensor(0.0417), tensor(0.0008), tensor(0.0012), tensor(0.0161), tensor(0.0008), tensor(0.0020), tensor(0.0014), tensor(0.0007), tensor(0.0007), tensor(0.0014), tensor(0.0101), tensor(0.0002), tensor(0.0005), tensor(0.0010), tensor(0.0235), tensor(0.0009), tensor(0.0006), tensor(0.0398), tensor(0.0005), tensor(0.0015), tensor(0.0461), tensor(0.0015), tensor(0.0006), tensor(0.0013), tensor(0.0016), tensor(0.0021), tensor(0.0009), tensor(0.0005), tensor(0.0008), tensor(0.0023), tensor(0.0015), tensor(0.0069), tensor(0.0015), tensor(0.0004), tensor(0.0872), tensor(0.0003), tensor(0.0006), tensor(0.0018), tensor(6.6310e-05), tensor(0.0014), tensor(0.0004), tensor(0.0010), tensor(0.0206), tensor(0.0008), tensor(0.0016), tensor(0.0015), tensor(0.0010), tensor(0.0013), tensor(0.0016), tensor(0.0083), tensor(0.1055), tensor(0.0001), tensor(0.0460), tensor(0.0006), tensor(0.0011), tensor(0.0006), tensor(0.0007), tensor(0.0007), tensor(0.0182), tensor(0.0005), tensor(0.0158), tensor(0.0004), tensor(0.0008), tensor(0.0007), tensor(0.0003), tensor(0.0004), tensor(3.0141e-05), tensor(0.0008), tensor(0.0015), tensor(0.0020), tensor(0.0008), tensor(0.0005), tensor(0.0008), tensor(0.0006), tensor(0.0015), tensor(0.0022), tensor(0.0006), tensor(0.1101), tensor(0.0013), tensor(0.0560), tensor(0.0004), tensor(0.0017), tensor(0.0004), tensor(0.0008), tensor(0.0008), tensor(0.0004), tensor(0.0008), tensor(0.0003), tensor(0.0011), tensor(0.0010), tensor(0.0006), tensor(0.1513), tensor(0.0017), tensor(0.0011), tensor(0.0009), tensor(0.0012), tensor(0.1236), tensor(0.0006), tensor(0.0333), tensor(0.0016), tensor(0.1259), tensor(0.0005), tensor(3.6169e-05), tensor(0.0007), tensor(0.0014), tensor(0.0007), tensor(0.0001), tensor(0.0292), tensor(0.0013), tensor(0.0003), tensor(0.0964), tensor(0.0339), tensor(0.0015), tensor(0.0007), tensor(0.0019), tensor(0.0006), tensor(0.0005), tensor(0.0004), tensor(0.0241), tensor(0.0010), tensor(9.8460e-05), tensor(0.0004), tensor(0.1351), tensor(0.0008), tensor(0.0019), tensor(0.0339), tensor(0.0166), tensor(0.0006), tensor(0.0007), tensor(0.0015), tensor(0.0006), tensor(0.0007), tensor(0.0006), tensor(0.0015), tensor(0.0011), tensor(0.0011), tensor(0.0262), tensor(0.0004), tensor(0.0013), tensor(0.0015), tensor(0.0008), tensor(0.0010), tensor(8.6404e-05), tensor(0.0007), tensor(0.0010), tensor(0.0016), tensor(0.0010), tensor(0.1300), tensor(0.0008), tensor(0.0208), tensor(0.0016), tensor(0.0003), tensor(0.0137), tensor(0.0001), tensor(0.0468), tensor(0.0014), tensor(0.0259), tensor(0.0006), tensor(0.0017), tensor(0.0007), tensor(0.0006), tensor(0.0008), tensor(0.0013), tensor(0.0009), tensor(0.0020), tensor(0.0011), tensor(0.0371), tensor(0.0007), tensor(0.0005), tensor(0.0011), tensor(0.0028), tensor(0.0006), tensor(0.0005), tensor(0.0005), tensor(0.0005), tensor(0.0008), tensor(0.0006), tensor(0.0004), tensor(0.0005), tensor(0.0006), tensor(0.0015), tensor(0.0013), tensor(0.0013), tensor(0.0009), tensor(0.0849), tensor(0.0003), tensor(0.0009), tensor(0.0003), tensor(0.0010), tensor(0.0011), tensor(0.0013), tensor(0.0055), tensor(4.0188e-06), tensor(0.0009), tensor(0.0008), tensor(0.0010), tensor(0.0007), tensor(0.0293), tensor(0.0010), tensor(0.0012), tensor(0.0008), tensor(0.0003), tensor(0.0011), tensor(0.0005), tensor(0.0002), tensor(0.0012), tensor(0.0011), tensor(0.0009), tensor(0.0004), tensor(0.0011), tensor(0.0004), tensor(6.8319e-05), tensor(0.0010), tensor(0.0005), tensor(0.0006), tensor(0.0094), tensor(0.0012), tensor(0.0014), tensor(0.0007), tensor(0.0009), tensor(0.0013), tensor(0.0012), tensor(0.0011), tensor(0.0003), tensor(0.0006), tensor(0.0001), tensor(0.0004), tensor(0.0008), tensor(0.0011), tensor(0.0010), tensor(0.0007), tensor(0.0334), tensor(0.0018), tensor(0.0191), tensor(0.0007), tensor(0.0010), tensor(0.1199), tensor(0.0005), tensor(0.0007), tensor(0.0592), tensor(0.0013), tensor(0.0006), tensor(0.0846), tensor(0.0617), tensor(0.0020), tensor(0.0017), tensor(0.0013), tensor(0.1485), tensor(0.0011), tensor(0.0002), tensor(0.0008), tensor(0.0006), tensor(0.0017), tensor(0.0008), tensor(0.0005), tensor(0.0007), tensor(0.0002), tensor(0.0004), tensor(0.0010), tensor(0.0010), tensor(0.0014), tensor(0.0039), tensor(0.0017), tensor(0.0004), tensor(0.0016), tensor(0.0014), tensor(0.0006), tensor(0.0012), tensor(0.0006), tensor(0.0007), tensor(0.0018), tensor(0.0007), tensor(0.0015), tensor(0.0011), tensor(0.0006), tensor(0.0018)], 'accuracy': [tensor(0.9131), tensor(0.9131), tensor(0.9131), tensor(0.9132), tensor(0.9132), tensor(0.9131), tensor(0.9132), tensor(0.9155), tensor(0.9183), tensor(0.9131), tensor(0.9131), tensor(0.9132), tensor(0.9130), tensor(0.9152), tensor(0.9132), tensor(0.9131), tensor(0.9131), tensor(0.9131), tensor(0.9131), tensor(0.9132), tensor(0.9132), tensor(0.9131), tensor(0.9131), tensor(0.9131), tensor(0.9131), tensor(0.9131), tensor(0.9131), tensor(0.9131), tensor(0.9131), tensor(0.9131), tensor(0.9131), tensor(0.9131), tensor(0.9164), tensor(0.9131), tensor(0.9132), tensor(0.9131), tensor(0.9131), tensor(0.9142), tensor(0.9131), tensor(0.9131), tensor(0.9131), tensor(0.9132), tensor(0.9131), tensor(0.9131), tensor(0.9131), tensor(0.9131), tensor(0.9131), tensor(0.9131), tensor(0.9131), tensor(0.9131), tensor(0.9131), tensor(0.9132), tensor(0.9131), tensor(0.9131), tensor(0.9131), tensor(0.9131), tensor(0.9203), tensor(0.9131), tensor(0.9130), tensor(0.9152), tensor(0.9145), tensor(0.9131), tensor(0.9131), tensor(0.9131), tensor(0.9131), tensor(0.9131), tensor(0.9131), tensor(0.9131), tensor(0.9131), tensor(0.9131), tensor(0.9132), tensor(0.9132), tensor(0.9131), tensor(0.9131), tensor(0.9131), tensor(0.9131), tensor(0.9163), tensor(0.9132), tensor(0.9153), tensor(0.9131), tensor(0.9131), tensor(0.9131), tensor(0.9132), tensor(0.9132), tensor(0.9131), tensor(0.9132), tensor(0.9131), tensor(0.9135), tensor(0.9131), tensor(0.9132), tensor(0.9131), tensor(0.9141), tensor(0.9131), tensor(0.9131), tensor(0.9131), tensor(0.9130), tensor(0.9131), tensor(0.9131), tensor(0.9131), tensor(0.9131), tensor(0.9131), tensor(0.9132), tensor(0.9131), tensor(0.9131), tensor(0.9197), tensor(0.9169), tensor(0.9131), tensor(0.9131), tensor(0.9131), tensor(0.9131), tensor(0.9226), tensor(0.9131), tensor(0.9145), tensor(0.9138), tensor(0.9131), tensor(0.9132), tensor(0.9131), tensor(0.9132), tensor(0.9131), tensor(0.9131), tensor(0.9131), tensor(0.9131), tensor(0.9131), tensor(0.9131), tensor(0.9167), tensor(0.9131), tensor(0.9132), tensor(0.9144), tensor(0.9131), tensor(0.9132), tensor(0.9132), tensor(0.9131), tensor(0.9131), tensor(0.9132), tensor(0.9139), tensor(0.9131), tensor(0.9131), tensor(0.9131), tensor(0.9151), tensor(0.9131), tensor(0.9131), tensor(0.9165), tensor(0.9131), tensor(0.9132), tensor(0.9171), tensor(0.9132), tensor(0.9131), tensor(0.9132), tensor(0.9132), tensor(0.9132), tensor(0.9131), tensor(0.9131), tensor(0.9131), tensor(0.9132), tensor(0.9132), tensor(0.9136), tensor(0.9132), tensor(0.9131), tensor(0.9206), tensor(0.9131), tensor(0.9131), tensor(0.9132), tensor(0.9130), tensor(0.9132), tensor(0.9131), tensor(0.9131), tensor(0.9148), tensor(0.9131), tensor(0.9132), tensor(0.9132), tensor(0.9131), tensor(0.9132), tensor(0.9132), tensor(0.9138), tensor(0.9222), tensor(0.9131), tensor(0.9170), tensor(0.9131), tensor(0.9131), tensor(0.9131), tensor(0.9131), tensor(0.9131), tensor(0.9146), tensor(0.9131), tensor(0.9144), tensor(0.9131), tensor(0.9131), tensor(0.9131), tensor(0.9131), tensor(0.9131), tensor(0.9130), tensor(0.9131), tensor(0.9132), tensor(0.9132), tensor(0.9131), tensor(0.9131), tensor(0.9131), tensor(0.9131), tensor(0.9132), tensor(0.9132), tensor(0.9131), tensor(0.9226), tensor(0.9132), tensor(0.9179), tensor(0.9131), tensor(0.9132), tensor(0.9131), tensor(0.9131), tensor(0.9131), tensor(0.9131), tensor(0.9131), tensor(0.9131), tensor(0.9131), tensor(0.9131), tensor(0.9131), tensor(0.9262), tensor(0.9132), tensor(0.9131), tensor(0.9131), tensor(0.9132), tensor(0.9238), tensor(0.9131), tensor(0.9159), tensor(0.9132), tensor(0.9240), tensor(0.9131), tensor(0.9130), tensor(0.9131), tensor(0.9132), tensor(0.9131), tensor(0.9131), tensor(0.9156), tensor(0.9132), tensor(0.9131), tensor(0.9214), tensor(0.9160), tensor(0.9132), tensor(0.9131), tensor(0.9132), tensor(0.9131), tensor(0.9131), tensor(0.9131), tensor(0.9151), tensor(0.9131), tensor(0.9131), tensor(0.9131), tensor(0.9248), tensor(0.9131), tensor(0.9132), tensor(0.9160), tensor(0.9145), tensor(0.9131), tensor(0.9131), tensor(0.9132), tensor(0.9131), tensor(0.9131), tensor(0.9131), tensor(0.9132), tensor(0.9131), tensor(0.9131), tensor(0.9153), tensor(0.9131), tensor(0.9132), tensor(0.9132), tensor(0.9131), tensor(0.9131), tensor(0.9131), tensor(0.9131), tensor(0.9131), tensor(0.9132), tensor(0.9131), tensor(0.9243), tensor(0.9131), tensor(0.9148), tensor(0.9132), tensor(0.9131), tensor(0.9142), tensor(0.9131), tensor(0.9171), tensor(0.9132), tensor(0.9153), tensor(0.9131), tensor(0.9132), tensor(0.9131), tensor(0.9131), tensor(0.9131), tensor(0.9132), tensor(0.9131), tensor(0.9132), tensor(0.9131), tensor(0.9163), tensor(0.9131), tensor(0.9131), tensor(0.9131), tensor(0.9133), tensor(0.9131), tensor(0.9131), tensor(0.9131), tensor(0.9131), tensor(0.9131), tensor(0.9131), tensor(0.9131), tensor(0.9131), tensor(0.9131), tensor(0.9132), tensor(0.9132), tensor(0.9132), tensor(0.9131), tensor(0.9204), tensor(0.9131), tensor(0.9131), tensor(0.9131), tensor(0.9131), tensor(0.9131), tensor(0.9132), tensor(0.9135), tensor(0.9130), tensor(0.9131), tensor(0.9131), tensor(0.9131), tensor(0.9131), tensor(0.9156), tensor(0.9131), tensor(0.9131), tensor(0.9131), tensor(0.9131), tensor(0.9131), tensor(0.9131), tensor(0.9131), tensor(0.9132), tensor(0.9131), tensor(0.9131), tensor(0.9131), tensor(0.9131), tensor(0.9131), tensor(0.9130), tensor(0.9131), tensor(0.9131), tensor(0.9131), tensor(0.9139), tensor(0.9131), tensor(0.9132), tensor(0.9131), tensor(0.9131), tensor(0.9132), tensor(0.9131), tensor(0.9131), tensor(0.9131), tensor(0.9131), tensor(0.9131), tensor(0.9131), tensor(0.9131), tensor(0.9131), tensor(0.9131), tensor(0.9131), tensor(0.9159), tensor(0.9132), tensor(0.9147), tensor(0.9131), tensor(0.9131), tensor(0.9235), tensor(0.9131), tensor(0.9131), tensor(0.9182), tensor(0.9132), tensor(0.9131), tensor(0.9204), tensor(0.9184), tensor(0.9132), tensor(0.9132), tensor(0.9132), tensor(0.9260), tensor(0.9131), tensor(0.9131), tensor(0.9131), tensor(0.9131), tensor(0.9132), tensor(0.9131), tensor(0.9131), tensor(0.9131), tensor(0.9131), tensor(0.9131), tensor(0.9131), tensor(0.9131), tensor(0.9132), tensor(0.9134), tensor(0.9132), tensor(0.9131), tensor(0.9132), tensor(0.9132), tensor(0.9131), tensor(0.9131), tensor(0.9131), tensor(0.9131), tensor(0.9132), tensor(0.9131), tensor(0.9132), tensor(0.9131), tensor(0.9131), tensor(0.9132)], 'recall': [tensor(0.0008), tensor(0.0003), tensor(0.0011), tensor(0.0014), tensor(0.0016), tensor(0.0006), tensor(0.0021), tensor(0.0286), tensor(0.0608), tensor(0.0008), tensor(0.0005), tensor(0.0013), tensor(3.4160e-05), tensor(0.0248), tensor(0.0021), tensor(0.0009), tensor(0.0007), tensor(0.0005), tensor(0.0005), tensor(0.0015), tensor(0.0013), tensor(0.0001), tensor(0.0004), tensor(0.0006), tensor(0.0005), tensor(0.0008), tensor(0.0004), tensor(0.0006), tensor(0.0011), tensor(0.0008), tensor(0.0009), tensor(0.0001), tensor(0.0391), tensor(0.0004), tensor(0.0013), tensor(0.0003), tensor(0.0005), tensor(0.0137), tensor(0.0007), tensor(0.0004), tensor(0.0008), tensor(0.0015), tensor(0.0010), tensor(0.0010), tensor(0.0005), tensor(0.0004), tensor(0.0010), tensor(0.0005), tensor(0.0008), tensor(0.0002), tensor(0.0009), tensor(0.0014), tensor(0.0005), tensor(0.0006), tensor(0.0006), tensor(0.0005), tensor(0.0840), tensor(0.0008), tensor(4.0188e-05), tensor(0.0252), tensor(0.0172), tensor(0.0008), tensor(0.0006), tensor(0.0005), tensor(0.0009), tensor(0.0010), tensor(0.0005), tensor(0.0002), tensor(0.0011), tensor(0.0008), tensor(0.0015), tensor(0.0014), tensor(0.0009), tensor(0.0011), tensor(0.0005), tensor(0.0007), tensor(0.0380), tensor(0.0014), tensor(0.0262), tensor(0.0008), tensor(0.0007), tensor(0.0005), tensor(0.0015), tensor(0.0015), tensor(0.0003), tensor(0.0013), tensor(0.0008), tensor(0.0052), tensor(0.0011), tensor(0.0015), tensor(0.0006), tensor(0.0116), tensor(0.0009), tensor(0.0010), tensor(0.0002), tensor(2.6122e-05), tensor(0.0008), tensor(0.0009), tensor(0.0006), tensor(0.0008), tensor(0.0009), tensor(0.0019), tensor(0.0011), tensor(0.0009), tensor(0.0770), tensor(0.0441), tensor(0.0008), tensor(0.0006), tensor(0.0001), tensor(0.0004), tensor(0.1096), tensor(0.0010), tensor(0.0171), tensor(0.0085), tensor(0.0004), tensor(0.0018), tensor(0.0007), tensor(0.0014), tensor(0.0006), tensor(0.0008), tensor(0.0008), tensor(0.0003), tensor(0.0009), tensor(0.0007), tensor(0.0417), tensor(0.0008), tensor(0.0012), tensor(0.0161), tensor(0.0008), tensor(0.0020), tensor(0.0014), tensor(0.0007), tensor(0.0007), tensor(0.0014), tensor(0.0101), tensor(0.0002), tensor(0.0005), tensor(0.0010), tensor(0.0235), tensor(0.0009), tensor(0.0006), tensor(0.0398), tensor(0.0005), tensor(0.0015), tensor(0.0461), tensor(0.0015), tensor(0.0006), tensor(0.0013), tensor(0.0016), tensor(0.0021), tensor(0.0009), tensor(0.0005), tensor(0.0008), tensor(0.0023), tensor(0.0015), tensor(0.0069), tensor(0.0015), tensor(0.0004), tensor(0.0872), tensor(0.0003), tensor(0.0006), tensor(0.0018), tensor(6.6310e-05), tensor(0.0014), tensor(0.0004), tensor(0.0010), tensor(0.0206), tensor(0.0008), tensor(0.0016), tensor(0.0015), tensor(0.0010), tensor(0.0013), tensor(0.0016), tensor(0.0083), tensor(0.1055), tensor(0.0001), tensor(0.0460), tensor(0.0006), tensor(0.0011), tensor(0.0006), tensor(0.0007), tensor(0.0007), tensor(0.0182), tensor(0.0005), tensor(0.0158), tensor(0.0004), tensor(0.0008), tensor(0.0007), tensor(0.0003), tensor(0.0004), tensor(3.0141e-05), tensor(0.0008), tensor(0.0015), tensor(0.0020), tensor(0.0008), tensor(0.0005), tensor(0.0008), tensor(0.0006), tensor(0.0015), tensor(0.0022), tensor(0.0006), tensor(0.1101), tensor(0.0013), tensor(0.0560), tensor(0.0004), tensor(0.0017), tensor(0.0004), tensor(0.0008), tensor(0.0008), tensor(0.0004), tensor(0.0008), tensor(0.0003), tensor(0.0011), tensor(0.0010), tensor(0.0006), tensor(0.1513), tensor(0.0017), tensor(0.0011), tensor(0.0009), tensor(0.0012), tensor(0.1236), tensor(0.0006), tensor(0.0333), tensor(0.0016), tensor(0.1259), tensor(0.0005), tensor(3.6169e-05), tensor(0.0007), tensor(0.0014), tensor(0.0007), tensor(0.0001), tensor(0.0292), tensor(0.0013), tensor(0.0003), tensor(0.0964), tensor(0.0339), tensor(0.0015), tensor(0.0007), tensor(0.0019), tensor(0.0006), tensor(0.0005), tensor(0.0004), tensor(0.0241), tensor(0.0010), tensor(9.8460e-05), tensor(0.0004), tensor(0.1351), tensor(0.0008), tensor(0.0019), tensor(0.0339), tensor(0.0166), tensor(0.0006), tensor(0.0007), tensor(0.0015), tensor(0.0006), tensor(0.0007), tensor(0.0006), tensor(0.0015), tensor(0.0011), tensor(0.0011), tensor(0.0262), tensor(0.0004), tensor(0.0013), tensor(0.0015), tensor(0.0008), tensor(0.0010), tensor(8.6404e-05), tensor(0.0007), tensor(0.0010), tensor(0.0016), tensor(0.0010), tensor(0.1300), tensor(0.0008), tensor(0.0208), tensor(0.0016), tensor(0.0003), tensor(0.0137), tensor(0.0001), tensor(0.0468), tensor(0.0014), tensor(0.0259), tensor(0.0006), tensor(0.0017), tensor(0.0007), tensor(0.0006), tensor(0.0008), tensor(0.0013), tensor(0.0009), tensor(0.0020), tensor(0.0011), tensor(0.0371), tensor(0.0007), tensor(0.0005), tensor(0.0011), tensor(0.0028), tensor(0.0006), tensor(0.0005), tensor(0.0005), tensor(0.0005), tensor(0.0008), tensor(0.0006), tensor(0.0004), tensor(0.0005), tensor(0.0006), tensor(0.0015), tensor(0.0013), tensor(0.0013), tensor(0.0009), tensor(0.0849), tensor(0.0003), tensor(0.0009), tensor(0.0003), tensor(0.0010), tensor(0.0011), tensor(0.0013), tensor(0.0055), tensor(4.0188e-06), tensor(0.0009), tensor(0.0008), tensor(0.0010), tensor(0.0007), tensor(0.0293), tensor(0.0010), tensor(0.0012), tensor(0.0008), tensor(0.0003), tensor(0.0011), tensor(0.0005), tensor(0.0002), tensor(0.0012), tensor(0.0011), tensor(0.0009), tensor(0.0004), tensor(0.0011), tensor(0.0004), tensor(6.8319e-05), tensor(0.0010), tensor(0.0005), tensor(0.0006), tensor(0.0094), tensor(0.0012), tensor(0.0014), tensor(0.0007), tensor(0.0009), tensor(0.0013), tensor(0.0012), tensor(0.0011), tensor(0.0003), tensor(0.0006), tensor(0.0001), tensor(0.0004), tensor(0.0008), tensor(0.0011), tensor(0.0010), tensor(0.0007), tensor(0.0334), tensor(0.0018), tensor(0.0191), tensor(0.0007), tensor(0.0010), tensor(0.1199), tensor(0.0005), tensor(0.0007), tensor(0.0592), tensor(0.0013), tensor(0.0006), tensor(0.0846), tensor(0.0617), tensor(0.0020), tensor(0.0017), tensor(0.0013), tensor(0.1485), tensor(0.0011), tensor(0.0002), tensor(0.0008), tensor(0.0006), tensor(0.0017), tensor(0.0008), tensor(0.0005), tensor(0.0007), tensor(0.0002), tensor(0.0004), tensor(0.0010), tensor(0.0010), tensor(0.0014), tensor(0.0039), tensor(0.0017), tensor(0.0004), tensor(0.0016), tensor(0.0014), tensor(0.0006), tensor(0.0012), tensor(0.0006), tensor(0.0007), tensor(0.0018), tensor(0.0007), tensor(0.0015), tensor(0.0011), tensor(0.0006), tensor(0.0018)]}\n"
     ]
    }
   ],
   "source": [
    "print(metrics_dict)"
   ]
  },
  {
   "cell_type": "code",
   "execution_count": 44,
   "metadata": {},
   "outputs": [
    {
     "name": "stdout",
     "output_type": "stream",
     "text": [
      "Mean metrics\n",
      "iou 0.004345709\n",
      "f1 0.008359963\n",
      "accuracy 0.91377044\n",
      "recall 0.008359963\n"
     ]
    }
   ],
   "source": [
    "print(\"Mean metrics\")\n",
    "for key in metrics_dict.keys():\n",
    "    print(key, np.mean(metrics_dict[key]))"
   ]
  },
  {
   "cell_type": "code",
   "execution_count": null,
   "metadata": {},
   "outputs": [],
   "source": []
  }
 ],
 "metadata": {
  "kernelspec": {
   "display_name": "Python 3",
   "language": "python",
   "name": "python3"
  },
  "language_info": {
   "codemirror_mode": {
    "name": "ipython",
    "version": 3
   },
   "file_extension": ".py",
   "mimetype": "text/x-python",
   "name": "python",
   "nbconvert_exporter": "python",
   "pygments_lexer": "ipython3",
   "version": "3.10.3"
  }
 },
 "nbformat": 4,
 "nbformat_minor": 2
}
