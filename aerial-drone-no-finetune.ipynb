{
 "cells": [
  {
   "cell_type": "code",
   "execution_count": 1,
   "metadata": {},
   "outputs": [
    {
     "name": "stderr",
     "output_type": "stream",
     "text": [
      "d:\\__repos\\aerial_segmentation\\venv\\lib\\site-packages\\tqdm\\auto.py:21: TqdmWarning: IProgress not found. Please update jupyter and ipywidgets. See https://ipywidgets.readthedocs.io/en/stable/user_install.html\n",
      "  from .autonotebook import tqdm as notebook_tqdm\n"
     ]
    }
   ],
   "source": [
    "import numpy as np\n",
    "import matplotlib.pyplot as plt\n",
    "import torch\n",
    "from torch.utils.data import DataLoader\n",
    "from torchvision import transforms\n",
    "from torchvision.transforms import Resize, Compose\n",
    "import segmentation_models_pytorch as smp\n",
    "\n",
    "from src.models.BaselineModel import BaselineModel\n",
    "from src.evaluation.evaluate_result import evaluate_result\n",
    "from src.datasets.AerialDroneSemanticSegmentationDataset import (\n",
    "    AerialDroneSemanticSegmentationDataset,\n",
    ")\n",
    "\n",
    "from src.datasets.utils.ResizeToDivisibleBy32 import ResizeToDivisibleBy32"
   ]
  },
  {
   "cell_type": "markdown",
   "metadata": {},
   "source": [
    "## Prepare environment"
   ]
  },
  {
   "cell_type": "code",
   "execution_count": 2,
   "metadata": {},
   "outputs": [
    {
     "data": {
      "text/plain": [
       "True"
      ]
     },
     "execution_count": 2,
     "metadata": {},
     "output_type": "execute_result"
    }
   ],
   "source": [
    "torch.cuda.is_available()"
   ]
  },
  {
   "cell_type": "code",
   "execution_count": 3,
   "metadata": {},
   "outputs": [
    {
     "name": "stdout",
     "output_type": "stream",
     "text": [
      "cuda\n"
     ]
    }
   ],
   "source": [
    "device = torch.device(\"cuda\" if torch.cuda.is_available() else \"cpu\")\n",
    "print(device)"
   ]
  },
  {
   "cell_type": "code",
   "execution_count": 4,
   "metadata": {},
   "outputs": [],
   "source": [
    "VAL_SIZE = 0.2\n",
    "BATCH_SIZE = 1\n",
    "SEED = 42\n",
    "AERIAL_DRONE_DATASET_PATH = (\n",
    "    \"data/AerialDroneSemanticSegmentationDataset/dataset/semantic_drone_dataset\"\n",
    ")\n",
    "IMAGE_SIZE = 576"
   ]
  },
  {
   "cell_type": "code",
   "execution_count": 5,
   "metadata": {},
   "outputs": [
    {
     "name": "stdout",
     "output_type": "stream",
     "text": [
      "400\n"
     ]
    }
   ],
   "source": [
    "train_dataset = AerialDroneSemanticSegmentationDataset(\n",
    "    AERIAL_DRONE_DATASET_PATH,\n",
    "    transforms=[Compose([Resize(IMAGE_SIZE), ResizeToDivisibleBy32()])],\n",
    ")\n",
    "print(len(train_dataset))"
   ]
  },
  {
   "cell_type": "markdown",
   "metadata": {},
   "source": [
    "## Sanity check data"
   ]
  },
  {
   "cell_type": "code",
   "execution_count": 6,
   "metadata": {},
   "outputs": [],
   "source": [
    "train_loader = DataLoader(train_dataset, batch_size=1, shuffle=True)"
   ]
  },
  {
   "cell_type": "code",
   "execution_count": 7,
   "metadata": {},
   "outputs": [
    {
     "name": "stdout",
     "output_type": "stream",
     "text": [
      "torch.Size([1, 3, 576, 864])\n",
      "torch.Size([1, 1, 576, 864])\n"
     ]
    }
   ],
   "source": [
    "for images, masks in train_loader:\n",
    "    print(images.shape)\n",
    "    print(masks.shape)\n",
    "    break"
   ]
  },
  {
   "cell_type": "code",
   "execution_count": 8,
   "metadata": {},
   "outputs": [],
   "source": [
    "to_pil_transform = transforms.ToPILImage()"
   ]
  },
  {
   "cell_type": "code",
   "execution_count": 9,
   "metadata": {},
   "outputs": [],
   "source": [
    "img = to_pil_transform(images.squeeze())"
   ]
  },
  {
   "cell_type": "code",
   "execution_count": 10,
   "metadata": {},
   "outputs": [],
   "source": [
    "# img.show()"
   ]
  },
  {
   "cell_type": "code",
   "execution_count": 11,
   "metadata": {},
   "outputs": [],
   "source": [
    "msk = to_pil_transform(masks.squeeze())"
   ]
  },
  {
   "cell_type": "code",
   "execution_count": 12,
   "metadata": {},
   "outputs": [],
   "source": [
    "# msk.show()"
   ]
  },
  {
   "cell_type": "markdown",
   "metadata": {},
   "source": [
    "## Run example model on single image"
   ]
  },
  {
   "cell_type": "code",
   "execution_count": 13,
   "metadata": {},
   "outputs": [],
   "source": [
    "model = smp.Unet(\n",
    "    encoder_name=\"resnet18\",  # choose encoder, e.g. mobilenet_v2 or efficientnet-b7\n",
    "    encoder_weights=\"imagenet\",  # use `imagenet` pre-trained weights for encoder initialization\n",
    "    in_channels=3,  # model input channels (1 for gray-scale images, 3 for RGB, etc.)\n",
    "    classes=23,  # model output channels (number of classes in your dataset)\n",
    "    activation=\"softmax\",\n",
    ").to(device)"
   ]
  },
  {
   "cell_type": "code",
   "execution_count": 14,
   "metadata": {},
   "outputs": [],
   "source": [
    "baseline_model = BaselineModel(classes=23).to(device)"
   ]
  },
  {
   "cell_type": "code",
   "execution_count": 15,
   "metadata": {},
   "outputs": [],
   "source": [
    "torch.cuda.empty_cache()"
   ]
  },
  {
   "cell_type": "code",
   "execution_count": 16,
   "metadata": {},
   "outputs": [
    {
     "name": "stdout",
     "output_type": "stream",
     "text": [
      "torch.Size([1, 3, 576, 864])\n",
      "torch.Size([1, 1, 576, 864])\n"
     ]
    },
    {
     "name": "stderr",
     "output_type": "stream",
     "text": [
      "d:\\__repos\\aerial_segmentation\\venv\\lib\\site-packages\\torch\\nn\\modules\\module.py:1511: UserWarning: Implicit dimension choice for softmax has been deprecated. Change the call to include dim=X as an argument.\n",
      "  return self._call_impl(*args, **kwargs)\n"
     ]
    }
   ],
   "source": [
    "model.eval()\n",
    "with torch.no_grad():\n",
    "    for images, masks in train_loader:\n",
    "        print(images.shape)\n",
    "        print(masks.shape)\n",
    "        break\n",
    "    output = model(images.to(device))\n",
    "    # output = (output > 0.5).float()\n",
    "\n",
    "    output_baseline = baseline_model(images.to(device))\n",
    "    # output_baseline = (output_baseline > 0.5).float()"
   ]
  },
  {
   "cell_type": "code",
   "execution_count": 17,
   "metadata": {},
   "outputs": [
    {
     "name": "stdout",
     "output_type": "stream",
     "text": [
      "torch.Size([1, 23, 576, 864])\n"
     ]
    }
   ],
   "source": [
    "print(output.shape)"
   ]
  },
  {
   "cell_type": "code",
   "execution_count": 18,
   "metadata": {},
   "outputs": [
    {
     "name": "stdout",
     "output_type": "stream",
     "text": [
      "torch.Size([1, 23, 576, 864])\n"
     ]
    }
   ],
   "source": [
    "print(output_baseline.shape)"
   ]
  },
  {
   "cell_type": "code",
   "execution_count": 19,
   "metadata": {},
   "outputs": [],
   "source": [
    "output = torch.argmax(output, dim=1)\n",
    "output_baseline = torch.argmax(output_baseline, dim=1)"
   ]
  },
  {
   "cell_type": "code",
   "execution_count": 20,
   "metadata": {},
   "outputs": [
    {
     "name": "stdout",
     "output_type": "stream",
     "text": [
      "torch.Size([1, 576, 864])\n",
      "torch.Size([1, 576, 864])\n"
     ]
    }
   ],
   "source": [
    "print(output.shape)\n",
    "print(output_baseline.shape)"
   ]
  },
  {
   "cell_type": "code",
   "execution_count": 21,
   "metadata": {},
   "outputs": [
    {
     "data": {
      "text/plain": [
       "{'iou': tensor(0.0004),\n",
       " 'f1': tensor(0.0008),\n",
       " 'accuracy': tensor(0.9131),\n",
       " 'recall': tensor(0.0008)}"
      ]
     },
     "execution_count": 21,
     "metadata": {},
     "output_type": "execute_result"
    }
   ],
   "source": [
    "evaluate_result(output.squeeze(), masks.squeeze(), mode=\"multiclass\", num_classes=23)"
   ]
  },
  {
   "cell_type": "code",
   "execution_count": 22,
   "metadata": {},
   "outputs": [
    {
     "data": {
      "text/plain": [
       "{'iou': tensor(0.0224),\n",
       " 'f1': tensor(0.0439),\n",
       " 'accuracy': tensor(0.9169),\n",
       " 'recall': tensor(0.0439)}"
      ]
     },
     "execution_count": 22,
     "metadata": {},
     "output_type": "execute_result"
    }
   ],
   "source": [
    "evaluate_result(\n",
    "    output_baseline.squeeze(), masks.squeeze(), mode=\"multiclass\", num_classes=23\n",
    ")"
   ]
  },
  {
   "cell_type": "markdown",
   "metadata": {},
   "source": [
    "## Run example model on dataset"
   ]
  },
  {
   "cell_type": "code",
   "execution_count": 23,
   "metadata": {},
   "outputs": [],
   "source": [
    "model.eval()\n",
    "metrics_dict = {\n",
    "    \"iou\": [],\n",
    "    \"f1\": [],\n",
    "    \"accuracy\": [],\n",
    "    \"recall\": [],\n",
    "}"
   ]
  },
  {
   "cell_type": "code",
   "execution_count": 24,
   "metadata": {},
   "outputs": [],
   "source": [
    "with torch.no_grad():\n",
    "    for images, masks in train_loader:\n",
    "        output = model(images.to(device))\n",
    "        output = torch.argmax(output, dim=1)\n",
    "\n",
    "        iter_metrics = evaluate_result(\n",
    "            output.squeeze(), masks.squeeze(), mode=\"multiclass\", num_classes=23\n",
    "        )\n",
    "        for key in metrics_dict.keys():\n",
    "            metrics_dict[key].append(iter_metrics[key])"
   ]
  },
  {
   "cell_type": "code",
   "execution_count": 25,
   "metadata": {},
   "outputs": [
    {
     "name": "stdout",
     "output_type": "stream",
     "text": [
      "{'iou': [tensor(0.0006), tensor(0.0002), tensor(0.0004), tensor(0.0027), tensor(1.4066e-05), tensor(1.8085e-05), tensor(0.0005), tensor(0.0003), tensor(6.0285e-05), tensor(0.0033), tensor(0.0089), tensor(0.0020), tensor(0.0001), tensor(0.0003), tensor(0.0006), tensor(0.0002), tensor(0.0006), tensor(0.0003), tensor(0.0008), tensor(0.0005), tensor(0.0002), tensor(0.0002), tensor(0.0002), tensor(0.0007), tensor(0.0004), tensor(0.0002), tensor(0.0002), tensor(0.0006), tensor(0.0003), tensor(0.0004), tensor(0.0006), tensor(5.0235e-06), tensor(0.0004), tensor(0.0008), tensor(9.6460e-05), tensor(0.0004), tensor(0.0005), tensor(0.0002), tensor(0.0039), tensor(0.0003), tensor(0.0008), tensor(0.0002), tensor(0.0002), tensor(0.0026), tensor(0.0007), tensor(0.0002), tensor(0.0006), tensor(0.0002), tensor(5.7271e-05), tensor(5.8276e-05), tensor(0.0004), tensor(0.0002), tensor(0.0001), tensor(0.0003), tensor(0.0002), tensor(0.0005), tensor(0.0003), tensor(0.0025), tensor(0.0004), tensor(0.0017), tensor(0.0002), tensor(0.0001), tensor(0.0003), tensor(0.0071), tensor(0.0001), tensor(0.0004), tensor(0.0003), tensor(0.0008), tensor(0.0003), tensor(0.0004), tensor(0.0002), tensor(0.0003), tensor(0.0002), tensor(3.6170e-05), tensor(0.0005), tensor(0.0001), tensor(6.5309e-05), tensor(0.0007), tensor(0.0014), tensor(0.0043), tensor(0.0006), tensor(0.0004), tensor(3.7175e-05), tensor(0.0002), tensor(0.0004), tensor(0.0003), tensor(0.0024), tensor(0.0003), tensor(0.0066), tensor(0.0006), tensor(0.0005), tensor(0.0001), tensor(0.0002), tensor(0.0011), tensor(0.0001), tensor(0.0003), tensor(0.0009), tensor(0.0001), tensor(4.5213e-05), tensor(0.0019), tensor(2.0094e-06), tensor(0.0051), tensor(0.0002), tensor(0.0006), tensor(0.0003), tensor(0.0005), tensor(0.0033), tensor(0.0141), tensor(0.0004), tensor(0.0014), tensor(0.0003), tensor(0.0005), tensor(0.0006), tensor(0.0002), tensor(0.0005), tensor(0.0022), tensor(0.0005), tensor(0.0005), tensor(0.0006), tensor(0.0004), tensor(0.0003), tensor(0.0004), tensor(0.0005), tensor(1.0047e-05), tensor(6.4305e-05), tensor(0.0003), tensor(0.0004), tensor(0.0001), tensor(0.0004), tensor(0.0003), tensor(0.0013), tensor(0.0006), tensor(2.4113e-05), tensor(0.0012), tensor(0.0003), tensor(0.0015), tensor(0.0020), tensor(0.0011), tensor(0.0001), tensor(0.0020), tensor(0.0053), tensor(0.0004), tensor(0.0001), tensor(0.0003), tensor(0.0003), tensor(0.0003), tensor(0.0005), tensor(0.0001), tensor(0.0005), tensor(0.0011), tensor(3.6170e-05), tensor(0.0004), tensor(0.0163), tensor(0.0006), tensor(0.0018), tensor(0.0017), tensor(0.0033), tensor(0.0007), tensor(0.0001), tensor(0.0005), tensor(0.0002), tensor(0.0001), tensor(2.2104e-05), tensor(0.0004), tensor(2.3108e-05), tensor(8.5406e-05), tensor(0.0002), tensor(0.0002), tensor(8.9426e-05), tensor(0.0007), tensor(0.0023), tensor(0.0080), tensor(0.0008), tensor(0.0004), tensor(0.0005), tensor(0.0005), tensor(0.0002), tensor(0.0007), tensor(0.0003), tensor(0.0003), tensor(0.0002), tensor(0.0007), tensor(0.0008), tensor(0.0002), tensor(0.0002), tensor(0.0072), tensor(0.0002), tensor(0.0008), tensor(0.0002), tensor(0.0002), tensor(0.0007), tensor(0.0026), tensor(3.1146e-05), tensor(0.0074), tensor(7.8372e-05), tensor(0.0161), tensor(0.0006), tensor(0.0004), tensor(0.0002), tensor(0.0006), tensor(0.0003), tensor(0.0004), tensor(0.0005), tensor(0.0018), tensor(0.0096), tensor(0.0003), tensor(0.0005), tensor(0.0009), tensor(0.0002), tensor(7.3348e-05), tensor(0.0004), tensor(0.0004), tensor(0.0002), tensor(0.0003), tensor(0.0002), tensor(0.0077), tensor(0.0002), tensor(0.0003), tensor(0.0005), tensor(0.0118), tensor(8.3397e-05), tensor(0.0005), tensor(0.0004), tensor(0.0004), tensor(2.0094e-06), tensor(0.0004), tensor(0.0002), tensor(0.0002), tensor(0.0010), tensor(0.0005), tensor(0.0001), tensor(0.0002), tensor(0.0003), tensor(0.0003), tensor(0.0004), tensor(0.0054), tensor(0.0007), tensor(0.0006), tensor(0.0007), tensor(0.0011), tensor(0.0006), tensor(0.0003), tensor(0.0076), tensor(0.0002), tensor(0.0002), tensor(0.0008), tensor(0.0004), tensor(6.6314e-05), tensor(0.0002), tensor(0.0001), tensor(0.0002), tensor(3.4161e-05), tensor(0.0003), tensor(0.0002), tensor(4.0188e-06), tensor(0.0007), tensor(0.0003), tensor(0.0006), tensor(0.0006), tensor(0.0001), tensor(7.4353e-05), tensor(0.0004), tensor(0.0006), tensor(0.0085), tensor(0.0004), tensor(0.0002), tensor(3.8180e-05), tensor(0.0002), tensor(0.0003), tensor(0.0010), tensor(8.0376e-06), tensor(0.0007), tensor(2.0094e-06), tensor(0.0003), tensor(0.0028), tensor(0.0020), tensor(5.0237e-05), tensor(0.0002), tensor(0.0008), tensor(0.0003), tensor(0.0003), tensor(0.0004), tensor(0.0007), tensor(0.0004), tensor(0.0001), tensor(0.0002), tensor(0.0004), tensor(0.0003), tensor(0.0005), tensor(0.0044), tensor(0.0037), tensor(0.0006), tensor(0.0005), tensor(0.0003), tensor(0.0002), tensor(0.0005), tensor(0.0004), tensor(0.0027), tensor(0.0027), tensor(0.0002), tensor(0.0001), tensor(1.8085e-05), tensor(0.0002), tensor(0.0005), tensor(0.0003), tensor(0.0003), tensor(0.0004), tensor(0.0007), tensor(0.0009), tensor(0.0005), tensor(0.0001), tensor(0.0005), tensor(0.0038), tensor(0.0007), tensor(0.0003), tensor(0.0002), tensor(0.0013), tensor(0.0005), tensor(0.0005), tensor(0.0005), tensor(0.0006), tensor(0.0007), tensor(0.0010), tensor(0.0004), tensor(4.3204e-05), tensor(0.0078), tensor(0.0005), tensor(0.0004), tensor(0.0002), tensor(0.0003), tensor(0.0003), tensor(0.0002), tensor(0.0006), tensor(0.0013), tensor(0.0003), tensor(0.0008), tensor(0.0002), tensor(0.0003), tensor(0.0005), tensor(0.0003), tensor(0.0063), tensor(0.0003), tensor(0.0009), tensor(0.0002), tensor(0.0004), tensor(0.0005), tensor(0.0006), tensor(0.0007), tensor(0.0002), tensor(0.0004), tensor(0.), tensor(0.0002), tensor(0.0012), tensor(0.0002), tensor(0.0002), tensor(0.0005), tensor(0.0004), tensor(0.0003), tensor(0.0008), tensor(9.5455e-05), tensor(0.0001), tensor(2.1099e-05), tensor(0.0007), tensor(0.0004), tensor(0.0006), tensor(0.0005), tensor(0.0003), tensor(0.0002), tensor(4.7223e-05), tensor(0.0002), tensor(0.0004), tensor(8.0376e-06), tensor(0.0005), tensor(0.0035), tensor(0.0001), tensor(0.0003), tensor(3.1146e-05), tensor(0.0037), tensor(0.0031), tensor(0.0006), tensor(0.0006), tensor(0.0009), tensor(0.0004), tensor(0.0004), tensor(0.0007), tensor(0.0006), tensor(0.0003), tensor(0.0002), tensor(0.0004), tensor(0.0004), tensor(0.0003), tensor(0.0003), tensor(3.9185e-05), tensor(0.0003), tensor(0.0002), tensor(0.0001), tensor(0.0048), tensor(0.0013), tensor(0.0004), tensor(0.0011)], 'f1': [tensor(0.0012), tensor(0.0005), tensor(0.0009), tensor(0.0055), tensor(2.8131e-05), tensor(3.6169e-05), tensor(0.0010), tensor(0.0006), tensor(0.0001), tensor(0.0067), tensor(0.0176), tensor(0.0040), tensor(0.0003), tensor(0.0006), tensor(0.0011), tensor(0.0003), tensor(0.0013), tensor(0.0006), tensor(0.0017), tensor(0.0009), tensor(0.0003), tensor(0.0005), tensor(0.0003), tensor(0.0013), tensor(0.0007), tensor(0.0005), tensor(0.0004), tensor(0.0011), tensor(0.0006), tensor(0.0009), tensor(0.0011), tensor(1.0047e-05), tensor(0.0008), tensor(0.0015), tensor(0.0002), tensor(0.0007), tensor(0.0010), tensor(0.0004), tensor(0.0078), tensor(0.0006), tensor(0.0015), tensor(0.0004), tensor(0.0003), tensor(0.0053), tensor(0.0014), tensor(0.0004), tensor(0.0012), tensor(0.0004), tensor(0.0001), tensor(0.0001), tensor(0.0009), tensor(0.0003), tensor(0.0002), tensor(0.0006), tensor(0.0004), tensor(0.0010), tensor(0.0006), tensor(0.0051), tensor(0.0008), tensor(0.0035), tensor(0.0005), tensor(0.0002), tensor(0.0006), tensor(0.0142), tensor(0.0002), tensor(0.0009), tensor(0.0006), tensor(0.0016), tensor(0.0005), tensor(0.0008), tensor(0.0005), tensor(0.0006), tensor(0.0004), tensor(7.2338e-05), tensor(0.0009), tensor(0.0003), tensor(0.0001), tensor(0.0015), tensor(0.0028), tensor(0.0085), tensor(0.0012), tensor(0.0009), tensor(7.4347e-05), tensor(0.0003), tensor(0.0008), tensor(0.0005), tensor(0.0048), tensor(0.0006), tensor(0.0132), tensor(0.0012), tensor(0.0010), tensor(0.0003), tensor(0.0005), tensor(0.0023), tensor(0.0002), tensor(0.0005), tensor(0.0019), tensor(0.0002), tensor(9.0422e-05), tensor(0.0038), tensor(4.0188e-06), tensor(0.0101), tensor(0.0004), tensor(0.0012), tensor(0.0005), tensor(0.0010), tensor(0.0065), tensor(0.0277), tensor(0.0008), tensor(0.0028), tensor(0.0006), tensor(0.0009), tensor(0.0011), tensor(0.0004), tensor(0.0010), tensor(0.0044), tensor(0.0010), tensor(0.0010), tensor(0.0012), tensor(0.0008), tensor(0.0005), tensor(0.0009), tensor(0.0009), tensor(2.0094e-05), tensor(0.0001), tensor(0.0007), tensor(0.0007), tensor(0.0003), tensor(0.0007), tensor(0.0006), tensor(0.0026), tensor(0.0013), tensor(4.8225e-05), tensor(0.0025), tensor(0.0007), tensor(0.0030), tensor(0.0041), tensor(0.0022), tensor(0.0002), tensor(0.0040), tensor(0.0106), tensor(0.0009), tensor(0.0002), tensor(0.0006), tensor(0.0007), tensor(0.0006), tensor(0.0009), tensor(0.0002), tensor(0.0009), tensor(0.0021), tensor(7.2338e-05), tensor(0.0008), tensor(0.0321), tensor(0.0012), tensor(0.0037), tensor(0.0034), tensor(0.0066), tensor(0.0014), tensor(0.0002), tensor(0.0009), tensor(0.0004), tensor(0.0003), tensor(4.4207e-05), tensor(0.0009), tensor(4.6216e-05), tensor(0.0002), tensor(0.0003), tensor(0.0004), tensor(0.0002), tensor(0.0014), tensor(0.0046), tensor(0.0159), tensor(0.0017), tensor(0.0009), tensor(0.0010), tensor(0.0009), tensor(0.0004), tensor(0.0014), tensor(0.0005), tensor(0.0006), tensor(0.0003), tensor(0.0014), tensor(0.0015), tensor(0.0005), tensor(0.0005), tensor(0.0143), tensor(0.0003), tensor(0.0016), tensor(0.0005), tensor(0.0003), tensor(0.0014), tensor(0.0052), tensor(6.2291e-05), tensor(0.0147), tensor(0.0002), tensor(0.0318), tensor(0.0011), tensor(0.0008), tensor(0.0004), tensor(0.0012), tensor(0.0006), tensor(0.0008), tensor(0.0010), tensor(0.0036), tensor(0.0189), tensor(0.0006), tensor(0.0009), tensor(0.0017), tensor(0.0005), tensor(0.0001), tensor(0.0009), tensor(0.0008), tensor(0.0005), tensor(0.0006), tensor(0.0004), tensor(0.0152), tensor(0.0004), tensor(0.0006), tensor(0.0011), tensor(0.0234), tensor(0.0002), tensor(0.0011), tensor(0.0009), tensor(0.0007), tensor(4.0188e-06), tensor(0.0008), tensor(0.0005), tensor(0.0004), tensor(0.0020), tensor(0.0010), tensor(0.0002), tensor(0.0004), tensor(0.0005), tensor(0.0007), tensor(0.0007), tensor(0.0108), tensor(0.0013), tensor(0.0011), tensor(0.0014), tensor(0.0022), tensor(0.0012), tensor(0.0006), tensor(0.0150), tensor(0.0004), tensor(0.0004), tensor(0.0016), tensor(0.0008), tensor(0.0001), tensor(0.0005), tensor(0.0003), tensor(0.0005), tensor(6.8319e-05), tensor(0.0006), tensor(0.0004), tensor(8.0376e-06), tensor(0.0013), tensor(0.0006), tensor(0.0011), tensor(0.0011), tensor(0.0002), tensor(0.0001), tensor(0.0008), tensor(0.0013), tensor(0.0168), tensor(0.0008), tensor(0.0004), tensor(7.6357e-05), tensor(0.0005), tensor(0.0006), tensor(0.0020), tensor(1.6075e-05), tensor(0.0014), tensor(4.0188e-06), tensor(0.0006), tensor(0.0055), tensor(0.0040), tensor(0.0001), tensor(0.0004), tensor(0.0017), tensor(0.0006), tensor(0.0006), tensor(0.0007), tensor(0.0013), tensor(0.0008), tensor(0.0002), tensor(0.0004), tensor(0.0008), tensor(0.0007), tensor(0.0010), tensor(0.0088), tensor(0.0073), tensor(0.0012), tensor(0.0010), tensor(0.0005), tensor(0.0004), tensor(0.0009), tensor(0.0009), tensor(0.0054), tensor(0.0053), tensor(0.0004), tensor(0.0002), tensor(3.6169e-05), tensor(0.0003), tensor(0.0010), tensor(0.0005), tensor(0.0005), tensor(0.0008), tensor(0.0014), tensor(0.0018), tensor(0.0011), tensor(0.0002), tensor(0.0011), tensor(0.0075), tensor(0.0014), tensor(0.0006), tensor(0.0004), tensor(0.0025), tensor(0.0011), tensor(0.0011), tensor(0.0009), tensor(0.0012), tensor(0.0014), tensor(0.0020), tensor(0.0009), tensor(8.6404e-05), tensor(0.0154), tensor(0.0009), tensor(0.0008), tensor(0.0004), tensor(0.0006), tensor(0.0006), tensor(0.0004), tensor(0.0011), tensor(0.0026), tensor(0.0006), tensor(0.0016), tensor(0.0005), tensor(0.0005), tensor(0.0009), tensor(0.0006), tensor(0.0125), tensor(0.0005), tensor(0.0017), tensor(0.0005), tensor(0.0008), tensor(0.0009), tensor(0.0011), tensor(0.0014), tensor(0.0004), tensor(0.0007), tensor(0.), tensor(0.0005), tensor(0.0024), tensor(0.0005), tensor(0.0005), tensor(0.0009), tensor(0.0009), tensor(0.0007), tensor(0.0015), tensor(0.0002), tensor(0.0002), tensor(4.2197e-05), tensor(0.0013), tensor(0.0007), tensor(0.0011), tensor(0.0011), tensor(0.0006), tensor(0.0004), tensor(9.4441e-05), tensor(0.0004), tensor(0.0008), tensor(1.6075e-05), tensor(0.0010), tensor(0.0071), tensor(0.0002), tensor(0.0007), tensor(6.2291e-05), tensor(0.0073), tensor(0.0062), tensor(0.0013), tensor(0.0013), tensor(0.0018), tensor(0.0009), tensor(0.0009), tensor(0.0014), tensor(0.0012), tensor(0.0006), tensor(0.0005), tensor(0.0008), tensor(0.0008), tensor(0.0006), tensor(0.0006), tensor(7.8366e-05), tensor(0.0006), tensor(0.0003), tensor(0.0003), tensor(0.0095), tensor(0.0027), tensor(0.0007), tensor(0.0022)], 'accuracy': [tensor(0.9131), tensor(0.9131), tensor(0.9131), tensor(0.9135), tensor(0.9130), tensor(0.9130), tensor(0.9131), tensor(0.9131), tensor(0.9131), tensor(0.9136), tensor(0.9146), tensor(0.9134), tensor(0.9131), tensor(0.9131), tensor(0.9131), tensor(0.9131), tensor(0.9132), tensor(0.9131), tensor(0.9132), tensor(0.9131), tensor(0.9131), tensor(0.9131), tensor(0.9131), tensor(0.9132), tensor(0.9131), tensor(0.9131), tensor(0.9131), tensor(0.9131), tensor(0.9131), tensor(0.9131), tensor(0.9131), tensor(0.9130), tensor(0.9131), tensor(0.9132), tensor(0.9131), tensor(0.9131), tensor(0.9131), tensor(0.9131), tensor(0.9137), tensor(0.9131), tensor(0.9132), tensor(0.9131), tensor(0.9131), tensor(0.9135), tensor(0.9132), tensor(0.9131), tensor(0.9132), tensor(0.9131), tensor(0.9131), tensor(0.9131), tensor(0.9131), tensor(0.9131), tensor(0.9131), tensor(0.9131), tensor(0.9131), tensor(0.9131), tensor(0.9131), tensor(0.9135), tensor(0.9131), tensor(0.9133), tensor(0.9131), tensor(0.9131), tensor(0.9131), tensor(0.9143), tensor(0.9131), tensor(0.9131), tensor(0.9131), tensor(0.9132), tensor(0.9131), tensor(0.9131), tensor(0.9131), tensor(0.9131), tensor(0.9131), tensor(0.9130), tensor(0.9131), tensor(0.9131), tensor(0.9131), tensor(0.9132), tensor(0.9133), tensor(0.9138), tensor(0.9131), tensor(0.9131), tensor(0.9130), tensor(0.9131), tensor(0.9131), tensor(0.9131), tensor(0.9135), tensor(0.9131), tensor(0.9142), tensor(0.9131), tensor(0.9131), tensor(0.9131), tensor(0.9131), tensor(0.9132), tensor(0.9131), tensor(0.9131), tensor(0.9132), tensor(0.9131), tensor(0.9131), tensor(0.9134), tensor(0.9130), tensor(0.9139), tensor(0.9131), tensor(0.9131), tensor(0.9131), tensor(0.9131), tensor(0.9136), tensor(0.9155), tensor(0.9131), tensor(0.9133), tensor(0.9131), tensor(0.9131), tensor(0.9131), tensor(0.9131), tensor(0.9131), tensor(0.9134), tensor(0.9131), tensor(0.9131), tensor(0.9131), tensor(0.9131), tensor(0.9131), tensor(0.9131), tensor(0.9131), tensor(0.9130), tensor(0.9131), tensor(0.9131), tensor(0.9131), tensor(0.9131), tensor(0.9131), tensor(0.9131), tensor(0.9133), tensor(0.9132), tensor(0.9130), tensor(0.9133), tensor(0.9131), tensor(0.9133), tensor(0.9134), tensor(0.9132), tensor(0.9131), tensor(0.9134), tensor(0.9140), tensor(0.9131), tensor(0.9131), tensor(0.9131), tensor(0.9131), tensor(0.9131), tensor(0.9131), tensor(0.9131), tensor(0.9131), tensor(0.9132), tensor(0.9130), tensor(0.9131), tensor(0.9158), tensor(0.9132), tensor(0.9134), tensor(0.9133), tensor(0.9136), tensor(0.9132), tensor(0.9131), tensor(0.9131), tensor(0.9131), tensor(0.9131), tensor(0.9130), tensor(0.9131), tensor(0.9130), tensor(0.9131), tensor(0.9131), tensor(0.9131), tensor(0.9131), tensor(0.9132), tensor(0.9134), tensor(0.9144), tensor(0.9132), tensor(0.9131), tensor(0.9131), tensor(0.9131), tensor(0.9131), tensor(0.9132), tensor(0.9131), tensor(0.9131), tensor(0.9131), tensor(0.9132), tensor(0.9132), tensor(0.9131), tensor(0.9131), tensor(0.9143), tensor(0.9131), tensor(0.9132), tensor(0.9131), tensor(0.9131), tensor(0.9132), tensor(0.9135), tensor(0.9130), tensor(0.9143), tensor(0.9131), tensor(0.9158), tensor(0.9131), tensor(0.9131), tensor(0.9131), tensor(0.9131), tensor(0.9131), tensor(0.9131), tensor(0.9131), tensor(0.9134), tensor(0.9147), tensor(0.9131), tensor(0.9131), tensor(0.9132), tensor(0.9131), tensor(0.9131), tensor(0.9131), tensor(0.9131), tensor(0.9131), tensor(0.9131), tensor(0.9131), tensor(0.9144), tensor(0.9131), tensor(0.9131), tensor(0.9131), tensor(0.9151), tensor(0.9131), tensor(0.9131), tensor(0.9131), tensor(0.9131), tensor(0.9130), tensor(0.9131), tensor(0.9131), tensor(0.9131), tensor(0.9132), tensor(0.9131), tensor(0.9131), tensor(0.9131), tensor(0.9131), tensor(0.9131), tensor(0.9131), tensor(0.9140), tensor(0.9132), tensor(0.9131), tensor(0.9132), tensor(0.9132), tensor(0.9132), tensor(0.9131), tensor(0.9143), tensor(0.9131), tensor(0.9131), tensor(0.9132), tensor(0.9131), tensor(0.9131), tensor(0.9131), tensor(0.9131), tensor(0.9131), tensor(0.9130), tensor(0.9131), tensor(0.9131), tensor(0.9130), tensor(0.9132), tensor(0.9131), tensor(0.9131), tensor(0.9131), tensor(0.9131), tensor(0.9131), tensor(0.9131), tensor(0.9132), tensor(0.9145), tensor(0.9131), tensor(0.9131), tensor(0.9131), tensor(0.9131), tensor(0.9131), tensor(0.9132), tensor(0.9130), tensor(0.9132), tensor(0.9130), tensor(0.9131), tensor(0.9135), tensor(0.9134), tensor(0.9131), tensor(0.9131), tensor(0.9132), tensor(0.9131), tensor(0.9131), tensor(0.9131), tensor(0.9132), tensor(0.9131), tensor(0.9131), tensor(0.9131), tensor(0.9131), tensor(0.9131), tensor(0.9131), tensor(0.9138), tensor(0.9137), tensor(0.9131), tensor(0.9131), tensor(0.9131), tensor(0.9131), tensor(0.9131), tensor(0.9131), tensor(0.9135), tensor(0.9135), tensor(0.9131), tensor(0.9131), tensor(0.9130), tensor(0.9131), tensor(0.9131), tensor(0.9131), tensor(0.9131), tensor(0.9131), tensor(0.9132), tensor(0.9132), tensor(0.9131), tensor(0.9131), tensor(0.9131), tensor(0.9137), tensor(0.9132), tensor(0.9131), tensor(0.9131), tensor(0.9133), tensor(0.9131), tensor(0.9131), tensor(0.9131), tensor(0.9131), tensor(0.9132), tensor(0.9132), tensor(0.9131), tensor(0.9131), tensor(0.9144), tensor(0.9131), tensor(0.9131), tensor(0.9131), tensor(0.9131), tensor(0.9131), tensor(0.9131), tensor(0.9131), tensor(0.9133), tensor(0.9131), tensor(0.9132), tensor(0.9131), tensor(0.9131), tensor(0.9131), tensor(0.9131), tensor(0.9141), tensor(0.9131), tensor(0.9132), tensor(0.9131), tensor(0.9131), tensor(0.9131), tensor(0.9131), tensor(0.9132), tensor(0.9131), tensor(0.9131), tensor(0.9130), tensor(0.9131), tensor(0.9133), tensor(0.9131), tensor(0.9131), tensor(0.9131), tensor(0.9131), tensor(0.9131), tensor(0.9132), tensor(0.9131), tensor(0.9131), tensor(0.9130), tensor(0.9132), tensor(0.9131), tensor(0.9131), tensor(0.9131), tensor(0.9131), tensor(0.9131), tensor(0.9131), tensor(0.9131), tensor(0.9131), tensor(0.9130), tensor(0.9131), tensor(0.9137), tensor(0.9131), tensor(0.9131), tensor(0.9130), tensor(0.9137), tensor(0.9136), tensor(0.9132), tensor(0.9132), tensor(0.9132), tensor(0.9131), tensor(0.9131), tensor(0.9132), tensor(0.9131), tensor(0.9131), tensor(0.9131), tensor(0.9131), tensor(0.9131), tensor(0.9131), tensor(0.9131), tensor(0.9131), tensor(0.9131), tensor(0.9131), tensor(0.9131), tensor(0.9139), tensor(0.9133), tensor(0.9131), tensor(0.9132)], 'recall': [tensor(0.0012), tensor(0.0005), tensor(0.0009), tensor(0.0055), tensor(2.8131e-05), tensor(3.6169e-05), tensor(0.0010), tensor(0.0006), tensor(0.0001), tensor(0.0067), tensor(0.0176), tensor(0.0040), tensor(0.0003), tensor(0.0006), tensor(0.0011), tensor(0.0003), tensor(0.0013), tensor(0.0006), tensor(0.0017), tensor(0.0009), tensor(0.0003), tensor(0.0005), tensor(0.0003), tensor(0.0013), tensor(0.0007), tensor(0.0005), tensor(0.0004), tensor(0.0011), tensor(0.0006), tensor(0.0009), tensor(0.0011), tensor(1.0047e-05), tensor(0.0008), tensor(0.0015), tensor(0.0002), tensor(0.0007), tensor(0.0010), tensor(0.0004), tensor(0.0078), tensor(0.0006), tensor(0.0015), tensor(0.0004), tensor(0.0003), tensor(0.0053), tensor(0.0014), tensor(0.0004), tensor(0.0012), tensor(0.0004), tensor(0.0001), tensor(0.0001), tensor(0.0009), tensor(0.0003), tensor(0.0002), tensor(0.0006), tensor(0.0004), tensor(0.0010), tensor(0.0006), tensor(0.0051), tensor(0.0008), tensor(0.0035), tensor(0.0005), tensor(0.0002), tensor(0.0006), tensor(0.0142), tensor(0.0002), tensor(0.0009), tensor(0.0006), tensor(0.0016), tensor(0.0005), tensor(0.0008), tensor(0.0005), tensor(0.0006), tensor(0.0004), tensor(7.2338e-05), tensor(0.0009), tensor(0.0003), tensor(0.0001), tensor(0.0015), tensor(0.0028), tensor(0.0085), tensor(0.0012), tensor(0.0009), tensor(7.4347e-05), tensor(0.0003), tensor(0.0008), tensor(0.0005), tensor(0.0048), tensor(0.0006), tensor(0.0132), tensor(0.0012), tensor(0.0010), tensor(0.0003), tensor(0.0005), tensor(0.0023), tensor(0.0002), tensor(0.0005), tensor(0.0019), tensor(0.0002), tensor(9.0422e-05), tensor(0.0038), tensor(4.0188e-06), tensor(0.0101), tensor(0.0004), tensor(0.0012), tensor(0.0005), tensor(0.0010), tensor(0.0065), tensor(0.0277), tensor(0.0008), tensor(0.0028), tensor(0.0006), tensor(0.0009), tensor(0.0011), tensor(0.0004), tensor(0.0010), tensor(0.0044), tensor(0.0010), tensor(0.0010), tensor(0.0012), tensor(0.0008), tensor(0.0005), tensor(0.0009), tensor(0.0009), tensor(2.0094e-05), tensor(0.0001), tensor(0.0007), tensor(0.0007), tensor(0.0003), tensor(0.0007), tensor(0.0006), tensor(0.0026), tensor(0.0013), tensor(4.8225e-05), tensor(0.0025), tensor(0.0007), tensor(0.0030), tensor(0.0041), tensor(0.0022), tensor(0.0002), tensor(0.0040), tensor(0.0106), tensor(0.0009), tensor(0.0002), tensor(0.0006), tensor(0.0007), tensor(0.0006), tensor(0.0009), tensor(0.0002), tensor(0.0009), tensor(0.0021), tensor(7.2338e-05), tensor(0.0008), tensor(0.0321), tensor(0.0012), tensor(0.0037), tensor(0.0034), tensor(0.0066), tensor(0.0014), tensor(0.0002), tensor(0.0009), tensor(0.0004), tensor(0.0003), tensor(4.4207e-05), tensor(0.0009), tensor(4.6216e-05), tensor(0.0002), tensor(0.0003), tensor(0.0004), tensor(0.0002), tensor(0.0014), tensor(0.0046), tensor(0.0159), tensor(0.0017), tensor(0.0009), tensor(0.0010), tensor(0.0009), tensor(0.0004), tensor(0.0014), tensor(0.0005), tensor(0.0006), tensor(0.0003), tensor(0.0014), tensor(0.0015), tensor(0.0005), tensor(0.0005), tensor(0.0143), tensor(0.0003), tensor(0.0016), tensor(0.0005), tensor(0.0003), tensor(0.0014), tensor(0.0052), tensor(6.2291e-05), tensor(0.0147), tensor(0.0002), tensor(0.0318), tensor(0.0011), tensor(0.0008), tensor(0.0004), tensor(0.0012), tensor(0.0006), tensor(0.0008), tensor(0.0010), tensor(0.0036), tensor(0.0189), tensor(0.0006), tensor(0.0009), tensor(0.0017), tensor(0.0005), tensor(0.0001), tensor(0.0009), tensor(0.0008), tensor(0.0005), tensor(0.0006), tensor(0.0004), tensor(0.0152), tensor(0.0004), tensor(0.0006), tensor(0.0011), tensor(0.0234), tensor(0.0002), tensor(0.0011), tensor(0.0009), tensor(0.0007), tensor(4.0188e-06), tensor(0.0008), tensor(0.0005), tensor(0.0004), tensor(0.0020), tensor(0.0010), tensor(0.0002), tensor(0.0004), tensor(0.0005), tensor(0.0007), tensor(0.0007), tensor(0.0108), tensor(0.0013), tensor(0.0011), tensor(0.0014), tensor(0.0022), tensor(0.0012), tensor(0.0006), tensor(0.0150), tensor(0.0004), tensor(0.0004), tensor(0.0016), tensor(0.0008), tensor(0.0001), tensor(0.0005), tensor(0.0003), tensor(0.0005), tensor(6.8319e-05), tensor(0.0006), tensor(0.0004), tensor(8.0376e-06), tensor(0.0013), tensor(0.0006), tensor(0.0011), tensor(0.0011), tensor(0.0002), tensor(0.0001), tensor(0.0008), tensor(0.0013), tensor(0.0168), tensor(0.0008), tensor(0.0004), tensor(7.6357e-05), tensor(0.0005), tensor(0.0006), tensor(0.0020), tensor(1.6075e-05), tensor(0.0014), tensor(4.0188e-06), tensor(0.0006), tensor(0.0055), tensor(0.0040), tensor(0.0001), tensor(0.0004), tensor(0.0017), tensor(0.0006), tensor(0.0006), tensor(0.0007), tensor(0.0013), tensor(0.0008), tensor(0.0002), tensor(0.0004), tensor(0.0008), tensor(0.0007), tensor(0.0010), tensor(0.0088), tensor(0.0073), tensor(0.0012), tensor(0.0010), tensor(0.0005), tensor(0.0004), tensor(0.0009), tensor(0.0009), tensor(0.0054), tensor(0.0053), tensor(0.0004), tensor(0.0002), tensor(3.6169e-05), tensor(0.0003), tensor(0.0010), tensor(0.0005), tensor(0.0005), tensor(0.0008), tensor(0.0014), tensor(0.0018), tensor(0.0011), tensor(0.0002), tensor(0.0011), tensor(0.0075), tensor(0.0014), tensor(0.0006), tensor(0.0004), tensor(0.0025), tensor(0.0011), tensor(0.0011), tensor(0.0009), tensor(0.0012), tensor(0.0014), tensor(0.0020), tensor(0.0009), tensor(8.6404e-05), tensor(0.0154), tensor(0.0009), tensor(0.0008), tensor(0.0004), tensor(0.0006), tensor(0.0006), tensor(0.0004), tensor(0.0011), tensor(0.0026), tensor(0.0006), tensor(0.0016), tensor(0.0005), tensor(0.0005), tensor(0.0009), tensor(0.0006), tensor(0.0125), tensor(0.0005), tensor(0.0017), tensor(0.0005), tensor(0.0008), tensor(0.0009), tensor(0.0011), tensor(0.0014), tensor(0.0004), tensor(0.0007), tensor(0.), tensor(0.0005), tensor(0.0024), tensor(0.0005), tensor(0.0005), tensor(0.0009), tensor(0.0009), tensor(0.0007), tensor(0.0015), tensor(0.0002), tensor(0.0002), tensor(4.2197e-05), tensor(0.0013), tensor(0.0007), tensor(0.0011), tensor(0.0011), tensor(0.0006), tensor(0.0004), tensor(9.4441e-05), tensor(0.0004), tensor(0.0008), tensor(1.6075e-05), tensor(0.0010), tensor(0.0071), tensor(0.0002), tensor(0.0007), tensor(6.2291e-05), tensor(0.0073), tensor(0.0062), tensor(0.0013), tensor(0.0013), tensor(0.0018), tensor(0.0009), tensor(0.0009), tensor(0.0014), tensor(0.0012), tensor(0.0006), tensor(0.0005), tensor(0.0008), tensor(0.0008), tensor(0.0006), tensor(0.0006), tensor(7.8366e-05), tensor(0.0006), tensor(0.0003), tensor(0.0003), tensor(0.0095), tensor(0.0027), tensor(0.0007), tensor(0.0022)]}\n"
     ]
    }
   ],
   "source": [
    "print(metrics_dict)"
   ]
  },
  {
   "cell_type": "code",
   "execution_count": 26,
   "metadata": {},
   "outputs": [
    {
     "name": "stdout",
     "output_type": "stream",
     "text": [
      "Mean metrics\n",
      "iou 0.0009743935\n",
      "f1 0.0019387779\n",
      "accuracy 0.91321206\n",
      "recall 0.001938778\n"
     ]
    }
   ],
   "source": [
    "print(\"Mean metrics\")\n",
    "for key in metrics_dict.keys():\n",
    "    print(key, np.mean(metrics_dict[key]))"
   ]
  },
  {
   "cell_type": "markdown",
   "metadata": {},
   "source": [
    "# UNET++"
   ]
  },
  {
   "cell_type": "markdown",
   "metadata": {},
   "source": [
    "## Run example model on single image"
   ]
  },
  {
   "cell_type": "code",
   "execution_count": 27,
   "metadata": {},
   "outputs": [],
   "source": [
    "model = smp.UnetPlusPlus(\n",
    "    encoder_name=\"resnet18\",  # choose encoder, e.g. mobilenet_v2 or efficientnet-b7\n",
    "    encoder_weights=\"imagenet\",  # use `imagenet` pre-trained weights for encoder initialization\n",
    "    in_channels=3,  # model input channels (1 for gray-scale images, 3 for RGB, etc.)\n",
    "    classes=23,  # model output channels (number of classes in your dataset)\n",
    "    activation=\"softmax\",\n",
    ").to(device)"
   ]
  },
  {
   "cell_type": "code",
   "execution_count": 28,
   "metadata": {},
   "outputs": [],
   "source": [
    "baseline_model = BaselineModel()"
   ]
  },
  {
   "cell_type": "code",
   "execution_count": 29,
   "metadata": {},
   "outputs": [],
   "source": [
    "torch.cuda.empty_cache()"
   ]
  },
  {
   "cell_type": "code",
   "execution_count": 30,
   "metadata": {},
   "outputs": [
    {
     "name": "stdout",
     "output_type": "stream",
     "text": [
      "torch.Size([1, 3, 576, 864])\n",
      "torch.Size([1, 1, 576, 864])\n"
     ]
    }
   ],
   "source": [
    "model.eval()\n",
    "with torch.no_grad():\n",
    "    for images, masks in train_loader:\n",
    "        print(images.shape)\n",
    "        print(masks.shape)\n",
    "        break\n",
    "    output = model(images.to(device))\n",
    "    output = torch.argmax(output, dim=1)\n",
    "\n",
    "    output_baseline = baseline_model(images.to(device))\n",
    "    output_baseline = torch.argmax(output_baseline, dim=1)"
   ]
  },
  {
   "cell_type": "code",
   "execution_count": 31,
   "metadata": {},
   "outputs": [
    {
     "name": "stdout",
     "output_type": "stream",
     "text": [
      "torch.Size([1, 576, 864])\n"
     ]
    }
   ],
   "source": [
    "print(output.shape)"
   ]
  },
  {
   "cell_type": "code",
   "execution_count": 32,
   "metadata": {},
   "outputs": [
    {
     "name": "stdout",
     "output_type": "stream",
     "text": [
      "torch.Size([1, 576, 864])\n"
     ]
    }
   ],
   "source": [
    "print(output_baseline.shape)"
   ]
  },
  {
   "cell_type": "code",
   "execution_count": 33,
   "metadata": {},
   "outputs": [],
   "source": [
    "to_pil_transform = transforms.ToPILImage()"
   ]
  },
  {
   "cell_type": "code",
   "execution_count": 34,
   "metadata": {},
   "outputs": [],
   "source": [
    "img = to_pil_transform(images.squeeze())"
   ]
  },
  {
   "cell_type": "code",
   "execution_count": 35,
   "metadata": {},
   "outputs": [],
   "source": [
    "# img.show()"
   ]
  },
  {
   "cell_type": "code",
   "execution_count": 36,
   "metadata": {},
   "outputs": [],
   "source": [
    "msk = to_pil_transform(masks.squeeze())"
   ]
  },
  {
   "cell_type": "code",
   "execution_count": 37,
   "metadata": {},
   "outputs": [],
   "source": [
    "# msk.show()"
   ]
  },
  {
   "cell_type": "code",
   "execution_count": 38,
   "metadata": {},
   "outputs": [
    {
     "name": "stdout",
     "output_type": "stream",
     "text": [
      "{0: 7613, 3: 46255, 4: 3, 5: 1, 6: 70, 10: 469, 14: 447, 16: 251, 18: 2977, 20: 276, 21: 439302}\n"
     ]
    }
   ],
   "source": [
    "unique, counts = np.unique(output.to(\"cpu\"), return_counts=True)\n",
    "print(dict(zip(unique, counts)))"
   ]
  },
  {
   "cell_type": "code",
   "execution_count": 39,
   "metadata": {},
   "outputs": [],
   "source": [
    "outp = to_pil_transform(output.int().squeeze().cpu())"
   ]
  },
  {
   "cell_type": "code",
   "execution_count": 40,
   "metadata": {},
   "outputs": [],
   "source": [
    "plt.imsave(\"assets/aerial-drone-example-unet-plus-plus-output.jpeg\", np.array(outp))"
   ]
  },
  {
   "cell_type": "code",
   "execution_count": 41,
   "metadata": {},
   "outputs": [],
   "source": [
    "# outp.show()"
   ]
  },
  {
   "cell_type": "code",
   "execution_count": 42,
   "metadata": {},
   "outputs": [
    {
     "data": {
      "text/plain": [
       "{'iou': tensor(0.0052),\n",
       " 'f1': tensor(0.0103),\n",
       " 'accuracy': tensor(0.9139),\n",
       " 'recall': tensor(0.0103)}"
      ]
     },
     "execution_count": 42,
     "metadata": {},
     "output_type": "execute_result"
    }
   ],
   "source": [
    "evaluate_result(output, masks, mode=\"multiclass\", num_classes=23)"
   ]
  },
  {
   "cell_type": "markdown",
   "metadata": {},
   "source": [
    "## DeepLabV3"
   ]
  },
  {
   "cell_type": "markdown",
   "metadata": {},
   "source": [
    "## Run example model on single image"
   ]
  },
  {
   "cell_type": "code",
   "execution_count": 43,
   "metadata": {},
   "outputs": [],
   "source": [
    "model = smp.DeepLabV3(\n",
    "    encoder_name=\"resnet18\",  # choose encoder, e.g. mobilenet_v2 or efficientnet-b7\n",
    "    encoder_weights=\"imagenet\",  # use `imagenet` pre-trained weights for encoder initialization\n",
    "    in_channels=3,  # model input channels (1 for gray-scale images, 3 for RGB, etc.)\n",
    "    classes=23,\n",
    "    activation=\"softmax\",\n",
    ").to(device)"
   ]
  },
  {
   "cell_type": "code",
   "execution_count": 44,
   "metadata": {},
   "outputs": [],
   "source": [
    "baseline_model = BaselineModel()"
   ]
  },
  {
   "cell_type": "code",
   "execution_count": 45,
   "metadata": {},
   "outputs": [],
   "source": [
    "torch.cuda.empty_cache()"
   ]
  },
  {
   "cell_type": "code",
   "execution_count": 46,
   "metadata": {},
   "outputs": [
    {
     "name": "stdout",
     "output_type": "stream",
     "text": [
      "torch.Size([1, 3, 576, 864])\n",
      "torch.Size([1, 1, 576, 864])\n"
     ]
    }
   ],
   "source": [
    "model.eval()\n",
    "with torch.no_grad():\n",
    "    for images, masks in train_loader:\n",
    "        print(images.shape)\n",
    "        print(masks.shape)\n",
    "        break\n",
    "    output = model(images.to(device))\n",
    "    output = torch.argmax(output, dim=1)\n",
    "\n",
    "    output_baseline = baseline_model(images.to(device))\n",
    "    output_baseline = torch.argmax(output_baseline, dim=1)"
   ]
  },
  {
   "cell_type": "code",
   "execution_count": 47,
   "metadata": {},
   "outputs": [
    {
     "name": "stdout",
     "output_type": "stream",
     "text": [
      "torch.Size([1, 576, 864])\n"
     ]
    }
   ],
   "source": [
    "print(output.shape)"
   ]
  },
  {
   "cell_type": "code",
   "execution_count": 48,
   "metadata": {},
   "outputs": [
    {
     "name": "stdout",
     "output_type": "stream",
     "text": [
      "torch.Size([1, 576, 864])\n"
     ]
    }
   ],
   "source": [
    "print(output_baseline.shape)"
   ]
  },
  {
   "cell_type": "code",
   "execution_count": 49,
   "metadata": {},
   "outputs": [],
   "source": [
    "to_pil_transform = transforms.ToPILImage()"
   ]
  },
  {
   "cell_type": "code",
   "execution_count": 50,
   "metadata": {},
   "outputs": [],
   "source": [
    "img = to_pil_transform(images.squeeze())"
   ]
  },
  {
   "cell_type": "code",
   "execution_count": 51,
   "metadata": {},
   "outputs": [],
   "source": [
    "# img.show()"
   ]
  },
  {
   "cell_type": "code",
   "execution_count": 52,
   "metadata": {},
   "outputs": [],
   "source": [
    "msk = to_pil_transform(masks.squeeze())"
   ]
  },
  {
   "cell_type": "code",
   "execution_count": 53,
   "metadata": {},
   "outputs": [],
   "source": [
    "# msk.show()"
   ]
  },
  {
   "cell_type": "code",
   "execution_count": 54,
   "metadata": {},
   "outputs": [],
   "source": [
    "outp = to_pil_transform(output.int().squeeze().cpu())"
   ]
  },
  {
   "cell_type": "code",
   "execution_count": 55,
   "metadata": {},
   "outputs": [],
   "source": [
    "plt.imsave(\"assets/aerial-drone-example-deep-lab-v3-output.jpeg\", np.array(outp))"
   ]
  },
  {
   "cell_type": "code",
   "execution_count": 56,
   "metadata": {},
   "outputs": [],
   "source": [
    "# outp.show()"
   ]
  },
  {
   "cell_type": "code",
   "execution_count": 57,
   "metadata": {},
   "outputs": [
    {
     "data": {
      "text/plain": [
       "{'iou': tensor(0.0031),\n",
       " 'f1': tensor(0.0062),\n",
       " 'accuracy': tensor(0.9136),\n",
       " 'recall': tensor(0.0062)}"
      ]
     },
     "execution_count": 57,
     "metadata": {},
     "output_type": "execute_result"
    }
   ],
   "source": [
    "evaluate_result(output, masks, mode=\"multiclass\", num_classes=23)"
   ]
  },
  {
   "cell_type": "markdown",
   "metadata": {},
   "source": [
    "## DeepLabV3+"
   ]
  },
  {
   "cell_type": "markdown",
   "metadata": {},
   "source": [
    "## Run example model on single image"
   ]
  },
  {
   "cell_type": "code",
   "execution_count": 58,
   "metadata": {},
   "outputs": [],
   "source": [
    "model = smp.DeepLabV3Plus(\n",
    "    encoder_name=\"resnet18\",  # choose encoder, e.g. mobilenet_v2 or efficientnet-b7\n",
    "    encoder_weights=\"imagenet\",  # use `imagenet` pre-trained weights for encoder initialization\n",
    "    in_channels=3,  # model input channels (1 for gray-scale images, 3 for RGB, etc.)\n",
    "    classes=23,\n",
    "    activation=\"softmax\",\n",
    ").to(device)"
   ]
  },
  {
   "cell_type": "code",
   "execution_count": 59,
   "metadata": {},
   "outputs": [],
   "source": [
    "baseline_model = BaselineModel()"
   ]
  },
  {
   "cell_type": "code",
   "execution_count": 60,
   "metadata": {},
   "outputs": [],
   "source": [
    "torch.cuda.empty_cache()"
   ]
  },
  {
   "cell_type": "code",
   "execution_count": 61,
   "metadata": {},
   "outputs": [
    {
     "name": "stdout",
     "output_type": "stream",
     "text": [
      "torch.Size([1, 3, 576, 864])\n",
      "torch.Size([1, 1, 576, 864])\n"
     ]
    }
   ],
   "source": [
    "model.eval()\n",
    "with torch.no_grad():\n",
    "    for images, masks in train_loader:\n",
    "        print(images.shape)\n",
    "        print(masks.shape)\n",
    "        break\n",
    "    output = model(images.to(device))\n",
    "    output = torch.argmax(output, dim=1)\n",
    "\n",
    "    output_baseline = baseline_model(images.to(device))\n",
    "    output_baseline = torch.argmax(output_baseline, dim=1)"
   ]
  },
  {
   "cell_type": "code",
   "execution_count": 62,
   "metadata": {},
   "outputs": [
    {
     "name": "stdout",
     "output_type": "stream",
     "text": [
      "torch.Size([1, 576, 864])\n"
     ]
    }
   ],
   "source": [
    "print(output.shape)"
   ]
  },
  {
   "cell_type": "code",
   "execution_count": 63,
   "metadata": {},
   "outputs": [
    {
     "name": "stdout",
     "output_type": "stream",
     "text": [
      "torch.Size([1, 576, 864])\n"
     ]
    }
   ],
   "source": [
    "print(output_baseline.shape)"
   ]
  },
  {
   "cell_type": "code",
   "execution_count": 64,
   "metadata": {},
   "outputs": [],
   "source": [
    "to_pil_transform = transforms.ToPILImage()"
   ]
  },
  {
   "cell_type": "code",
   "execution_count": 65,
   "metadata": {},
   "outputs": [],
   "source": [
    "img = to_pil_transform(images.squeeze())"
   ]
  },
  {
   "cell_type": "code",
   "execution_count": 66,
   "metadata": {},
   "outputs": [],
   "source": [
    "# img.show()"
   ]
  },
  {
   "cell_type": "code",
   "execution_count": 67,
   "metadata": {},
   "outputs": [],
   "source": [
    "msk = to_pil_transform(masks.squeeze())"
   ]
  },
  {
   "cell_type": "code",
   "execution_count": 68,
   "metadata": {},
   "outputs": [],
   "source": [
    "# msk.show()"
   ]
  },
  {
   "cell_type": "code",
   "execution_count": 69,
   "metadata": {},
   "outputs": [],
   "source": [
    "outp = to_pil_transform(output.int().squeeze().cpu())"
   ]
  },
  {
   "cell_type": "code",
   "execution_count": 70,
   "metadata": {},
   "outputs": [],
   "source": [
    "plt.imsave(\"assets/aerial-drone-example-deep-lab-v3-plus-output.jpeg\", np.array(outp))"
   ]
  },
  {
   "cell_type": "code",
   "execution_count": 71,
   "metadata": {},
   "outputs": [],
   "source": [
    "# outp.show()"
   ]
  },
  {
   "cell_type": "code",
   "execution_count": 72,
   "metadata": {},
   "outputs": [
    {
     "data": {
      "text/plain": [
       "{'iou': tensor(0.2109),\n",
       " 'f1': tensor(0.3483),\n",
       " 'accuracy': tensor(0.9433),\n",
       " 'recall': tensor(0.3483)}"
      ]
     },
     "execution_count": 72,
     "metadata": {},
     "output_type": "execute_result"
    }
   ],
   "source": [
    "evaluate_result(output, masks, mode=\"multiclass\", num_classes=23)"
   ]
  }
 ],
 "metadata": {
  "kernelspec": {
   "display_name": "Python 3",
   "language": "python",
   "name": "python3"
  },
  "language_info": {
   "codemirror_mode": {
    "name": "ipython",
    "version": 3
   },
   "file_extension": ".py",
   "mimetype": "text/x-python",
   "name": "python",
   "nbconvert_exporter": "python",
   "pygments_lexer": "ipython3",
   "version": "3.10.3"
  }
 },
 "nbformat": 4,
 "nbformat_minor": 2
}
