{
 "cells": [
  {
   "cell_type": "code",
   "execution_count": 1,
   "metadata": {},
   "outputs": [],
   "source": [
    "import numpy as np\n",
    "from PIL import Image\n",
    "from torchvision.transforms import PILToTensor, ToTensor, Compose, Resize, ToPILImage\n",
    "from src.datasets.utils.ResizeToDivisibleBy32 import ResizeToDivisibleBy32\n",
    "from src.datasets.utils.ConvertUAVidMasks import ConvertUAVidMasks"
   ]
  },
  {
   "cell_type": "markdown",
   "metadata": {},
   "source": [
    "## Custom transform"
   ]
  },
  {
   "cell_type": "code",
   "execution_count": 2,
   "metadata": {},
   "outputs": [],
   "source": [
    "UAVID_SINGLE_MASK_PATH = r\"D:\\__repos\\aerial_segmentation\\data\\UAVidSemanticSegmentationDataset\\train\\train\\seq5\\Labels\\000400.png\""
   ]
  },
  {
   "cell_type": "code",
   "execution_count": 3,
   "metadata": {},
   "outputs": [],
   "source": [
    "color_classes_dict = {\n",
    "    (0, 0, 0): 0,  # Clutter\n",
    "    (128, 0, 0): 1,  # Building\n",
    "    (128, 64, 128): 2,  # Road\n",
    "    (192, 0, 192): 3,  # Static_Car\n",
    "    (0, 128, 0): 4,  # Tree\n",
    "    (128, 128, 0): 5,  # Vegetation\n",
    "    (64, 64, 0): 6,  # Human\n",
    "    (64, 0, 128): 7,  # Moving_Car\n",
    "}"
   ]
  },
  {
   "cell_type": "code",
   "execution_count": 4,
   "metadata": {},
   "outputs": [],
   "source": [
    "convert_uavid_masks = ConvertUAVidMasks(color_classes_dict)\n",
    "pil_to_tensor_transform = PILToTensor()\n",
    "to_pil_transform = ToPILImage()"
   ]
  },
  {
   "cell_type": "code",
   "execution_count": 5,
   "metadata": {},
   "outputs": [],
   "source": [
    "mask = Image.open(UAVID_SINGLE_MASK_PATH)"
   ]
  },
  {
   "cell_type": "code",
   "execution_count": 6,
   "metadata": {},
   "outputs": [
    {
     "name": "stdout",
     "output_type": "stream",
     "text": [
      "((0, 192), (0, 128), (0, 192))\n",
      "(3840, 2160)\n",
      "RGB\n"
     ]
    }
   ],
   "source": [
    "print(mask.getextrema())\n",
    "print(mask.size)\n",
    "print(mask.mode)"
   ]
  },
  {
   "cell_type": "code",
   "execution_count": 7,
   "metadata": {},
   "outputs": [],
   "source": [
    "pil_to_tensor_transform = PILToTensor()\n",
    "torch_mask = pil_to_tensor_transform(mask)"
   ]
  },
  {
   "cell_type": "code",
   "execution_count": 8,
   "metadata": {},
   "outputs": [
    {
     "name": "stdout",
     "output_type": "stream",
     "text": [
      "torch.Size([3, 2160, 3840])\n",
      "tensor(0, dtype=torch.uint8)\n",
      "tensor(192, dtype=torch.uint8)\n"
     ]
    }
   ],
   "source": [
    "print(torch_mask.shape)\n",
    "print(torch_mask.min())\n",
    "print(torch_mask.max())"
   ]
  },
  {
   "cell_type": "code",
   "execution_count": 10,
   "metadata": {},
   "outputs": [],
   "source": [
    "if mask.mode != \"P\":\n",
    "    convert_uavid_masks_transform = ConvertUAVidMasks(color_classes_dict)\n",
    "    torch_mask = convert_uavid_masks_transform(torch_mask)"
   ]
  },
  {
   "cell_type": "code",
   "execution_count": 11,
   "metadata": {},
   "outputs": [
    {
     "name": "stdout",
     "output_type": "stream",
     "text": [
      "torch.Size([2160, 3840])\n",
      "tensor(0, dtype=torch.uint8)\n",
      "tensor(6, dtype=torch.uint8)\n"
     ]
    }
   ],
   "source": [
    "print(torch_mask.shape)\n",
    "print(torch_mask.min())\n",
    "print(torch_mask.max())"
   ]
  },
  {
   "cell_type": "markdown",
   "metadata": {},
   "source": [
    "## Sanity check dataloader class"
   ]
  },
  {
   "cell_type": "code",
   "execution_count": 12,
   "metadata": {},
   "outputs": [],
   "source": [
    "from torch.utils.data import DataLoader\n",
    "from torchvision import transforms\n",
    "\n",
    "from src.datasets.UAVidSemanticSegmentationDataset import (\n",
    "    UAVidSemanticSegmentationDataset,\n",
    ")"
   ]
  },
  {
   "cell_type": "code",
   "execution_count": 13,
   "metadata": {},
   "outputs": [],
   "source": [
    "UAVID_DATASET_PATH = \"data/UAVidSemanticSegmentationDataset\"\n",
    "IMAGE_SIZE = 576"
   ]
  },
  {
   "cell_type": "code",
   "execution_count": 14,
   "metadata": {},
   "outputs": [
    {
     "name": "stdout",
     "output_type": "stream",
     "text": [
      "200\n"
     ]
    }
   ],
   "source": [
    "example_dataset = UAVidSemanticSegmentationDataset(\n",
    "    UAVID_DATASET_PATH,\n",
    "    # transforms=[Compose([Resize(IMAGE_SIZE), ResizeToDivisibleBy32()])]\n",
    ")\n",
    "print(len(example_dataset))"
   ]
  },
  {
   "cell_type": "code",
   "execution_count": 15,
   "metadata": {},
   "outputs": [],
   "source": [
    "example_loader = DataLoader(example_dataset, batch_size=1, shuffle=True)"
   ]
  },
  {
   "cell_type": "code",
   "execution_count": 16,
   "metadata": {},
   "outputs": [
    {
     "name": "stdout",
     "output_type": "stream",
     "text": [
      "torch.Size([1, 3, 2160, 4096])\n",
      "torch.Size([1, 3, 2160, 4096])\n"
     ]
    }
   ],
   "source": [
    "for images, masks in example_loader:\n",
    "    print(images.shape)\n",
    "    print(masks.shape)\n",
    "    break"
   ]
  },
  {
   "cell_type": "code",
   "execution_count": null,
   "metadata": {},
   "outputs": [],
   "source": []
  }
 ],
 "metadata": {
  "kernelspec": {
   "display_name": "venv",
   "language": "python",
   "name": "python3"
  },
  "language_info": {
   "codemirror_mode": {
    "name": "ipython",
    "version": 3
   },
   "file_extension": ".py",
   "mimetype": "text/x-python",
   "name": "python",
   "nbconvert_exporter": "python",
   "pygments_lexer": "ipython3",
   "version": "3.10.3"
  }
 },
 "nbformat": 4,
 "nbformat_minor": 2
}
