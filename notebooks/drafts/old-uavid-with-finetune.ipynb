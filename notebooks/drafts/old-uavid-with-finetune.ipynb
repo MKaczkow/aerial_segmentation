{
 "cells": [
  {
   "cell_type": "code",
   "execution_count": null,
   "metadata": {},
   "outputs": [],
   "source": [
    "import numpy as np\n",
    "import matplotlib.pyplot as plt\n",
    "\n",
    "import torch\n",
    "import torch.nn.functional as F\n",
    "from torch.utils.data import DataLoader\n",
    "import pytorch_lightning as pl\n",
    "from pytorch_lightning.callbacks import ModelCheckpoint\n",
    "from pytorch_lightning.loggers import CSVLogger\n",
    "from torchvision.transforms import Resize, InterpolationMode, ToPILImage, RandomCrop\n",
    "import torchmetrics\n",
    "from torchmetrics import JaccardIndex, Precision, Recall, F1Score\n",
    "import segmentation_models_pytorch as smp\n",
    "\n",
    "from src.evaluation.evaluate_result import evaluate_result\n",
    "from src.datasets.UAVidSemanticSegmentationDataset import (\n",
    "    UAVidSemanticSegmentationDataset,\n",
    ")"
   ]
  },
  {
   "cell_type": "markdown",
   "metadata": {},
   "source": [
    "## Prepare environment"
   ]
  },
  {
   "cell_type": "code",
   "execution_count": null,
   "metadata": {},
   "outputs": [],
   "source": [
    "torch.cuda.is_available()"
   ]
  },
  {
   "cell_type": "code",
   "execution_count": null,
   "metadata": {},
   "outputs": [],
   "source": [
    "device = torch.device(\"cuda\" if torch.cuda.is_available() else \"cpu\")\n",
    "# if you get some cryptic CUDA error, set device to \"cpu\" and try again\n",
    "\n",
    "# DEBUG\n",
    "# device = torch.device(\"cpu\")\n",
    "print(device)"
   ]
  },
  {
   "cell_type": "code",
   "execution_count": null,
   "metadata": {},
   "outputs": [],
   "source": [
    "VAL_SIZE = 0.2\n",
    "BATCH_SIZE = 8\n",
    "SEED = 42\n",
    "UAVID_DATASET_PATH = \"data/UAVidSemanticSegmentationDataset\"\n",
    "\n",
    "# IMAGE_SIZE = 576\n",
    "\n",
    "IMAGE_WIDTH = 1024\n",
    "IMAGE_HEIGHT = 576"
   ]
  },
  {
   "cell_type": "code",
   "execution_count": null,
   "metadata": {},
   "outputs": [],
   "source": [
    "train_dataset = UAVidSemanticSegmentationDataset(\n",
    "    UAVID_DATASET_PATH,\n",
    "    split=\"train\",\n",
    "    transforms=[\n",
    "        # Resize(IMAGE_SIZE),\n",
    "        # Resize((IMAGE_HEIGHT, IMAGE_WIDTH), interpolation=InterpolationMode.NEAREST_EXACT),\n",
    "        RandomCrop((IMAGE_HEIGHT, IMAGE_WIDTH)),\n",
    "        # Resize(IMAGE_SIZE, interpolation=InterpolationMode.NEAREST_EXACT),\n",
    "        # ResizeToDivisibleBy32()\n",
    "    ],\n",
    ")\n",
    "print(len(train_dataset))"
   ]
  },
  {
   "cell_type": "code",
   "execution_count": null,
   "metadata": {},
   "outputs": [],
   "source": [
    "val_dataset = UAVidSemanticSegmentationDataset(\n",
    "    UAVID_DATASET_PATH,\n",
    "    split=\"valid\",\n",
    "    transforms=[\n",
    "        # Resize(IMAGE_SIZE),\n",
    "        Resize(\n",
    "            (IMAGE_HEIGHT, IMAGE_WIDTH), interpolation=InterpolationMode.NEAREST_EXACT\n",
    "        ),\n",
    "        # Resize(IMAGE_SIZE, interpolation=InterpolationMode.NEAREST_EXACT),\n",
    "        # ResizeToDivisibleBy32()\n",
    "    ],\n",
    ")\n",
    "print(len(val_dataset))"
   ]
  },
  {
   "cell_type": "code",
   "execution_count": null,
   "metadata": {},
   "outputs": [],
   "source": [
    "test_dataset = UAVidSemanticSegmentationDataset(\n",
    "    UAVID_DATASET_PATH,\n",
    "    split=\"test\",\n",
    "    transforms=[\n",
    "        # Resize(IMAGE_SIZE),\n",
    "        Resize(\n",
    "            (IMAGE_HEIGHT, IMAGE_WIDTH), interpolation=InterpolationMode.NEAREST_EXACT\n",
    "        ),\n",
    "        # Resize(IMAGE_SIZE, interpolation=InterpolationMode.NEAREST_EXACT),\n",
    "        # ResizeToDivisibleBy32()\n",
    "    ],\n",
    ")\n",
    "print(len(test_dataset))"
   ]
  },
  {
   "cell_type": "markdown",
   "metadata": {},
   "source": [
    "## Sanity check data"
   ]
  },
  {
   "cell_type": "code",
   "execution_count": null,
   "metadata": {},
   "outputs": [],
   "source": [
    "train_loader = DataLoader(\n",
    "    train_dataset, batch_size=BATCH_SIZE, shuffle=True, num_workers=8\n",
    ")\n",
    "val_loader = DataLoader(\n",
    "    val_dataset, batch_size=BATCH_SIZE, shuffle=False, num_workers=8\n",
    ")\n",
    "test_loader = DataLoader(\n",
    "    test_dataset, batch_size=BATCH_SIZE, shuffle=False, num_workers=8\n",
    ")"
   ]
  },
  {
   "cell_type": "code",
   "execution_count": null,
   "metadata": {},
   "outputs": [],
   "source": [
    "for images, masks in train_loader:\n",
    "    print(images.shape)\n",
    "    print(masks.shape)\n",
    "    break"
   ]
  },
  {
   "cell_type": "code",
   "execution_count": null,
   "metadata": {},
   "outputs": [],
   "source": [
    "to_pil_transform = ToPILImage()"
   ]
  },
  {
   "cell_type": "code",
   "execution_count": null,
   "metadata": {},
   "outputs": [],
   "source": [
    "if BATCH_SIZE == 1:\n",
    "    img = to_pil_transform(images.squeeze())"
   ]
  },
  {
   "cell_type": "code",
   "execution_count": null,
   "metadata": {},
   "outputs": [],
   "source": [
    "# img.show()"
   ]
  },
  {
   "cell_type": "code",
   "execution_count": null,
   "metadata": {},
   "outputs": [],
   "source": [
    "if BATCH_SIZE == 1:\n",
    "    msk = to_pil_transform(masks.squeeze())"
   ]
  },
  {
   "cell_type": "code",
   "execution_count": null,
   "metadata": {},
   "outputs": [],
   "source": [
    "# msk.show()"
   ]
  },
  {
   "cell_type": "markdown",
   "metadata": {},
   "source": [
    "## Basic training loop"
   ]
  },
  {
   "cell_type": "code",
   "execution_count": null,
   "metadata": {},
   "outputs": [],
   "source": [
    "import gc\n",
    "\n",
    "gc.collect()"
   ]
  },
  {
   "cell_type": "code",
   "execution_count": null,
   "metadata": {},
   "outputs": [],
   "source": [
    "torch.cuda.empty_cache()"
   ]
  },
  {
   "cell_type": "code",
   "execution_count": null,
   "metadata": {},
   "outputs": [],
   "source": [
    "import torch\n",
    "import torch.optim as optim\n",
    "import segmentation_models_pytorch as smp\n",
    "from tqdm import tqdm\n",
    "import json\n",
    "from time import perf_counter\n",
    "\n",
    "# Define model, loss function, and optimizer\n",
    "model = smp.Unet(\n",
    "    encoder_name=\"resnet18\", encoder_weights=\"imagenet\", in_channels=3, classes=8\n",
    ").to(device)\n",
    "# jaccard_loss = torchmetrics.JaccardIndex(task=\"multiclass\", num_classes=8).to(device)\n",
    "jaccard_loss = smp.losses.JaccardLoss(mode=\"multiclass\", from_logits=False).to(device)\n",
    "optimizer = optim.Adam(model.parameters(), lr=1e-4)\n",
    "\n",
    "# Training and validation loop\n",
    "num_epochs = 10\n",
    "torch.cuda.empty_cache()\n",
    "gc.collect()\n",
    "\n",
    "for epoch in tqdm(range(num_epochs)):\n",
    "    model.train()\n",
    "    print(\"Starting epoch\", epoch + 1)\n",
    "    t0 = perf_counter()\n",
    "    train_loss = 0.0\n",
    "\n",
    "    print(\"Training...\")\n",
    "    for images, masks in tqdm(train_loader):\n",
    "        images = images.to(device)\n",
    "        masks = masks.to(device).squeeze(1)\n",
    "\n",
    "        optimizer.zero_grad()\n",
    "        torch.cuda.empty_cache()\n",
    "        # outputs = model(images).argmax(dim=1)\n",
    "        outputs = model(images)\n",
    "        # print(\"outputs\")\n",
    "        # print(outputs.shape)\n",
    "        # print(outputs.dtype)\n",
    "        # print(\"masks\")\n",
    "        # print(masks.shape)\n",
    "        # print(masks.dtype)\n",
    "        loss = jaccard_loss(y_pred=outputs.long(), y_true=masks.long())\n",
    "        loss.requires_grad = True\n",
    "        loss.backward()\n",
    "        optimizer.step()\n",
    "\n",
    "        train_loss += loss.item()\n",
    "\n",
    "    train_loss /= len(train_loader)\n",
    "\n",
    "    print(\"Validating...\")\n",
    "    model.eval()\n",
    "    val_loss = 0.0\n",
    "    with torch.no_grad():\n",
    "        for images, masks in tqdm(val_loader):\n",
    "            images = images.to(device)\n",
    "            masks = masks.to(device).squeeze(1)\n",
    "\n",
    "            # outputs = model(images).argmax(dim=1)\n",
    "            outputs = model(images)\n",
    "            # print(outputs.shape, masks.shape)\n",
    "            loss = jaccard_loss(y_pred=outputs.long(), y_true=masks.long())\n",
    "\n",
    "            val_loss += loss.item()\n",
    "\n",
    "    val_loss /= len(val_loader)\n",
    "\n",
    "    # Save metrics to JSON file\n",
    "    metrics = {\n",
    "        \"epoch\": epoch + 1,\n",
    "        \"train_loss\": train_loss,\n",
    "        \"val_loss\": val_loss,\n",
    "        \"train_iou\": float(JaccardIndex(num_classes=8, task=\"multiclass\").compute()),\n",
    "        \"val_iou\": float(JaccardIndex(num_classes=8, task=\"multiclass\").compute()),\n",
    "        \"train_precision\": float(Precision(num_classes=8, task=\"multiclass\").compute()),\n",
    "        \"val_precision\": float(Precision(num_classes=8, task=\"multiclass\").compute()),\n",
    "        \"train_recall\": float(Recall(num_classes=8, task=\"multiclass\").compute()),\n",
    "        \"val_recall\": float(Recall(num_classes=8, task=\"multiclass\").compute()),\n",
    "        \"train_f1\": float(F1Score(num_classes=8, task=\"multiclass\").compute()),\n",
    "        \"val_f1\": float(F1Score(num_classes=8, task=\"multiclass\").compute()),\n",
    "    }\n",
    "\n",
    "    with open(\"metrics.json\", \"a\") as f:\n",
    "        json.dump(metrics, f)\n",
    "        f.write(\"\\n\")\n",
    "\n",
    "    print(\n",
    "        f\"Epoch {epoch+1}/{num_epochs}, Train Loss: {train_loss:.4f}, Val Loss: {val_loss:.4f}\"\n",
    "    )\n",
    "    print(f\"Epoch finished in {perf_counter() - t0:.2f} seconds\")\n",
    "    print()\n",
    "    model_path = f\"model_{epoch+1}.pth\"\n",
    "    torch.save(model.state_dict(), model_path)"
   ]
  },
  {
   "cell_type": "code",
   "execution_count": null,
   "metadata": {},
   "outputs": [],
   "source": [
    "# compare random model with trained model (model_10.pth) on test set\n",
    "random_model = smp.Unet(\n",
    "    encoder_name=\"resnet18\", encoder_weights=None, in_channels=3, classes=8\n",
    ").to(device)\n",
    "random_model.eval()\n",
    "\n",
    "# Load the trained model\n",
    "\n",
    "# trained_model = smp.Unet(encoder_name=\"resnet18\", encoder_weights=None, in_channels=3, classes=8).to(device)\n",
    "\n",
    "model_path = \"model_10.pth\"\n",
    "trained_model = smp.Unet(\n",
    "    encoder_name=\"resnet34\", encoder_weights=None, in_channels=3, classes=8\n",
    ").to(device)\n",
    "trained_model.load_state_dict(torch.load(model_path))\n",
    "trained_model.eval()"
   ]
  },
  {
   "cell_type": "code",
   "execution_count": null,
   "metadata": {},
   "outputs": [],
   "source": [
    "import os\n",
    "\n",
    "# Evaluate the random model on the test set\n",
    "random_model_loss = 0.0\n",
    "with torch.no_grad():\n",
    "    for images in test_loader:\n",
    "        images = images.to(device)\n",
    "        random_outputs = random_model(images).argmax(dim=1)\n",
    "        print(random_outputs.shape)\n",
    "        # Save images as PNG files\n",
    "        output_dir = \"random_model_output\"\n",
    "        os.makedirs(output_dir, exist_ok=True)\n",
    "\n",
    "        for i, image in enumerate(random_outputs):\n",
    "            image_path = os.path.join(output_dir, f\"image_{i}.png\")\n",
    "            # print(image.shape)\n",
    "            # print(image.dtype)\n",
    "            # unique, counts = np.unique(image.cpu().numpy(), return_counts=True)\n",
    "            # print(dict(zip(unique, counts)))\n",
    "            # plt.matshow(image.cpu().numpy())\n",
    "            plt.imsave(image_path, image.cpu().numpy())\n",
    "            # image = to_pil_transform(image)\n",
    "            # image.save(image_path)\n",
    "\n",
    "        print(\"random_outputs saved successfully.\")\n",
    "\n",
    "# Evaluate the trained model on the test set\n",
    "trained_model_loss = 0.0\n",
    "with torch.no_grad():\n",
    "    for images in test_loader:\n",
    "        images = images.to(device)\n",
    "        trained_outputs = trained_model(images).argmax(dim=1)\n",
    "        print(trained_outputs.shape)\n",
    "        output_dir = \"trained_output_images\"\n",
    "        os.makedirs(output_dir, exist_ok=True)\n",
    "\n",
    "        for i, image in enumerate(trained_outputs):\n",
    "            image_path = os.path.join(output_dir, f\"image_{i}.png\")\n",
    "            # print(image.shape)\n",
    "            # print(image.dtype)\n",
    "            # unique, counts = np.unique(image.cpu().numpy(), return_counts=True)\n",
    "            # print(dict(zip(unique, counts)))\n",
    "            # plt.matshow(image.cpu().numpy())\n",
    "            plt.imsave(image_path, image.cpu().numpy())\n",
    "            # image = to_pil_transform(image)\n",
    "            # image.save(image_path)\n",
    "\n",
    "        print(\"trained_outputs saved successfully.\")"
   ]
  },
  {
   "cell_type": "markdown",
   "metadata": {},
   "source": [
    "# Training module"
   ]
  },
  {
   "cell_type": "code",
   "execution_count": null,
   "metadata": {},
   "outputs": [],
   "source": [
    "class SegmentationModel(pl.LightningModule):\n",
    "    def __init__(self, model, learning_rate=1e-3):\n",
    "        super(SegmentationModel, self).__init__()\n",
    "        self.model = model\n",
    "        self.learning_rate = learning_rate\n",
    "        # self.criterion = torch.nn.CrossEntropyLoss()\n",
    "        self.criterion = smp.losses.JaccardLoss(mode=\"multiclass\", from_logits=False)\n",
    "\n",
    "        # Metrics\n",
    "        self.train_iou = JaccardIndex(num_classes=8, task=\"multiclass\")\n",
    "        self.val_iou = JaccardIndex(num_classes=8, task=\"multiclass\")\n",
    "        self.train_precision = Precision(num_classes=8, task=\"multiclass\")\n",
    "        self.val_precision = Precision(num_classes=8, task=\"multiclass\")\n",
    "        self.train_recall = Recall(num_classes=8, task=\"multiclass\")\n",
    "        self.val_recall = Recall(num_classes=8, task=\"multiclass\")\n",
    "        self.train_f1 = F1Score(num_classes=8, task=\"multiclass\")\n",
    "        self.val_f1 = F1Score(num_classes=8, task=\"multiclass\")\n",
    "\n",
    "    def forward(self, x):\n",
    "        output = self.model(x.to(device))\n",
    "        # FIXME: not really x > 0.5\n",
    "        # this is degenerated case for binary segmentation\n",
    "        # output = torch.argmax(output, dim=1)\n",
    "        return output\n",
    "\n",
    "    def training_step(self, batch, batch_idx):\n",
    "\n",
    "        images, masks = batch\n",
    "        print(\"masks before\")\n",
    "        # unique, counts = np.unique(masks.cpu(), return_counts=True)\n",
    "        # print(dict(zip(unique, counts)))\n",
    "        # masks = masks.to(torch.int16).squeeze()\n",
    "        masks = masks.squeeze()\n",
    "        preds = self(images).squeeze()\n",
    "        # preds = self(images).to(torch.int16).squeeze()\n",
    "        print(\"masks\")\n",
    "        print(masks.shape)\n",
    "        print(masks.dtype)\n",
    "        # unique, counts = np.unique(masks.cpu(), return_counts=True)\n",
    "        # print(dict(zip(unique, counts)))\n",
    "        print(\"preds\")\n",
    "        print(preds.shape)\n",
    "        print(preds.dtype)\n",
    "        # unique, counts = np.unique(preds.cpu(), return_counts=True)\n",
    "        # print(dict(zip(unique, counts)))\n",
    "        loss = self.criterion(preds, masks)\n",
    "        loss.requires_grad = True\n",
    "\n",
    "        self.log(\"train_loss\", loss, on_epoch=True)\n",
    "        self.log(\"train_iou\", self.train_iou(preds, masks), on_epoch=True)\n",
    "        self.log(\"train_precision\", self.train_precision(preds, masks), on_epoch=True)\n",
    "        self.log(\"train_recall\", self.train_recall(preds, masks), on_epoch=True)\n",
    "        self.log(\"train_f1\", self.train_f1(preds, masks), on_epoch=True)\n",
    "\n",
    "        return loss\n",
    "\n",
    "    def validation_step(self, batch, batch_idx):\n",
    "        images, masks = batch\n",
    "        print(\"masks before\")\n",
    "        # unique, counts = np.unique(masks.cpu(), return_counts=True)\n",
    "        # print(dict(zip(unique, counts)))\n",
    "        # masks = masks.to(torch.int16).squeeze()\n",
    "        masks = masks.squeeze()\n",
    "        preds = self(images).squeeze()\n",
    "        # preds = self(images).to(torch.int16).squeeze()\n",
    "        print(\"masks\")\n",
    "        print(masks.shape)\n",
    "        print(masks.dtype)\n",
    "        # unique, counts = np.unique(masks.cpu(), return_counts=True)\n",
    "        # print(dict(zip(unique, counts)))\n",
    "        print(\"preds\")\n",
    "        print(preds.shape)\n",
    "        print(preds.dtype)\n",
    "        # unique, counts = np.unique(preds.cpu(), return_counts=True)\n",
    "        # print(dict(zip(unique, counts)))\n",
    "        loss = self.criterion(preds, masks)\n",
    "        loss.requires_grad = True\n",
    "\n",
    "        self.log(\"val_loss\", loss, on_epoch=True)\n",
    "        self.log(\"val_iou\", self.val_iou(preds, masks), on_epoch=True)\n",
    "        self.log(\"val_precision\", self.val_precision(preds, masks), on_epoch=True)\n",
    "        self.log(\"val_recall\", self.val_recall(preds, masks), on_epoch=True)\n",
    "        self.log(\"val_f1\", self.val_f1(preds, masks), on_epoch=True)\n",
    "\n",
    "        return loss\n",
    "\n",
    "    def configure_optimizers(self):\n",
    "        optimizer = torch.optim.Adam(self.parameters(), lr=self.learning_rate)\n",
    "        return optimizer"
   ]
  },
  {
   "cell_type": "code",
   "execution_count": null,
   "metadata": {},
   "outputs": [],
   "source": [
    "model = smp.Unet(\n",
    "    encoder_name=\"resnet18\",  # choose encoder, e.g. mobilenet_v2 or efficientnet-b7\n",
    "    encoder_weights=\"imagenet\",  # use `imagenet` pre-trained weights for encoder initialization\n",
    "    in_channels=3,  # model input channels (1 for gray-scale images, 3 for RGB, etc.)\n",
    "    classes=8,  # model output channels (number of classes in your dataset)\n",
    "    activation=\"softmax\",\n",
    ").to(device)"
   ]
  },
  {
   "cell_type": "code",
   "execution_count": null,
   "metadata": {},
   "outputs": [],
   "source": [
    "# model = smp.UnetPlusPlus(\n",
    "#     encoder_name=\"resnet18\",  # choose encoder, e.g. mobilenet_v2 or efficientnet-b7\n",
    "#     encoder_weights=\"imagenet\",  # use `imagenet` pre-trained weights for encoder initialization\n",
    "#     in_channels=3,  # model input channels (1 for gray-scale images, 3 for RGB, etc.)\n",
    "#     classes=1,  # model output channels (number of classes in your dataset)\n",
    "# ).to(device)"
   ]
  },
  {
   "cell_type": "code",
   "execution_count": null,
   "metadata": {},
   "outputs": [],
   "source": [
    "# model = smp.DeepLabV3(\n",
    "#     encoder_name=\"resnet18\",  # choose encoder, e.g. mobilenet_v2 or efficientnet-b7\n",
    "#     encoder_weights=\"imagenet\",  # use `imagenet` pre-trained weights for encoder initialization\n",
    "#     in_channels=3,  # model input channels (1 for gray-scale images, 3 for RGB, etc.)\n",
    "#     classes=1,\n",
    "# ).to(device)"
   ]
  },
  {
   "cell_type": "code",
   "execution_count": null,
   "metadata": {},
   "outputs": [],
   "source": [
    "# model = smp.DeepLabV3Plus(\n",
    "#     encoder_name=\"resnet18\",  # choose encoder, e.g. mobilenet_v2 or efficientnet-b7\n",
    "#     encoder_weights=\"imagenet\",  # use `imagenet` pre-trained weights for encoder initialization\n",
    "#     in_channels=3,  # model input channels (1 for gray-scale images, 3 for RGB, etc.)\n",
    "#     classes=1,\n",
    "# ).to(device)"
   ]
  },
  {
   "cell_type": "code",
   "execution_count": null,
   "metadata": {},
   "outputs": [],
   "source": [
    "segmentation_model = SegmentationModel(model)"
   ]
  },
  {
   "cell_type": "code",
   "execution_count": null,
   "metadata": {},
   "outputs": [],
   "source": [
    "checkpoint_callback = ModelCheckpoint(\n",
    "    monitor=\"val_loss_epoch\", save_top_k=-1, mode=\"min\"\n",
    ")"
   ]
  },
  {
   "cell_type": "code",
   "execution_count": null,
   "metadata": {},
   "outputs": [],
   "source": [
    "logger = CSVLogger(\"logs\", name=\"segmentation_model\")"
   ]
  },
  {
   "cell_type": "code",
   "execution_count": null,
   "metadata": {},
   "outputs": [],
   "source": [
    "trainer = pl.Trainer(\n",
    "    max_epochs=10,\n",
    "    callbacks=[checkpoint_callback],\n",
    "    logger=logger,\n",
    "    accelerator=str(device),\n",
    ")\n",
    "# trainer = pl.Trainer(max_epochs=10, accelerator=\"cpu\")"
   ]
  },
  {
   "cell_type": "code",
   "execution_count": null,
   "metadata": {},
   "outputs": [],
   "source": [
    "trainer.fit(\n",
    "    segmentation_model, train_dataloaders=train_loader, val_dataloaders=val_loader\n",
    ")"
   ]
  },
  {
   "cell_type": "markdown",
   "metadata": {},
   "source": [
    "# UNET"
   ]
  },
  {
   "cell_type": "code",
   "execution_count": null,
   "metadata": {},
   "outputs": [],
   "source": [
    "# TODO: load best model from checkpoint"
   ]
  },
  {
   "cell_type": "code",
   "execution_count": null,
   "metadata": {},
   "outputs": [],
   "source": [
    "model.eval()\n",
    "with torch.no_grad():\n",
    "    for images, masks in train_loader:\n",
    "        print(images.shape)\n",
    "        print(masks.shape)\n",
    "        break\n",
    "    output = model(images.to(device))\n",
    "    output = torch.argmax(output, dim=1)"
   ]
  }
 ],
 "metadata": {
  "kernelspec": {
   "display_name": "Python 3",
   "language": "python",
   "name": "python3"
  },
  "language_info": {
   "codemirror_mode": {
    "name": "ipython",
    "version": 3
   },
   "file_extension": ".py",
   "mimetype": "text/x-python",
   "name": "python",
   "nbconvert_exporter": "python",
   "pygments_lexer": "ipython3",
   "version": "3.12.3"
  }
 },
 "nbformat": 4,
 "nbformat_minor": 2
}
