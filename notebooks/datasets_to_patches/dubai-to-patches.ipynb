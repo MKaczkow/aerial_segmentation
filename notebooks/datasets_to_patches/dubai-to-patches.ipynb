{
 "cells": [
  {
   "cell_type": "code",
   "execution_count": null,
   "metadata": {},
   "outputs": [],
   "source": [
    "import csv\n",
    "import numpy as np\n",
    "import matplotlib.pyplot as plt\n",
    "\n",
    "import torch\n",
    "from torch.utils.data import DataLoader, random_split\n",
    "import pytorch_lightning as pl\n",
    "from pytorch_lightning.callbacks import ModelCheckpoint\n",
    "from pytorch_lightning.loggers import CSVLogger\n",
    "from pytorch_lightning.callbacks.early_stopping import EarlyStopping\n",
    "from torchvision.transforms import Resize, InterpolationMode, ToTensor, ToPILImage, TenCrop, Compose, Lambda\n",
    "from torchmetrics import JaccardIndex, Precision, Recall, F1Score\n",
    "import segmentation_models_pytorch as smp\n",
    "\n",
    "from src.models.BaselineModel import BaselineModel\n",
    "from src.evaluation.evaluate_result import evaluate_result\n",
    "from src.callbacks.SaveRandomImagesCallback import SaveRandomImagesCallback\n",
    "from src.callbacks.SaveTestPredsMulticlass import SaveTestPredsMulticlass\n",
    "from src.datasets.utils.Squeeze5DimIfNeeded import Squeeze5DimIfNeeded\n",
    "from src.datasets.DubaiSemanticSegmentationDataset import (\n",
    "    DubaiSemanticSegmentationDataset,\n",
    ")\n",
    "from src.datasets.utils.ResizeToDivisibleBy32 import ResizeToDivisibleBy32"
   ]
  },
  {
   "cell_type": "markdown",
   "metadata": {},
   "source": [
    "## Prepare environment"
   ]
  },
  {
   "cell_type": "code",
   "execution_count": null,
   "metadata": {},
   "outputs": [],
   "source": [
    "torch.cuda.is_available()"
   ]
  },
  {
   "cell_type": "code",
   "execution_count": null,
   "metadata": {},
   "outputs": [],
   "source": [
    "device = torch.device(\"cuda\" if torch.cuda.is_available() else \"cpu\")\n",
    "# if you get some cryptic CUDA error, set device to \"cpu\" and try again\n",
    "print(device)"
   ]
  },
  {
   "cell_type": "code",
   "execution_count": null,
   "metadata": {},
   "outputs": [],
   "source": [
    "VAL_SIZE = 0.2\n",
    "BATCH_SIZE = 1\n",
    "SEED = 42\n",
    "SAVE_VAL_DIR = \"outputs/Dubai/val\"\n",
    "SAVE_TEST_DIR = \"outputs/Dubai/test\"\n",
    "INPUT_DUBAI_DATASET_PATH = \"data/DubaiSemanticSegmentationDataset\"\n",
    "OUTPUT_DUBAI_DATASET_PATH = \"data/DubaiSemanticSegmentationDatasetPatches\"\n",
    "IMAGE_SIZE = 576\n",
    "CROP_IMAGE_SIZE = 224"
   ]
  },
  {
   "cell_type": "code",
   "execution_count": null,
   "metadata": {},
   "outputs": [],
   "source": [
    "labeled_dataset = DubaiSemanticSegmentationDataset(\n",
    "    INPUT_DUBAI_DATASET_PATH, \n",
    "    transforms=Compose([\n",
    "        TenCrop(CROP_IMAGE_SIZE, vertical_flip=True),\n",
    "        Lambda(lambda crops: torch.stack([crop for crop in crops]))\n",
    "    ])\n",
    ")\n",
    "print(len(labeled_dataset))"
   ]
  },
  {
   "cell_type": "markdown",
   "metadata": {},
   "source": [
    "## Data preparation"
   ]
  },
  {
   "cell_type": "markdown",
   "metadata": {},
   "source": [
    "### Sanity check data"
   ]
  },
  {
   "cell_type": "code",
   "execution_count": null,
   "metadata": {},
   "outputs": [],
   "source": [
    "sanity_check_loader = DataLoader(labeled_dataset, batch_size=BATCH_SIZE, shuffle=False)"
   ]
  },
  {
   "cell_type": "code",
   "execution_count": null,
   "metadata": {},
   "outputs": [],
   "source": [
    "for batch in sanity_check_loader:\n",
    "    print(type(batch))\n",
    "    print(len(batch))\n",
    "    images = batch[0]\n",
    "    masks = batch[1]\n",
    "    print(images.shape)\n",
    "    print(masks.shape)\n",
    "    for sample in batch:\n",
    "        print(type(sample))\n",
    "        # images, masks = sample\n",
    "        # print(images.shape)\n",
    "        # print(masks.shape)\n",
    "        break\n",
    "    break\n",
    "\n",
    "# with TenCrop use:\n",
    "# for batch in train_loader:\n",
    "#     images, masks = batch\n",
    "#     print(images.shape)\n",
    "#     print(masks.shape)\n",
    "#     break"
   ]
  },
  {
   "cell_type": "code",
   "execution_count": null,
   "metadata": {},
   "outputs": [],
   "source": []
  }
 ],
 "metadata": {
  "kernelspec": {
   "display_name": "Python 3",
   "language": "python",
   "name": "python3"
  },
  "language_info": {
   "codemirror_mode": {
    "name": "ipython",
    "version": 3
   },
   "file_extension": ".py",
   "mimetype": "text/x-python",
   "name": "python",
   "nbconvert_exporter": "python",
   "pygments_lexer": "ipython3",
   "version": "3.12.3"
  }
 },
 "nbformat": 4,
 "nbformat_minor": 2
}
