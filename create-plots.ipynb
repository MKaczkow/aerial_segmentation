{
 "cells": [
  {
   "cell_type": "code",
   "execution_count": null,
   "metadata": {},
   "outputs": [],
   "source": [
    "import pandas as pd\n",
    "import matplotlib.pyplot as plt"
   ]
  },
  {
   "cell_type": "code",
   "execution_count": null,
   "metadata": {},
   "outputs": [],
   "source": [
    "OUTPUT_DIR = \"assets\""
   ]
  },
  {
   "cell_type": "markdown",
   "metadata": {},
   "source": [
    "# INRIA"
   ]
  },
  {
   "cell_type": "markdown",
   "metadata": {},
   "source": [
    "### MCCLoss, UNet"
   ]
  },
  {
   "cell_type": "code",
   "execution_count": null,
   "metadata": {},
   "outputs": [],
   "source": [
    "inria_mcc_unet = pd.read_csv(r'lightning_logs\\inria_patches_segmentation_model\\version_1\\metrics.csv')\n",
    "print(inria_mcc_unet.head())"
   ]
  },
  {
   "cell_type": "markdown",
   "metadata": {},
   "source": [
    "#### Loss"
   ]
  },
  {
   "cell_type": "code",
   "execution_count": null,
   "metadata": {},
   "outputs": [],
   "source": [
    "val_loss_epoch = inria_mcc_unet['val_loss_epoch'].dropna()\n",
    "print(\"length\", len(val_loss_epoch))\n",
    "# print()\n",
    "# print(val_loss_epoch)"
   ]
  },
  {
   "cell_type": "code",
   "execution_count": null,
   "metadata": {},
   "outputs": [],
   "source": [
    "train_loss_epoch = inria_mcc_unet['train_loss_epoch'].dropna()\n",
    "print(\"length\", len(train_loss_epoch))\n",
    "# print()\n",
    "# print(train_loss_epoch)\n",
    "\n",
    "assert len(train_loss_epoch) == len(val_loss_epoch)\n",
    "x = list(range(len(val_loss_epoch)))"
   ]
  },
  {
   "cell_type": "code",
   "execution_count": null,
   "metadata": {},
   "outputs": [],
   "source": [
    "plt.plot(x, train_loss_epoch, label='train_loss_epoch')\n",
    "plt.plot(x, val_loss_epoch, label='val_loss_epoch')\n",
    "plt.xlabel('Epoch')\n",
    "plt.ylabel('Loss')\n",
    "plt.grid()\n",
    "plt.legend()\n",
    "plt.savefig(rf\"{OUTPUT_DIR}\\inria_mcc_unet_loss.jpg\", dpi=300)"
   ]
  },
  {
   "cell_type": "markdown",
   "metadata": {},
   "source": [
    "#### IoU"
   ]
  },
  {
   "cell_type": "code",
   "execution_count": null,
   "metadata": {},
   "outputs": [],
   "source": [
    "val_iou_epoch = inria_mcc_unet['val_iou_epoch'].dropna()\n",
    "print(\"length\", len(val_loss_epoch))\n",
    "# print()\n",
    "# print(val_loss_epoch)"
   ]
  },
  {
   "cell_type": "code",
   "execution_count": null,
   "metadata": {},
   "outputs": [],
   "source": [
    "train_iou_epoch = inria_mcc_unet['train_iou_epoch'].dropna()\n",
    "print(\"length\", len(train_loss_epoch))\n",
    "# print()\n",
    "# print(val_loss_epoch)\n",
    "assert len(train_iou_epoch) == len(val_iou_epoch)\n",
    "x = list(range(len(val_iou_epoch)))"
   ]
  },
  {
   "cell_type": "code",
   "execution_count": null,
   "metadata": {},
   "outputs": [],
   "source": [
    "plt.plot(x, train_iou_epoch, label='train_iou_epoch')\n",
    "plt.plot(x, val_iou_epoch, label='val_iou_epoch')\n",
    "plt.xlabel('Epoch')\n",
    "plt.ylabel('Loss')\n",
    "plt.grid()\n",
    "plt.legend()\n",
    "plt.savefig(rf\"{OUTPUT_DIR}\\inria_mcc_unet_iou.jpg\", dpi=300)"
   ]
  },
  {
   "cell_type": "markdown",
   "metadata": {},
   "source": [
    "### MCCLoss, DeepLabV3"
   ]
  },
  {
   "cell_type": "code",
   "execution_count": null,
   "metadata": {},
   "outputs": [],
   "source": [
    "inria_mcc_deep = pd.read_csv(r'lightning_logs\\inria_patches_segmentation_model\\version_2\\metrics.csv')\n",
    "print(inria_mcc_deep.head())"
   ]
  },
  {
   "cell_type": "markdown",
   "metadata": {},
   "source": [
    "#### Loss"
   ]
  },
  {
   "cell_type": "code",
   "execution_count": null,
   "metadata": {},
   "outputs": [],
   "source": [
    "val_loss_epoch = inria_mcc_deep['val_loss_epoch'].dropna()\n",
    "print(\"length\", len(val_loss_epoch))\n",
    "# print()\n",
    "# print(val_loss_epoch)"
   ]
  },
  {
   "cell_type": "code",
   "execution_count": null,
   "metadata": {},
   "outputs": [],
   "source": [
    "train_loss_epoch = inria_mcc_deep['train_loss_epoch'].dropna()\n",
    "print(\"length\", len(train_loss_epoch))\n",
    "# print()\n",
    "# print(train_loss_epoch)\n",
    "\n",
    "assert len(train_loss_epoch) == len(val_loss_epoch)\n",
    "x = list(range(len(val_loss_epoch)))"
   ]
  },
  {
   "cell_type": "code",
   "execution_count": null,
   "metadata": {},
   "outputs": [],
   "source": [
    "plt.plot(x, train_loss_epoch, label='train_loss_epoch')\n",
    "plt.plot(x, val_loss_epoch, label='val_loss_epoch')\n",
    "plt.xlabel('Epoch')\n",
    "plt.ylabel('Loss')\n",
    "plt.grid()\n",
    "plt.legend()\n",
    "plt.savefig(rf\"{OUTPUT_DIR}\\inria_mcc_deep_loss.jpg\", dpi=300)"
   ]
  },
  {
   "cell_type": "markdown",
   "metadata": {},
   "source": [
    "#### IoU"
   ]
  },
  {
   "cell_type": "code",
   "execution_count": null,
   "metadata": {},
   "outputs": [],
   "source": [
    "val_iou_epoch = inria_mcc_deep['val_iou_epoch'].dropna()\n",
    "print(\"length\", len(val_loss_epoch))\n",
    "# print()\n",
    "# print(val_loss_epoch)"
   ]
  },
  {
   "cell_type": "code",
   "execution_count": null,
   "metadata": {},
   "outputs": [],
   "source": [
    "train_iou_epoch = inria_mcc_deep['train_iou_epoch'].dropna()\n",
    "print(\"length\", len(train_loss_epoch))\n",
    "# print()\n",
    "# print(val_loss_epoch)\n",
    "assert len(train_iou_epoch) == len(val_iou_epoch)\n",
    "x = list(range(len(val_iou_epoch)))"
   ]
  },
  {
   "cell_type": "code",
   "execution_count": null,
   "metadata": {},
   "outputs": [],
   "source": [
    "plt.plot(x, train_iou_epoch, label='train_iou_epoch')\n",
    "plt.plot(x, val_iou_epoch, label='val_iou_epoch')\n",
    "plt.xlabel('Epoch')\n",
    "plt.ylabel('Loss')\n",
    "plt.grid()\n",
    "plt.legend()\n",
    "plt.savefig(rf\"{OUTPUT_DIR}\\inria_mcc_deep_iou.jpg\", dpi=300)"
   ]
  },
  {
   "cell_type": "markdown",
   "metadata": {},
   "source": [
    "### SoftBCEWithLogitsLoss, UNet"
   ]
  },
  {
   "cell_type": "code",
   "execution_count": null,
   "metadata": {},
   "outputs": [],
   "source": [
    "inria_bce_unet = pd.read_csv(r\"lightning_logs\\inria_patches_segmentation_model\\version_4\\metrics.csv\")\n",
    "print(inria_bce_unet.head())"
   ]
  },
  {
   "cell_type": "markdown",
   "metadata": {},
   "source": [
    "#### Loss"
   ]
  },
  {
   "cell_type": "code",
   "execution_count": null,
   "metadata": {},
   "outputs": [],
   "source": [
    "val_loss_epoch = inria_bce_unet['val_loss_epoch'].dropna()\n",
    "print(\"length\", len(val_loss_epoch))\n",
    "# print()\n",
    "# print(val_loss_epoch)"
   ]
  },
  {
   "cell_type": "code",
   "execution_count": null,
   "metadata": {},
   "outputs": [],
   "source": [
    "train_loss_epoch = inria_bce_unet['train_loss_epoch'].dropna()\n",
    "print(\"length\", len(train_loss_epoch))\n",
    "# print()\n",
    "# print(train_loss_epoch)\n",
    "\n",
    "assert len(train_loss_epoch) == len(val_loss_epoch)\n",
    "x = list(range(len(val_loss_epoch)))"
   ]
  },
  {
   "cell_type": "code",
   "execution_count": null,
   "metadata": {},
   "outputs": [],
   "source": [
    "plt.plot(x, train_loss_epoch, label='train_loss_epoch')\n",
    "plt.plot(x, val_loss_epoch, label='val_loss_epoch')\n",
    "plt.xlabel('Epoch')\n",
    "plt.ylabel('Loss')\n",
    "plt.grid()\n",
    "plt.legend()\n",
    "plt.savefig(rf\"{OUTPUT_DIR}\\inria_bce_unet_loss.jpg\", dpi=300)"
   ]
  },
  {
   "cell_type": "markdown",
   "metadata": {},
   "source": [
    "#### IoU"
   ]
  },
  {
   "cell_type": "code",
   "execution_count": null,
   "metadata": {},
   "outputs": [],
   "source": [
    "val_iou_epoch = inria_bce_unet['val_iou_epoch'].dropna()\n",
    "print(\"length\", len(val_loss_epoch))\n",
    "# print()\n",
    "# print(val_loss_epoch)"
   ]
  },
  {
   "cell_type": "code",
   "execution_count": null,
   "metadata": {},
   "outputs": [],
   "source": [
    "train_iou_epoch = inria_bce_unet['train_iou_epoch'].dropna()\n",
    "print(\"length\", len(train_loss_epoch))\n",
    "# print()\n",
    "# print(val_loss_epoch)\n",
    "assert len(train_iou_epoch) == len(val_iou_epoch)\n",
    "x = list(range(len(val_iou_epoch)))"
   ]
  },
  {
   "cell_type": "code",
   "execution_count": null,
   "metadata": {},
   "outputs": [],
   "source": [
    "plt.plot(x, train_iou_epoch, label='train_iou_epoch')\n",
    "plt.plot(x, val_iou_epoch, label='val_iou_epoch')\n",
    "plt.xlabel('Epoch')\n",
    "plt.ylabel('Loss')\n",
    "plt.grid()\n",
    "plt.legend()\n",
    "plt.savefig(rf\"{OUTPUT_DIR}\\inria_bce_unet_iou.jpg\", dpi=300)"
   ]
  },
  {
   "cell_type": "markdown",
   "metadata": {},
   "source": [
    "### DiceLoss, UNet"
   ]
  },
  {
   "cell_type": "code",
   "execution_count": null,
   "metadata": {},
   "outputs": [],
   "source": [
    "inria_dice_unet = pd.read_csv(r\"lightning_logs\\inria_patches_segmentation_model\\version_5\\metrics.csv\")\n",
    "print(inria_bce_unet.head())"
   ]
  },
  {
   "cell_type": "markdown",
   "metadata": {},
   "source": [
    "#### Loss"
   ]
  },
  {
   "cell_type": "code",
   "execution_count": null,
   "metadata": {},
   "outputs": [],
   "source": [
    "val_loss_epoch = inria_dice_unet['val_loss_epoch'].dropna()\n",
    "print(\"length\", len(val_loss_epoch))\n",
    "# print()\n",
    "# print(val_loss_epoch)"
   ]
  },
  {
   "cell_type": "code",
   "execution_count": null,
   "metadata": {},
   "outputs": [],
   "source": [
    "train_loss_epoch = inria_dice_unet['train_loss_epoch'].dropna()\n",
    "print(\"length\", len(train_loss_epoch))\n",
    "# print()\n",
    "# print(train_loss_epoch)\n",
    "\n",
    "assert len(train_loss_epoch) == len(val_loss_epoch)\n",
    "x = list(range(len(val_loss_epoch)))"
   ]
  },
  {
   "cell_type": "code",
   "execution_count": null,
   "metadata": {},
   "outputs": [],
   "source": [
    "plt.plot(x, train_loss_epoch, label='train_loss_epoch')\n",
    "plt.plot(x, val_loss_epoch, label='val_loss_epoch')\n",
    "plt.xlabel('Epoch')\n",
    "plt.ylabel('Loss')\n",
    "plt.grid()\n",
    "plt.legend()\n",
    "plt.savefig(rf\"{OUTPUT_DIR}\\inria_dice_unet_loss.jpg\", dpi=300)"
   ]
  },
  {
   "cell_type": "markdown",
   "metadata": {},
   "source": [
    "#### IoU"
   ]
  },
  {
   "cell_type": "code",
   "execution_count": null,
   "metadata": {},
   "outputs": [],
   "source": [
    "val_iou_epoch = inria_dice_unet['val_iou_epoch'].dropna()\n",
    "print(\"length\", len(val_loss_epoch))\n",
    "# print()\n",
    "# print(val_loss_epoch)"
   ]
  },
  {
   "cell_type": "code",
   "execution_count": null,
   "metadata": {},
   "outputs": [],
   "source": [
    "train_iou_epoch = inria_dice_unet['train_iou_epoch'].dropna()\n",
    "print(\"length\", len(train_loss_epoch))\n",
    "# print()\n",
    "# print(val_loss_epoch)\n",
    "assert len(train_iou_epoch) == len(val_iou_epoch)\n",
    "x = list(range(len(val_iou_epoch)))"
   ]
  },
  {
   "cell_type": "code",
   "execution_count": null,
   "metadata": {},
   "outputs": [],
   "source": [
    "plt.plot(x, train_iou_epoch, label='train_iou_epoch')\n",
    "plt.plot(x, val_iou_epoch, label='val_iou_epoch')\n",
    "plt.xlabel('Epoch')\n",
    "plt.ylabel('Loss')\n",
    "plt.grid()\n",
    "plt.legend()\n",
    "plt.savefig(rf\"{OUTPUT_DIR}\\inria_dice_unet.jpg\", dpi=300)"
   ]
  },
  {
   "cell_type": "markdown",
   "metadata": {},
   "source": [
    "### Combined"
   ]
  },
  {
   "cell_type": "markdown",
   "metadata": {},
   "source": [
    "#### Loss"
   ]
  },
  {
   "cell_type": "code",
   "execution_count": null,
   "metadata": {},
   "outputs": [],
   "source": [
    "inria_bce_unet_loss = inria_bce_unet['val_loss_epoch'].dropna()\n",
    "inria_mcc_unet_loss = inria_mcc_unet['val_loss_epoch'].dropna()\n",
    "inria_mcc_deep_loss = inria_mcc_deep['val_loss_epoch'].dropna()\n",
    "inria_dice_unet_loss = inria_dice_unet['val_loss_epoch'].dropna()"
   ]
  },
  {
   "cell_type": "code",
   "execution_count": null,
   "metadata": {},
   "outputs": [],
   "source": [
    "x_inria_bce_unet_loss = list(range(len(inria_bce_unet_loss)))\n",
    "x_inria_mcc_unet_loss = list(range(len(inria_mcc_unet_loss)))\n",
    "x_inria_mcc_deep_loss = list(range(len(inria_mcc_deep_loss)))\n",
    "x_inria_dice_unet_loss = list(range(len(inria_dice_unet_loss)))"
   ]
  },
  {
   "cell_type": "code",
   "execution_count": null,
   "metadata": {},
   "outputs": [],
   "source": [
    "plt.plot(x_inria_bce_unet_loss, inria_bce_unet_loss, label='bce_unet')\n",
    "plt.plot(x_inria_mcc_unet_loss, inria_mcc_unet_loss, label='mcc_unet')\n",
    "plt.plot(x_inria_mcc_deep_loss, inria_mcc_deep_loss, label='mcc_deep')\n",
    "plt.plot(x_inria_dice_unet_loss, inria_dice_unet_loss, label='dice_unet')\n",
    "\n",
    "plt.xlabel('Epoch')\n",
    "plt.ylabel('Loss')\n",
    "plt.grid()\n",
    "plt.legend()\n",
    "plt.savefig(rf\"{OUTPUT_DIR}\\inria_losses_combined.jpg\", dpi=300)"
   ]
  },
  {
   "cell_type": "markdown",
   "metadata": {},
   "source": [
    "#### IoU"
   ]
  },
  {
   "cell_type": "code",
   "execution_count": null,
   "metadata": {},
   "outputs": [],
   "source": [
    "inria_bce_unet_iou = inria_bce_unet['val_iou_epoch'].dropna()\n",
    "inria_mcc_unet_iou = inria_mcc_unet['val_iou_epoch'].dropna()\n",
    "inria_mcc_deep_iou = inria_mcc_deep['val_iou_epoch'].dropna()\n",
    "inria_dice_unet_loss = inria_dice_unet['val_loss_epoch'].dropna()"
   ]
  },
  {
   "cell_type": "code",
   "execution_count": null,
   "metadata": {},
   "outputs": [],
   "source": [
    "x_inria_bce_unet_iou = list(range(len(inria_bce_unet_iou)))\n",
    "x_inria_mcc_unet_iou = list(range(len(inria_mcc_unet_iou)))\n",
    "x_inria_mcc_deep_iou = list(range(len(inria_mcc_deep_iou)))\n",
    "x_inria_dice_unet_loss = list(range(len(inria_dice_unet_loss)))"
   ]
  },
  {
   "cell_type": "code",
   "execution_count": null,
   "metadata": {},
   "outputs": [],
   "source": [
    "plt.plot(x_inria_bce_unet_iou, inria_bce_unet_iou, label='bce_unet')\n",
    "plt.plot(x_inria_mcc_unet_iou, inria_mcc_unet_iou, label='mcc_unet')\n",
    "plt.plot(x_inria_mcc_deep_iou, inria_mcc_deep_iou, label='mcc_deep')\n",
    "plt.plot(x_inria_dice_unet_loss, inria_dice_unet_loss, label='dice_unet')\n",
    "\n",
    "plt.xlabel('Epoch')\n",
    "plt.ylabel('Loss')\n",
    "plt.grid()\n",
    "plt.legend()\n",
    "plt.savefig(rf\"{OUTPUT_DIR}\\inria_iou_combined.jpg\", dpi=300)"
   ]
  },
  {
   "cell_type": "markdown",
   "metadata": {},
   "source": [
    "# Dubai "
   ]
  },
  {
   "cell_type": "code",
   "execution_count": null,
   "metadata": {},
   "outputs": [],
   "source": [
    "dubai_jaccard_unet = pd.read_csv(r'lightning_logs\\dubai_segmentation_model\\version_19\\metrics.csv')\n",
    "print(dubai_jaccard_unet.head())"
   ]
  },
  {
   "cell_type": "markdown",
   "metadata": {},
   "source": [
    "#### Loss"
   ]
  },
  {
   "cell_type": "code",
   "execution_count": null,
   "metadata": {},
   "outputs": [],
   "source": [
    "val_loss_epoch = dubai_jaccard_unet['val_loss_epoch'].dropna()\n",
    "print(\"length\", len(val_loss_epoch))\n",
    "# print()\n",
    "# print(val_loss_epoch)"
   ]
  },
  {
   "cell_type": "code",
   "execution_count": null,
   "metadata": {},
   "outputs": [],
   "source": [
    "train_loss_epoch = dubai_jaccard_unet['train_loss_epoch'].dropna()\n",
    "print(\"length\", len(train_loss_epoch))\n",
    "# print()\n",
    "# print(train_loss_epoch)\n",
    "\n",
    "assert len(train_loss_epoch) == len(val_loss_epoch)\n",
    "x = list(range(len(val_loss_epoch)))"
   ]
  },
  {
   "cell_type": "code",
   "execution_count": null,
   "metadata": {},
   "outputs": [],
   "source": [
    "plt.plot(x, train_loss_epoch, label='train_loss_epoch')\n",
    "plt.plot(x, val_loss_epoch, label='val_loss_epoch')\n",
    "plt.xlabel('Epoch')\n",
    "plt.ylabel('Loss')\n",
    "plt.grid()\n",
    "plt.legend()\n",
    "plt.savefig(rf\"{OUTPUT_DIR}\\dubai_jaccard_loss.jpg\", dpi=300)"
   ]
  },
  {
   "cell_type": "markdown",
   "metadata": {},
   "source": [
    "#### IoU"
   ]
  },
  {
   "cell_type": "code",
   "execution_count": null,
   "metadata": {},
   "outputs": [],
   "source": [
    "val_iou_epoch = dubai_jaccard_unet['val_iou_epoch'].dropna()\n",
    "print(\"length\", len(val_loss_epoch))\n",
    "# print()\n",
    "# print(val_loss_epoch)"
   ]
  },
  {
   "cell_type": "code",
   "execution_count": null,
   "metadata": {},
   "outputs": [],
   "source": [
    "train_iou_epoch = dubai_jaccard_unet['train_iou_epoch'].dropna()\n",
    "print(\"length\", len(train_loss_epoch))\n",
    "# print()\n",
    "# print(val_loss_epoch)\n",
    "\n",
    "assert len(train_iou_epoch) == len(val_iou_epoch)\n",
    "x = list(range(len(val_iou_epoch)))"
   ]
  },
  {
   "cell_type": "code",
   "execution_count": null,
   "metadata": {},
   "outputs": [],
   "source": [
    "plt.plot(x, train_iou_epoch, label='train_iou_epoch')\n",
    "plt.plot(x, val_iou_epoch, label='val_iou_epoch')\n",
    "plt.xlabel('Epoch')\n",
    "plt.ylabel('Loss')\n",
    "plt.grid()\n",
    "plt.legend()\n",
    "plt.savefig(rf\"{OUTPUT_DIR}\\dubai_jaccard_iou.jpg\", dpi=300)"
   ]
  }
 ],
 "metadata": {
  "kernelspec": {
   "display_name": ".venv",
   "language": "python",
   "name": "python3"
  },
  "language_info": {
   "codemirror_mode": {
    "name": "ipython",
    "version": 3
   },
   "file_extension": ".py",
   "mimetype": "text/x-python",
   "name": "python",
   "nbconvert_exporter": "python",
   "pygments_lexer": "ipython3",
   "version": "3.12.3"
  }
 },
 "nbformat": 4,
 "nbformat_minor": 2
}
