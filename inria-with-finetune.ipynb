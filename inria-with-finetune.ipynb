{
 "cells": [
  {
   "cell_type": "code",
   "execution_count": 1,
   "metadata": {},
   "outputs": [
    {
     "name": "stderr",
     "output_type": "stream",
     "text": [
      "d:\\__repos\\aerial_segmentation\\.venv\\Lib\\site-packages\\tqdm\\auto.py:21: TqdmWarning: IProgress not found. Please update jupyter and ipywidgets. See https://ipywidgets.readthedocs.io/en/stable/user_install.html\n",
      "  from .autonotebook import tqdm as notebook_tqdm\n"
     ]
    }
   ],
   "source": [
    "import numpy as np\n",
    "import matplotlib.pyplot as plt\n",
    "from pathlib import Path\n",
    "\n",
    "import torch\n",
    "from torch.utils.data import DataLoader\n",
    "from torchvision.transforms import RandomCrop\n",
    "import pytorch_lightning as pl\n",
    "from pytorch_lightning.callbacks import ModelCheckpoint\n",
    "from pytorch_lightning.callbacks.early_stopping import EarlyStopping\n",
    "from pytorch_lightning.loggers import CSVLogger, TensorBoardLogger\n",
    "from torchvision.transforms import Resize, InterpolationMode, ToPILImage\n",
    "from torchmetrics import JaccardIndex, Precision, Recall, F1Score\n",
    "import segmentation_models_pytorch as smp\n",
    "\n",
    "from src.models.BaselineModel import BaselineModel\n",
    "from src.evaluation.evaluate_result import evaluate_result\n",
    "from src.callbacks.SaveRandomImagesCallback import SaveRandomImagesCallback\n",
    "from src.callbacks.SaveTestPreds import SaveTestPreds\n",
    "from src.datasets.INRIAAerialImageLabellingDataset import (\n",
    "    INRIAAerialImageLabellingDataset,\n",
    ")\n",
    "from src.utils import view_and_save_images_shapes"
   ]
  },
  {
   "cell_type": "markdown",
   "metadata": {},
   "source": [
    "## Prepare environment"
   ]
  },
  {
   "cell_type": "code",
   "execution_count": 2,
   "metadata": {},
   "outputs": [
    {
     "data": {
      "text/plain": [
       "True"
      ]
     },
     "execution_count": 2,
     "metadata": {},
     "output_type": "execute_result"
    }
   ],
   "source": [
    "torch.cuda.is_available()"
   ]
  },
  {
   "cell_type": "code",
   "execution_count": 3,
   "metadata": {},
   "outputs": [
    {
     "name": "stdout",
     "output_type": "stream",
     "text": [
      "cuda\n"
     ]
    }
   ],
   "source": [
    "device = torch.device(\"cuda\" if torch.cuda.is_available() else \"cpu\")\n",
    "# if you get some cryptic CUDA error, set device to \"cpu\" and try again\n",
    "print(device)"
   ]
  },
  {
   "cell_type": "code",
   "execution_count": 4,
   "metadata": {},
   "outputs": [],
   "source": [
    "VAL_SIZE = 0.2\n",
    "BATCH_SIZE = 4\n",
    "SEED = 42\n",
    "IMAGE_SIZE = 576\n",
    "SAVE_VAL_DIR = \"outputs/INRIA/val\"\n",
    "SAVE_TEST_DIR = \"outputs/INRIA/test\"\n",
    "INRIA_DATASET_PATH = \"data/INRIAAerialImageLabellingDataset\"  # home PC\n",
    "# INRIA_DATASET_PATH = \"data/TestSubsets/INRIAAerialImageLabellingDataset\"  # laptop"
   ]
  },
  {
   "cell_type": "code",
   "execution_count": 5,
   "metadata": {},
   "outputs": [
    {
     "name": "stdout",
     "output_type": "stream",
     "text": [
      "180\n"
     ]
    }
   ],
   "source": [
    "labeled_dataset = INRIAAerialImageLabellingDataset(\n",
    "    INRIA_DATASET_PATH,\n",
    "    split=\"train\",\n",
    "    transforms=[\n",
    "        # Resize(IMAGE_SIZE),\n",
    "        RandomCrop((IMAGE_SIZE, IMAGE_SIZE)),\n",
    "        # Resize(IMAGE_SIZE, interpolation=InterpolationMode.NEAREST_EXACT),\n",
    "        # ResizeToDivisibleBy32()\n",
    "    ],\n",
    ")\n",
    "print(len(labeled_dataset))"
   ]
  },
  {
   "cell_type": "code",
   "execution_count": 6,
   "metadata": {},
   "outputs": [
    {
     "name": "stdout",
     "output_type": "stream",
     "text": [
      "144\n"
     ]
    }
   ],
   "source": [
    "test_dataset = INRIAAerialImageLabellingDataset(\n",
    "    INRIA_DATASET_PATH,\n",
    "    split=\"test\",\n",
    "    transforms=[\n",
    "        # Resize(IMAGE_SIZE),\n",
    "        RandomCrop((IMAGE_SIZE, IMAGE_SIZE)),\n",
    "        # Resize(IMAGE_SIZE, interpolation=InterpolationMode.NEAREST_EXACT),\n",
    "        # ResizeToDivisibleBy32()\n",
    "    ],\n",
    ")\n",
    "print(len(test_dataset))"
   ]
  },
  {
   "cell_type": "markdown",
   "metadata": {},
   "source": [
    "## Prepare data"
   ]
  },
  {
   "cell_type": "code",
   "execution_count": 7,
   "metadata": {},
   "outputs": [
    {
     "name": "stdout",
     "output_type": "stream",
     "text": [
      "180\n"
     ]
    }
   ],
   "source": [
    "sanity_check_dataset = INRIAAerialImageLabellingDataset(\n",
    "    INRIA_DATASET_PATH,\n",
    "    split=\"train\",\n",
    ")\n",
    "print(len(sanity_check_dataset))"
   ]
  },
  {
   "cell_type": "code",
   "execution_count": 8,
   "metadata": {},
   "outputs": [],
   "source": [
    "sanity_check_dataloader = DataLoader(\n",
    "    sanity_check_dataset, batch_size=BATCH_SIZE, shuffle=True\n",
    ")"
   ]
  },
  {
   "cell_type": "code",
   "execution_count": 9,
   "metadata": {},
   "outputs": [
    {
     "name": "stdout",
     "output_type": "stream",
     "text": [
      "Opening file inria_images_shapes\n",
      "Saving image shapes to CSV file... <_io.TextIOWrapper name='inria_images_shapes.csv' mode='a' encoding='cp1250'>\n",
      "Header written to CSV file... <_io.TextIOWrapper name='inria_images_shapes.csv' mode='a' encoding='cp1250'>\n",
      "Batch Index: 0\n",
      "Image Shape: torch.Size([4, 3, 5000, 5000])\n",
      "Mask Shape: torch.Size([4, 1, 5000, 5000])\n",
      "Writting rov 0\n",
      "Batch Index: 1\n",
      "Image Shape: torch.Size([4, 3, 5000, 5000])\n",
      "Mask Shape: torch.Size([4, 1, 5000, 5000])\n",
      "Writting rov 1\n",
      "Batch Index: 2\n",
      "Image Shape: torch.Size([4, 3, 5000, 5000])\n",
      "Mask Shape: torch.Size([4, 1, 5000, 5000])\n",
      "Writting rov 2\n",
      "Batch Index: 3\n",
      "Image Shape: torch.Size([4, 3, 5000, 5000])\n",
      "Mask Shape: torch.Size([4, 1, 5000, 5000])\n",
      "Writting rov 3\n",
      "Batch Index: 4\n",
      "Image Shape: torch.Size([4, 3, 5000, 5000])\n",
      "Mask Shape: torch.Size([4, 1, 5000, 5000])\n",
      "Writting rov 4\n",
      "Batch Index: 5\n",
      "Image Shape: torch.Size([4, 3, 5000, 5000])\n",
      "Mask Shape: torch.Size([4, 1, 5000, 5000])\n",
      "Writting rov 5\n",
      "Batch Index: 6\n",
      "Image Shape: torch.Size([4, 3, 5000, 5000])\n",
      "Mask Shape: torch.Size([4, 1, 5000, 5000])\n",
      "Writting rov 6\n",
      "Batch Index: 7\n",
      "Image Shape: torch.Size([4, 3, 5000, 5000])\n",
      "Mask Shape: torch.Size([4, 1, 5000, 5000])\n",
      "Writting rov 7\n",
      "Batch Index: 8\n",
      "Image Shape: torch.Size([4, 3, 5000, 5000])\n",
      "Mask Shape: torch.Size([4, 1, 5000, 5000])\n",
      "Writting rov 8\n",
      "Batch Index: 9\n",
      "Image Shape: torch.Size([4, 3, 5000, 5000])\n",
      "Mask Shape: torch.Size([4, 1, 5000, 5000])\n",
      "Writting rov 9\n",
      "Batch Index: 10\n",
      "Image Shape: torch.Size([4, 3, 5000, 5000])\n",
      "Mask Shape: torch.Size([4, 1, 5000, 5000])\n",
      "Writting rov 10\n",
      "Batch Index: 11\n",
      "Image Shape: torch.Size([4, 3, 5000, 5000])\n",
      "Mask Shape: torch.Size([4, 1, 5000, 5000])\n",
      "Writting rov 11\n",
      "Batch Index: 12\n",
      "Image Shape: torch.Size([4, 3, 5000, 5000])\n",
      "Mask Shape: torch.Size([4, 1, 5000, 5000])\n",
      "Writting rov 12\n",
      "Batch Index: 13\n",
      "Image Shape: torch.Size([4, 3, 5000, 5000])\n",
      "Mask Shape: torch.Size([4, 1, 5000, 5000])\n",
      "Writting rov 13\n",
      "Batch Index: 14\n",
      "Image Shape: torch.Size([4, 3, 5000, 5000])\n",
      "Mask Shape: torch.Size([4, 1, 5000, 5000])\n",
      "Writting rov 14\n",
      "Batch Index: 15\n",
      "Image Shape: torch.Size([4, 3, 5000, 5000])\n",
      "Mask Shape: torch.Size([4, 1, 5000, 5000])\n",
      "Writting rov 15\n",
      "Batch Index: 16\n",
      "Image Shape: torch.Size([4, 3, 5000, 5000])\n",
      "Mask Shape: torch.Size([4, 1, 5000, 5000])\n",
      "Writting rov 16\n",
      "Batch Index: 17\n",
      "Image Shape: torch.Size([4, 3, 5000, 5000])\n",
      "Mask Shape: torch.Size([4, 1, 5000, 5000])\n",
      "Writting rov 17\n",
      "Batch Index: 18\n",
      "Image Shape: torch.Size([4, 3, 5000, 5000])\n",
      "Mask Shape: torch.Size([4, 1, 5000, 5000])\n",
      "Writting rov 18\n",
      "Batch Index: 19\n",
      "Image Shape: torch.Size([4, 3, 5000, 5000])\n",
      "Mask Shape: torch.Size([4, 1, 5000, 5000])\n",
      "Writting rov 19\n",
      "Batch Index: 20\n",
      "Image Shape: torch.Size([4, 3, 5000, 5000])\n",
      "Mask Shape: torch.Size([4, 1, 5000, 5000])\n",
      "Writting rov 20\n",
      "Batch Index: 21\n",
      "Image Shape: torch.Size([4, 3, 5000, 5000])\n",
      "Mask Shape: torch.Size([4, 1, 5000, 5000])\n",
      "Writting rov 21\n",
      "Batch Index: 22\n",
      "Image Shape: torch.Size([4, 3, 5000, 5000])\n",
      "Mask Shape: torch.Size([4, 1, 5000, 5000])\n",
      "Writting rov 22\n",
      "Batch Index: 23\n",
      "Image Shape: torch.Size([4, 3, 5000, 5000])\n",
      "Mask Shape: torch.Size([4, 1, 5000, 5000])\n",
      "Writting rov 23\n",
      "Batch Index: 24\n",
      "Image Shape: torch.Size([4, 3, 5000, 5000])\n",
      "Mask Shape: torch.Size([4, 1, 5000, 5000])\n",
      "Writting rov 24\n",
      "Batch Index: 25\n",
      "Image Shape: torch.Size([4, 3, 5000, 5000])\n",
      "Mask Shape: torch.Size([4, 1, 5000, 5000])\n",
      "Writting rov 25\n",
      "Batch Index: 26\n",
      "Image Shape: torch.Size([4, 3, 5000, 5000])\n",
      "Mask Shape: torch.Size([4, 1, 5000, 5000])\n",
      "Writting rov 26\n",
      "Batch Index: 27\n",
      "Image Shape: torch.Size([4, 3, 5000, 5000])\n",
      "Mask Shape: torch.Size([4, 1, 5000, 5000])\n",
      "Writting rov 27\n",
      "Batch Index: 28\n",
      "Image Shape: torch.Size([4, 3, 5000, 5000])\n",
      "Mask Shape: torch.Size([4, 1, 5000, 5000])\n",
      "Writting rov 28\n",
      "Batch Index: 29\n",
      "Image Shape: torch.Size([4, 3, 5000, 5000])\n",
      "Mask Shape: torch.Size([4, 1, 5000, 5000])\n",
      "Writting rov 29\n",
      "Batch Index: 30\n",
      "Image Shape: torch.Size([4, 3, 5000, 5000])\n",
      "Mask Shape: torch.Size([4, 1, 5000, 5000])\n",
      "Writting rov 30\n",
      "Batch Index: 31\n",
      "Image Shape: torch.Size([4, 3, 5000, 5000])\n",
      "Mask Shape: torch.Size([4, 1, 5000, 5000])\n",
      "Writting rov 31\n",
      "Batch Index: 32\n",
      "Image Shape: torch.Size([4, 3, 5000, 5000])\n",
      "Mask Shape: torch.Size([4, 1, 5000, 5000])\n",
      "Writting rov 32\n",
      "Batch Index: 33\n",
      "Image Shape: torch.Size([4, 3, 5000, 5000])\n",
      "Mask Shape: torch.Size([4, 1, 5000, 5000])\n",
      "Writting rov 33\n",
      "Batch Index: 34\n",
      "Image Shape: torch.Size([4, 3, 5000, 5000])\n",
      "Mask Shape: torch.Size([4, 1, 5000, 5000])\n",
      "Writting rov 34\n",
      "Batch Index: 35\n",
      "Image Shape: torch.Size([4, 3, 5000, 5000])\n",
      "Mask Shape: torch.Size([4, 1, 5000, 5000])\n",
      "Writting rov 35\n",
      "Batch Index: 36\n",
      "Image Shape: torch.Size([4, 3, 5000, 5000])\n",
      "Mask Shape: torch.Size([4, 1, 5000, 5000])\n",
      "Writting rov 36\n",
      "Batch Index: 37\n",
      "Image Shape: torch.Size([4, 3, 5000, 5000])\n",
      "Mask Shape: torch.Size([4, 1, 5000, 5000])\n",
      "Writting rov 37\n",
      "Batch Index: 38\n",
      "Image Shape: torch.Size([4, 3, 5000, 5000])\n",
      "Mask Shape: torch.Size([4, 1, 5000, 5000])\n",
      "Writting rov 38\n",
      "Batch Index: 39\n",
      "Image Shape: torch.Size([4, 3, 5000, 5000])\n",
      "Mask Shape: torch.Size([4, 1, 5000, 5000])\n",
      "Writting rov 39\n",
      "Batch Index: 40\n",
      "Image Shape: torch.Size([4, 3, 5000, 5000])\n",
      "Mask Shape: torch.Size([4, 1, 5000, 5000])\n",
      "Writting rov 40\n",
      "Batch Index: 41\n",
      "Image Shape: torch.Size([4, 3, 5000, 5000])\n",
      "Mask Shape: torch.Size([4, 1, 5000, 5000])\n",
      "Writting rov 41\n",
      "Batch Index: 42\n",
      "Image Shape: torch.Size([4, 3, 5000, 5000])\n",
      "Mask Shape: torch.Size([4, 1, 5000, 5000])\n",
      "Writting rov 42\n",
      "Batch Index: 43\n",
      "Image Shape: torch.Size([4, 3, 5000, 5000])\n",
      "Mask Shape: torch.Size([4, 1, 5000, 5000])\n",
      "Writting rov 43\n",
      "Batch Index: 44\n",
      "Image Shape: torch.Size([4, 3, 5000, 5000])\n",
      "Mask Shape: torch.Size([4, 1, 5000, 5000])\n",
      "Writting rov 44\n",
      "Image shapes saved to inria_images_shapes.csv\n"
     ]
    }
   ],
   "source": [
    "view_and_save_images_shapes(sanity_check_dataloader, 'inria_images_shapes', verbose=True)"
   ]
  },
  {
   "cell_type": "markdown",
   "metadata": {},
   "source": [
    "### Train, validation and test data"
   ]
  },
  {
   "cell_type": "code",
   "execution_count": null,
   "metadata": {},
   "outputs": [],
   "source": [
    "train_size = int(0.8 * len(labeled_dataset))\n",
    "val_size = len(labeled_dataset) - train_size\n",
    "train_dataset, val_dataset = torch.utils.data.random_split(\n",
    "    labeled_dataset, [train_size, val_size]\n",
    ")"
   ]
  },
  {
   "cell_type": "code",
   "execution_count": null,
   "metadata": {},
   "outputs": [],
   "source": [
    "train_loader = DataLoader(\n",
    "    train_dataset, batch_size=BATCH_SIZE, shuffle=True, num_workers=4, persistent_workers=True\n",
    ")\n",
    "val_loader = DataLoader(\n",
    "    val_dataset, batch_size=BATCH_SIZE, shuffle=False, num_workers=4, persistent_workers=True\n",
    ")\n",
    "test_loader = DataLoader(\n",
    "    test_dataset, batch_size=BATCH_SIZE, shuffle=False, num_workers=4, persistent_workers=True\n",
    ")"
   ]
  },
  {
   "cell_type": "code",
   "execution_count": null,
   "metadata": {},
   "outputs": [],
   "source": [
    "for images, masks in train_loader:\n",
    "    print(images.shape)\n",
    "    print(masks.shape)\n",
    "    break"
   ]
  },
  {
   "cell_type": "code",
   "execution_count": null,
   "metadata": {},
   "outputs": [],
   "source": [
    "to_pil_transform = ToPILImage()"
   ]
  },
  {
   "cell_type": "code",
   "execution_count": null,
   "metadata": {},
   "outputs": [],
   "source": [
    "if BATCH_SIZE == 1:\n",
    "    img = to_pil_transform(images.squeeze())"
   ]
  },
  {
   "cell_type": "code",
   "execution_count": null,
   "metadata": {},
   "outputs": [],
   "source": [
    "# img.show()"
   ]
  },
  {
   "cell_type": "code",
   "execution_count": null,
   "metadata": {},
   "outputs": [],
   "source": [
    "if BATCH_SIZE == 1:\n",
    "    msk = to_pil_transform(masks.squeeze())"
   ]
  },
  {
   "cell_type": "code",
   "execution_count": null,
   "metadata": {},
   "outputs": [],
   "source": [
    "# msk.show()"
   ]
  },
  {
   "cell_type": "markdown",
   "metadata": {},
   "source": [
    "# Training module"
   ]
  },
  {
   "cell_type": "code",
   "execution_count": null,
   "metadata": {},
   "outputs": [],
   "source": [
    "class SegmentationModel(pl.LightningModule):\n",
    "    def __init__(self, model, learning_rate=1e-3):\n",
    "        super(SegmentationModel, self).__init__()\n",
    "        \n",
    "        self.model = model\n",
    "        self.learning_rate = learning_rate\n",
    "\n",
    "        # self.criterion = smp.losses.JaccardLoss(mode=\"binary\", from_logits=True)\n",
    "        self.criterion = smp.losses.MCCLoss()\n",
    "        self.train_iou = JaccardIndex(num_classes=2, task=\"binary\")\n",
    "        self.val_iou = JaccardIndex(num_classes=2, task=\"binary\")\n",
    "\n",
    "        # self.save_hyperparameters()\n",
    "\n",
    "    def forward(self, x):\n",
    "        output = self.model(x.to(device))\n",
    "        return output\n",
    "\n",
    "    def training_step(self, batch, batch_idx):\n",
    "        images, masks = batch\n",
    "        masks = torch.div(masks, 255).float()\n",
    "        preds = self(images)\n",
    "        loss = self.criterion(preds, masks)\n",
    "\n",
    "        self.log(\"train_loss\", loss, on_epoch=True, on_step=True)\n",
    "        self.log(\"train_iou\", self.train_iou(preds, masks), on_epoch=True, on_step=True)\n",
    "\n",
    "        return loss\n",
    "\n",
    "    def validation_step(self, batch, batch_idx):\n",
    "        images, masks = batch\n",
    "        masks = torch.div(masks, 255).float()\n",
    "        preds = self(images)\n",
    "        loss = self.criterion(preds, masks)\n",
    "\n",
    "        self.log(\"val_loss\", loss, on_epoch=True, on_step=True)\n",
    "        self.log(\"val_iou\", self.val_iou(preds, masks), on_epoch=True, on_step=True)\n",
    "\n",
    "        return loss\n",
    "\n",
    "    def test_step(self, batch, batch_idx):\n",
    "        # just here to activate the test_epoch_end\n",
    "        # callback SaveTestPreds starts on_test_epoch_end \n",
    "        pass\n",
    "\n",
    "    def configure_optimizers(self):\n",
    "        optimizer = torch.optim.Adam(self.parameters(), lr=self.learning_rate)\n",
    "        return optimizer"
   ]
  },
  {
   "cell_type": "code",
   "execution_count": null,
   "metadata": {},
   "outputs": [],
   "source": [
    "model = smp.Unet(\n",
    "    encoder_name=\"resnet18\",  # choose encoder, e.g. mobilenet_v2 or efficientnet-b7\n",
    "    encoder_weights=\"imagenet\",  # use `imagenet` pre-trained weights for encoder initialization\n",
    "    in_channels=3,  # model input channels (1 for gray-scale images, 3 for RGB, etc.)\n",
    "    classes=1,  # model output channels (number of classes in your dataset)\n",
    "    activation=\"sigmoid\",\n",
    ").to(device)"
   ]
  },
  {
   "cell_type": "code",
   "execution_count": null,
   "metadata": {},
   "outputs": [],
   "source": [
    "# model = smp.UnetPlusPlus(\n",
    "#     encoder_name=\"resnet18\",  # choose encoder, e.g. mobilenet_v2 or efficientnet-b7\n",
    "#     encoder_weights=\"imagenet\",  # use `imagenet` pre-trained weights for encoder initialization\n",
    "#     in_channels=3,  # model input channels (1 for gray-scale images, 3 for RGB, etc.)\n",
    "#     classes=1,  # model output channels (number of classes in your dataset)\n",
    "# ).to(device)"
   ]
  },
  {
   "cell_type": "code",
   "execution_count": null,
   "metadata": {},
   "outputs": [],
   "source": [
    "# model = smp.DeepLabV3(\n",
    "#     encoder_name=\"resnet18\",  # choose encoder, e.g. mobilenet_v2 or efficientnet-b7\n",
    "#     encoder_weights=\"imagenet\",  # use `imagenet` pre-trained weights for encoder initialization\n",
    "#     in_channels=3,  # model input channels (1 for gray-scale images, 3 for RGB, etc.)\n",
    "#     classes=1,\n",
    "# ).to(device)"
   ]
  },
  {
   "cell_type": "code",
   "execution_count": null,
   "metadata": {},
   "outputs": [],
   "source": [
    "# model = smp.DeepLabV3Plus(\n",
    "#     encoder_name=\"resnet18\",  # choose encoder, e.g. mobilenet_v2 or efficientnet-b7\n",
    "#     encoder_weights=\"imagenet\",  # use `imagenet` pre-trained weights for encoder initialization\n",
    "#     in_channels=3,  # model input channels (1 for gray-scale images, 3 for RGB, etc.)\n",
    "#     classes=1,\n",
    "# ).to(device)"
   ]
  },
  {
   "cell_type": "code",
   "execution_count": null,
   "metadata": {},
   "outputs": [],
   "source": [
    "segmentation_model = SegmentationModel(model)"
   ]
  },
  {
   "cell_type": "code",
   "execution_count": null,
   "metadata": {},
   "outputs": [],
   "source": [
    "model_checkpoint_callback = ModelCheckpoint(\n",
    "    monitor=\"val_loss\", save_top_k=-1, mode=\"min\"\n",
    ")"
   ]
  },
  {
   "cell_type": "code",
   "execution_count": null,
   "metadata": {},
   "outputs": [],
   "source": [
    "logger = CSVLogger(\"lightning_logs\", name=\"inria_segmentation_model\")"
   ]
  },
  {
   "cell_type": "code",
   "execution_count": null,
   "metadata": {},
   "outputs": [],
   "source": [
    "save_callback = SaveRandomImagesCallback(save_dir=SAVE_VAL_DIR)\n",
    "save_test_preds_callback = SaveTestPreds(save_dir=SAVE_TEST_DIR)"
   ]
  },
  {
   "cell_type": "code",
   "execution_count": null,
   "metadata": {},
   "outputs": [],
   "source": [
    "early_stopping_callback = EarlyStopping(monitor=\"val_loss\", mode=\"min\", patience=5)"
   ]
  },
  {
   "cell_type": "code",
   "execution_count": null,
   "metadata": {},
   "outputs": [],
   "source": [
    "trainer = pl.Trainer(\n",
    "    max_epochs=30,\n",
    "    log_every_n_steps=10,\n",
    "    callbacks=[\n",
    "        model_checkpoint_callback,\n",
    "        save_callback,\n",
    "        save_test_preds_callback,\n",
    "        early_stopping_callback,\n",
    "    ],\n",
    "    logger=logger,\n",
    ")\n",
    "\n",
    "# DEBUG\n",
    "# trainer = pl.Trainer(\n",
    "#     max_epochs=1,\n",
    "#     callbacks=[model_checkpoint_callback, save_callback],\n",
    "#     logger=logger,\n",
    "#     accelerator=\"cpu\"\n",
    "#     )"
   ]
  },
  {
   "cell_type": "code",
   "execution_count": null,
   "metadata": {},
   "outputs": [],
   "source": [
    "trainer.fit(\n",
    "    segmentation_model, train_dataloaders=train_loader, val_dataloaders=val_loader\n",
    ")"
   ]
  },
  {
   "cell_type": "code",
   "execution_count": null,
   "metadata": {},
   "outputs": [],
   "source": [
    "trainer.test(ckpt_path=\"best\", dataloaders=test_loader)"
   ]
  },
  {
   "cell_type": "code",
   "execution_count": null,
   "metadata": {},
   "outputs": [],
   "source": []
  }
 ],
 "metadata": {
  "kernelspec": {
   "display_name": "Python 3",
   "language": "python",
   "name": "python3"
  },
  "language_info": {
   "codemirror_mode": {
    "name": "ipython",
    "version": 3
   },
   "file_extension": ".py",
   "mimetype": "text/x-python",
   "name": "python",
   "nbconvert_exporter": "python",
   "pygments_lexer": "ipython3",
   "version": "3.12.3"
  }
 },
 "nbformat": 4,
 "nbformat_minor": 2
}
