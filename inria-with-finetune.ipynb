{
 "cells": [
  {
   "cell_type": "code",
   "execution_count": 1,
   "metadata": {},
   "outputs": [
    {
     "name": "stderr",
     "output_type": "stream",
     "text": [
      "d:\\__repos\\aerial_segmentation\\.venv\\Lib\\site-packages\\tqdm\\auto.py:21: TqdmWarning: IProgress not found. Please update jupyter and ipywidgets. See https://ipywidgets.readthedocs.io/en/stable/user_install.html\n",
      "  from .autonotebook import tqdm as notebook_tqdm\n"
     ]
    }
   ],
   "source": [
    "import numpy as np\n",
    "import matplotlib.pyplot as plt\n",
    "\n",
    "import torch\n",
    "from torch.utils.data import DataLoader\n",
    "import pytorch_lightning as pl\n",
    "from pytorch_lightning.callbacks import ModelCheckpoint\n",
    "from pytorch_lightning.loggers import CSVLogger\n",
    "from torchvision.transforms import Resize, InterpolationMode, ToPILImage\n",
    "from torchmetrics import JaccardIndex, Precision, Recall, F1Score\n",
    "import segmentation_models_pytorch as smp\n",
    "\n",
    "from src.models.BaselineModel import BaselineModel\n",
    "from src.evaluation.evaluate_result import evaluate_result\n",
    "from src.callbacks.SaveRandomImagesCallback import SaveRandomImagesCallback\n",
    "from src.datasets.INRIAAerialImageLabellingDataset import (\n",
    "    INRIAAerialImageLabellingDataset,\n",
    ")\n",
    "\n",
    "from src.datasets.utils.ResizeToDivisibleBy32 import ResizeToDivisibleBy32"
   ]
  },
  {
   "cell_type": "markdown",
   "metadata": {},
   "source": [
    "## Prepare environment"
   ]
  },
  {
   "cell_type": "code",
   "execution_count": 2,
   "metadata": {},
   "outputs": [
    {
     "data": {
      "text/plain": [
       "True"
      ]
     },
     "execution_count": 2,
     "metadata": {},
     "output_type": "execute_result"
    }
   ],
   "source": [
    "torch.cuda.is_available()"
   ]
  },
  {
   "cell_type": "code",
   "execution_count": 3,
   "metadata": {},
   "outputs": [
    {
     "name": "stdout",
     "output_type": "stream",
     "text": [
      "cuda\n"
     ]
    }
   ],
   "source": [
    "device = torch.device(\"cuda\" if torch.cuda.is_available() else \"cpu\")\n",
    "# if you get some cryptic CUDA error, set device to \"cpu\" and try again\n",
    "print(device)"
   ]
  },
  {
   "cell_type": "code",
   "execution_count": 4,
   "metadata": {},
   "outputs": [],
   "source": [
    "VAL_SIZE = 0.2\n",
    "BATCH_SIZE = 4\n",
    "SEED = 42\n",
    "IMAGE_SIZE = 576\n",
    "SAVE_DIR = \"outputs\"\n",
    "INRIA_DATASET_PATH = \"data/INRIAAerialImageLabellingDataset\"  # home PC\n",
    "# INRIA_DATASET_PATH = \"data/TestSubsets/INRIAAerialImageLabellingDataset\"  # laptop"
   ]
  },
  {
   "cell_type": "code",
   "execution_count": 5,
   "metadata": {},
   "outputs": [
    {
     "name": "stdout",
     "output_type": "stream",
     "text": [
      "data/INRIAAerialImageLabellingDataset\\train\n",
      "180\n"
     ]
    }
   ],
   "source": [
    "labeled_dataset = INRIAAerialImageLabellingDataset(\n",
    "    INRIA_DATASET_PATH,\n",
    "    split=\"train\",\n",
    "    transforms=[\n",
    "        # Resize(IMAGE_SIZE),\n",
    "        Resize(IMAGE_SIZE, interpolation=InterpolationMode.NEAREST_EXACT),\n",
    "        # ResizeToDivisibleBy32()\n",
    "    ],\n",
    ")\n",
    "print(len(labeled_dataset))"
   ]
  },
  {
   "cell_type": "code",
   "execution_count": 6,
   "metadata": {},
   "outputs": [
    {
     "name": "stdout",
     "output_type": "stream",
     "text": [
      "data/INRIAAerialImageLabellingDataset\\test\n",
      "144\n"
     ]
    }
   ],
   "source": [
    "test_dataset = INRIAAerialImageLabellingDataset(\n",
    "    INRIA_DATASET_PATH,\n",
    "    split=\"test\",\n",
    "    transforms=[\n",
    "        # Resize(IMAGE_SIZE),\n",
    "        Resize(IMAGE_SIZE, interpolation=InterpolationMode.NEAREST_EXACT),\n",
    "        # ResizeToDivisibleBy32()\n",
    "    ],\n",
    ")\n",
    "print(len(test_dataset))"
   ]
  },
  {
   "cell_type": "markdown",
   "metadata": {},
   "source": [
    "## Sanity check data"
   ]
  },
  {
   "cell_type": "code",
   "execution_count": 7,
   "metadata": {},
   "outputs": [],
   "source": [
    "train_size = int(0.8 * len(labeled_dataset))\n",
    "val_size = len(labeled_dataset) - train_size\n",
    "train_dataset, val_dataset = torch.utils.data.random_split(labeled_dataset, [train_size, val_size])"
   ]
  },
  {
   "cell_type": "code",
   "execution_count": 8,
   "metadata": {},
   "outputs": [],
   "source": [
    "train_loader = DataLoader(train_dataset, batch_size=BATCH_SIZE, shuffle=True, num_workers=4)\n",
    "val_loader = DataLoader(val_dataset, batch_size=BATCH_SIZE, shuffle=False, num_workers=4)\n",
    "test_loader = DataLoader(test_dataset, batch_size=BATCH_SIZE, shuffle=False, num_workers=4)"
   ]
  },
  {
   "cell_type": "code",
   "execution_count": 9,
   "metadata": {},
   "outputs": [
    {
     "name": "stdout",
     "output_type": "stream",
     "text": [
      "torch.Size([4, 3, 576, 576])\n",
      "torch.Size([4, 1, 576, 576])\n"
     ]
    }
   ],
   "source": [
    "for images, masks in train_loader:\n",
    "    print(images.shape)\n",
    "    print(masks.shape)\n",
    "    break"
   ]
  },
  {
   "cell_type": "code",
   "execution_count": 10,
   "metadata": {},
   "outputs": [],
   "source": [
    "to_pil_transform = ToPILImage()"
   ]
  },
  {
   "cell_type": "code",
   "execution_count": 11,
   "metadata": {},
   "outputs": [],
   "source": [
    "if BATCH_SIZE == 1:\n",
    "    img = to_pil_transform(images.squeeze())"
   ]
  },
  {
   "cell_type": "code",
   "execution_count": 12,
   "metadata": {},
   "outputs": [],
   "source": [
    "# img.show()"
   ]
  },
  {
   "cell_type": "code",
   "execution_count": 13,
   "metadata": {},
   "outputs": [],
   "source": [
    "if BATCH_SIZE == 1:\n",
    "    msk = to_pil_transform(masks.squeeze())"
   ]
  },
  {
   "cell_type": "code",
   "execution_count": 14,
   "metadata": {},
   "outputs": [],
   "source": [
    "# msk.show()"
   ]
  },
  {
   "cell_type": "markdown",
   "metadata": {},
   "source": [
    "# Training module"
   ]
  },
  {
   "cell_type": "code",
   "execution_count": 15,
   "metadata": {},
   "outputs": [],
   "source": [
    "class SegmentationModel(pl.LightningModule):\n",
    "    def __init__(self, model, learning_rate=1e-3):\n",
    "        super(SegmentationModel, self).__init__()\n",
    "        self.model = model\n",
    "        self.learning_rate = learning_rate\n",
    "        self.criterion = torch.nn.BCELoss()\n",
    "        # self.criterion = smp.losses.JaccardLoss(mode=\"binary\", from_logits=False)\n",
    "\n",
    "        # Metrics\n",
    "        self.train_iou = JaccardIndex(num_classes=2, task=\"binary\")\n",
    "        self.val_iou = JaccardIndex(num_classes=2, task=\"binary\")\n",
    "        self.train_precision = Precision(num_classes=2, task=\"binary\")\n",
    "        self.val_precision = Precision(num_classes=2, task=\"binary\")\n",
    "        self.train_recall = Recall(num_classes=2, task=\"binary\")\n",
    "        self.val_recall = Recall(num_classes=2, task=\"binary\")\n",
    "        self.train_f1 = F1Score(num_classes=2, task=\"binary\")\n",
    "        self.val_f1 = F1Score(num_classes=2, task=\"binary\")\n",
    "\n",
    "    def forward(self, x):\n",
    "        x = self.model(x.to(device))\n",
    "        output = (x > 0.5).float()\n",
    "        return output\n",
    "\n",
    "    def training_step(self, batch, batch_idx):\n",
    "        images, masks = batch\n",
    "        masks = torch.div(masks, 255).float()\n",
    "        preds = self(images)\n",
    "        loss = self.criterion(preds, masks)\n",
    "        loss.requires_grad = True\n",
    "        \n",
    "        self.log('train_loss', loss, on_epoch=True)\n",
    "        self.log('train_iou', self.train_iou(preds, masks), on_epoch=True)\n",
    "        self.log('train_precision', self.train_precision(preds, masks), on_epoch=True)\n",
    "        self.log('train_recall', self.train_recall(preds, masks), on_epoch=True)\n",
    "        self.log('train_f1', self.train_f1(preds, masks), on_epoch=True)\n",
    "        \n",
    "        return loss\n",
    "\n",
    "    def validation_step(self, batch, batch_idx):\n",
    "        images, masks = batch\n",
    "        masks = torch.div(masks, 255).float()\n",
    "        preds = self(images)\n",
    "        loss = self.criterion(preds, masks)\n",
    "        loss.requires_grad = True\n",
    "        \n",
    "        self.log('val_loss', loss, on_epoch=True)\n",
    "        self.log('val_iou', self.val_iou(preds, masks), on_epoch=True)\n",
    "        self.log('val_precision', self.val_precision(preds, masks), on_epoch=True)\n",
    "        self.log('val_recall', self.val_recall(preds, masks), on_epoch=True)\n",
    "        self.log('val_f1', self.val_f1(preds, masks), on_epoch=True)\n",
    "        \n",
    "        return loss\n",
    "    \n",
    "    def test_step(self, batch, batch_idx):\n",
    "        images = batch\n",
    "        preds = self(images)\n",
    "        for i, pred in enumerate(preds):\n",
    "            pred_img = to_pil_transform(pred.squeeze())\n",
    "            pred_img.save(f\"pred_{i}.png\")\n",
    "        \n",
    "\n",
    "    def configure_optimizers(self):\n",
    "        optimizer = torch.optim.Adam(self.parameters(), lr=self.learning_rate)\n",
    "        return optimizer"
   ]
  },
  {
   "cell_type": "code",
   "execution_count": 16,
   "metadata": {},
   "outputs": [],
   "source": [
    "model = smp.Unet(\n",
    "    encoder_name=\"resnet18\",  # choose encoder, e.g. mobilenet_v2 or efficientnet-b7\n",
    "    encoder_weights=\"imagenet\",  # use `imagenet` pre-trained weights for encoder initialization\n",
    "    in_channels=3,  # model input channels (1 for gray-scale images, 3 for RGB, etc.)\n",
    "    classes=1,  # model output channels (number of classes in your dataset)\n",
    "# ).to(device)\n",
    ")"
   ]
  },
  {
   "cell_type": "code",
   "execution_count": 17,
   "metadata": {},
   "outputs": [],
   "source": [
    "# model = smp.UnetPlusPlus(\n",
    "#     encoder_name=\"resnet18\",  # choose encoder, e.g. mobilenet_v2 or efficientnet-b7\n",
    "#     encoder_weights=\"imagenet\",  # use `imagenet` pre-trained weights for encoder initialization\n",
    "#     in_channels=3,  # model input channels (1 for gray-scale images, 3 for RGB, etc.)\n",
    "#     classes=1,  # model output channels (number of classes in your dataset)\n",
    "# ).to(device)"
   ]
  },
  {
   "cell_type": "code",
   "execution_count": 18,
   "metadata": {},
   "outputs": [],
   "source": [
    "# model = smp.DeepLabV3(\n",
    "#     encoder_name=\"resnet18\",  # choose encoder, e.g. mobilenet_v2 or efficientnet-b7\n",
    "#     encoder_weights=\"imagenet\",  # use `imagenet` pre-trained weights for encoder initialization\n",
    "#     in_channels=3,  # model input channels (1 for gray-scale images, 3 for RGB, etc.)\n",
    "#     classes=1,\n",
    "# ).to(device)"
   ]
  },
  {
   "cell_type": "code",
   "execution_count": 19,
   "metadata": {},
   "outputs": [],
   "source": [
    "# model = smp.DeepLabV3Plus(\n",
    "#     encoder_name=\"resnet18\",  # choose encoder, e.g. mobilenet_v2 or efficientnet-b7\n",
    "#     encoder_weights=\"imagenet\",  # use `imagenet` pre-trained weights for encoder initialization\n",
    "#     in_channels=3,  # model input channels (1 for gray-scale images, 3 for RGB, etc.)\n",
    "#     classes=1,\n",
    "# ).to(device)"
   ]
  },
  {
   "cell_type": "code",
   "execution_count": 20,
   "metadata": {},
   "outputs": [],
   "source": [
    "segmentation_model = SegmentationModel(model)"
   ]
  },
  {
   "cell_type": "code",
   "execution_count": 21,
   "metadata": {},
   "outputs": [],
   "source": [
    "model_checkpoint_callback = ModelCheckpoint(\n",
    "    monitor='val_loss', save_top_k=-1, mode='min'\n",
    "    )"
   ]
  },
  {
   "cell_type": "code",
   "execution_count": 22,
   "metadata": {},
   "outputs": [],
   "source": [
    "logger = CSVLogger(\"lightning_logs\", name=\"inria_segmentation_model\")"
   ]
  },
  {
   "cell_type": "code",
   "execution_count": 23,
   "metadata": {},
   "outputs": [],
   "source": [
    "save_callback = SaveRandomImagesCallback(save_dir=SAVE_DIR)"
   ]
  },
  {
   "cell_type": "code",
   "execution_count": 24,
   "metadata": {},
   "outputs": [
    {
     "name": "stderr",
     "output_type": "stream",
     "text": [
      "GPU available: True (cuda), used: True\n",
      "TPU available: False, using: 0 TPU cores\n",
      "IPU available: False, using: 0 IPUs\n",
      "HPU available: False, using: 0 HPUs\n"
     ]
    }
   ],
   "source": [
    "trainer = pl.Trainer(\n",
    "    max_epochs=10, \n",
    "    callbacks=[model_checkpoint_callback, save_callback], \n",
    "    logger=logger\n",
    "    )\n",
    "\n",
    "# DEBUG\n",
    "# trainer = pl.Trainer(\n",
    "#     max_epochs=1, \n",
    "#     callbacks=[model_checkpoint_callback, save_callback], \n",
    "#     logger=logger, \n",
    "#     accelerator=\"cpu\"\n",
    "#     )"
   ]
  },
  {
   "cell_type": "code",
   "execution_count": 25,
   "metadata": {},
   "outputs": [
    {
     "name": "stderr",
     "output_type": "stream",
     "text": [
      "You are using a CUDA device ('NVIDIA GeForce RTX 3060') that has Tensor Cores. To properly utilize them, you should set `torch.set_float32_matmul_precision('medium' | 'high')` which will trade-off precision for performance. For more details, read https://pytorch.org/docs/stable/generated/torch.set_float32_matmul_precision.html#torch.set_float32_matmul_precision\n",
      "LOCAL_RANK: 0 - CUDA_VISIBLE_DEVICES: [0]\n",
      "\n",
      "  | Name            | Type               | Params\n",
      "-------------------------------------------------------\n",
      "0 | model           | Unet               | 14.3 M\n",
      "1 | criterion       | BCELoss            | 0     \n",
      "2 | train_iou       | BinaryJaccardIndex | 0     \n",
      "3 | val_iou         | BinaryJaccardIndex | 0     \n",
      "4 | train_precision | BinaryPrecision    | 0     \n",
      "5 | val_precision   | BinaryPrecision    | 0     \n",
      "6 | train_recall    | BinaryRecall       | 0     \n",
      "7 | val_recall      | BinaryRecall       | 0     \n",
      "8 | train_f1        | BinaryF1Score      | 0     \n",
      "9 | val_f1          | BinaryF1Score      | 0     \n",
      "-------------------------------------------------------\n",
      "14.3 M    Trainable params\n",
      "0         Non-trainable params\n",
      "14.3 M    Total params\n",
      "57.313    Total estimated model params size (MB)\n"
     ]
    },
    {
     "name": "stdout",
     "output_type": "stream",
     "text": [
      "Sanity Checking: |          | 0/? [00:00<?, ?it/s]"
     ]
    },
    {
     "name": "stderr",
     "output_type": "stream",
     "text": [
      "d:\\__repos\\aerial_segmentation\\.venv\\Lib\\site-packages\\pytorch_lightning\\trainer\\connectors\\data_connector.py:436: Consider setting `persistent_workers=True` in 'val_dataloader' to speed up the dataloader worker initialization.\n"
     ]
    },
    {
     "name": "stdout",
     "output_type": "stream",
     "text": [
      "                                                                           "
     ]
    },
    {
     "name": "stderr",
     "output_type": "stream",
     "text": [
      "d:\\__repos\\aerial_segmentation\\.venv\\Lib\\site-packages\\pytorch_lightning\\trainer\\connectors\\data_connector.py:436: Consider setting `persistent_workers=True` in 'train_dataloader' to speed up the dataloader worker initialization.\n",
      "d:\\__repos\\aerial_segmentation\\.venv\\Lib\\site-packages\\pytorch_lightning\\loops\\fit_loop.py:298: The number of training batches (36) is smaller than the logging interval Trainer(log_every_n_steps=50). Set a lower value for log_every_n_steps if you want to see logs for the training epoch.\n"
     ]
    },
    {
     "name": "stdout",
     "output_type": "stream",
     "text": [
      "Epoch 0: 100%|██████████| 36/36 [01:29<00:00,  0.40it/s, v_num=20]"
     ]
    },
    {
     "name": "stderr",
     "output_type": "stream",
     "text": [
      "`Trainer.fit` stopped: `max_epochs=1` reached.\n"
     ]
    },
    {
     "name": "stdout",
     "output_type": "stream",
     "text": [
      "Epoch 0: 100%|██████████| 36/36 [01:29<00:00,  0.40it/s, v_num=20]\n"
     ]
    }
   ],
   "source": [
    "trainer.fit(segmentation_model, train_dataloaders=train_loader, val_dataloaders=val_loader)\n",
    " "
   ]
  },
  {
   "cell_type": "code",
   "execution_count": 26,
   "metadata": {},
   "outputs": [
    {
     "name": "stderr",
     "output_type": "stream",
     "text": [
      "Restoring states from the checkpoint path at lightning_logs\\inria_segmentation_model\\version_20\\checkpoints\\epoch=0-step=36.ckpt\n",
      "LOCAL_RANK: 0 - CUDA_VISIBLE_DEVICES: [0]\n",
      "Loaded model weights from the checkpoint at lightning_logs\\inria_segmentation_model\\version_20\\checkpoints\\epoch=0-step=36.ckpt\n",
      "d:\\__repos\\aerial_segmentation\\.venv\\Lib\\site-packages\\pytorch_lightning\\trainer\\connectors\\data_connector.py:436: Consider setting `persistent_workers=True` in 'test_dataloader' to speed up the dataloader worker initialization.\n"
     ]
    },
    {
     "name": "stdout",
     "output_type": "stream",
     "text": [
      "Testing DataLoader 0: 100%|██████████| 36/36 [00:47<00:00,  0.75it/s]\n"
     ]
    },
    {
     "data": {
      "text/plain": [
       "[{}]"
      ]
     },
     "execution_count": 26,
     "metadata": {},
     "output_type": "execute_result"
    }
   ],
   "source": [
    "trainer.test(ckpt_path=\"best\", dataloaders=test_loader)"
   ]
  }
 ],
 "metadata": {
  "kernelspec": {
   "display_name": "Python 3",
   "language": "python",
   "name": "python3"
  },
  "language_info": {
   "codemirror_mode": {
    "name": "ipython",
    "version": 3
   },
   "file_extension": ".py",
   "mimetype": "text/x-python",
   "name": "python",
   "nbconvert_exporter": "python",
   "pygments_lexer": "ipython3",
   "version": "3.12.3"
  }
 },
 "nbformat": 4,
 "nbformat_minor": 2
}
