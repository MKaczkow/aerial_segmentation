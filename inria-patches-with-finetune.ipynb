{
 "cells": [
  {
   "cell_type": "code",
   "execution_count": 1,
   "metadata": {},
   "outputs": [
    {
     "name": "stderr",
     "output_type": "stream",
     "text": [
      "d:\\__repos\\aerial_segmentation\\.venv\\Lib\\site-packages\\tqdm\\auto.py:21: TqdmWarning: IProgress not found. Please update jupyter and ipywidgets. See https://ipywidgets.readthedocs.io/en/stable/user_install.html\n",
      "  from .autonotebook import tqdm as notebook_tqdm\n"
     ]
    }
   ],
   "source": [
    "import numpy as np\n",
    "import matplotlib.pyplot as plt\n",
    "from pathlib import Path\n",
    "\n",
    "import torch\n",
    "from torch.utils.data import DataLoader\n",
    "import pytorch_lightning as pl\n",
    "from pytorch_lightning.callbacks import ModelCheckpoint, RichProgressBar\n",
    "from pytorch_lightning.callbacks.early_stopping import EarlyStopping\n",
    "from pytorch_lightning.loggers import CSVLogger, TensorBoardLogger\n",
    "from torchvision.transforms import Resize, InterpolationMode, ToPILImage\n",
    "from torchmetrics import JaccardIndex, Precision, Recall, F1Score\n",
    "import segmentation_models_pytorch as smp\n",
    "\n",
    "from src.evaluation.evaluate_result import evaluate_result\n",
    "from src.callbacks.SaveRandomImagesCallback import SaveRandomImagesCallback\n",
    "from src.callbacks.SaveTestPreds import SaveTestPreds\n",
    "from src.datasets.INRIAAerialImageLabellingDatasetPatches import (\n",
    "    INRIAAerialImageLabellingDatasetPatches,\n",
    ")\n",
    "from src.utils import view_and_save_images_shapes\n",
    "from src.datasets.utils.ResizeToDivisibleBy32 import ResizeToDivisibleBy32"
   ]
  },
  {
   "cell_type": "markdown",
   "metadata": {},
   "source": [
    "## Prepare environment"
   ]
  },
  {
   "cell_type": "code",
   "execution_count": 2,
   "metadata": {},
   "outputs": [
    {
     "data": {
      "text/plain": [
       "True"
      ]
     },
     "execution_count": 2,
     "metadata": {},
     "output_type": "execute_result"
    }
   ],
   "source": [
    "torch.cuda.is_available()"
   ]
  },
  {
   "cell_type": "code",
   "execution_count": 3,
   "metadata": {},
   "outputs": [
    {
     "name": "stdout",
     "output_type": "stream",
     "text": [
      "cuda\n"
     ]
    }
   ],
   "source": [
    "device = torch.device(\"cuda\" if torch.cuda.is_available() else \"cpu\")\n",
    "# if you get some cryptic CUDA error, set device to \"cpu\" and try again\n",
    "print(device)"
   ]
  },
  {
   "cell_type": "code",
   "execution_count": 4,
   "metadata": {},
   "outputs": [],
   "source": [
    "VAL_SIZE = 0.2\n",
    "BATCH_SIZE = 16\n",
    "SEED = 42\n",
    "IMAGE_SIZE = 576\n",
    "SAVE_VAL_DIR = \"outputs/INRIA-patches/val\"\n",
    "SAVE_TEST_DIR = \"outputs/INRIA-patches/test\"\n",
    "INRIA_PATCHES_DATASET_PATH = \"data/INRIAAerialImageLabellingDatasetPatches\"  # home PC"
   ]
  },
  {
   "cell_type": "code",
   "execution_count": 5,
   "metadata": {},
   "outputs": [
    {
     "name": "stdout",
     "output_type": "stream",
     "text": [
      "18000\n"
     ]
    }
   ],
   "source": [
    "labeled_dataset = INRIAAerialImageLabellingDatasetPatches(\n",
    "    INRIA_PATCHES_DATASET_PATH,\n",
    "    split=\"train\",\n",
    "    transforms=[ResizeToDivisibleBy32()],\n",
    ")\n",
    "print(len(labeled_dataset))"
   ]
  },
  {
   "cell_type": "code",
   "execution_count": 6,
   "metadata": {},
   "outputs": [
    {
     "name": "stdout",
     "output_type": "stream",
     "text": [
      "14400\n"
     ]
    }
   ],
   "source": [
    "test_dataset = INRIAAerialImageLabellingDatasetPatches(\n",
    "    INRIA_PATCHES_DATASET_PATH,\n",
    "    split=\"test\",\n",
    "    transforms=[ResizeToDivisibleBy32()],\n",
    ")\n",
    "print(len(test_dataset))"
   ]
  },
  {
   "cell_type": "markdown",
   "metadata": {},
   "source": [
    "## Prepare data"
   ]
  },
  {
   "cell_type": "code",
   "execution_count": 7,
   "metadata": {},
   "outputs": [
    {
     "name": "stdout",
     "output_type": "stream",
     "text": [
      "18000\n"
     ]
    }
   ],
   "source": [
    "sanity_check_dataset = INRIAAerialImageLabellingDatasetPatches(\n",
    "    INRIA_PATCHES_DATASET_PATH,\n",
    "    split=\"train\",\n",
    "    transforms=[ResizeToDivisibleBy32()],\n",
    ")\n",
    "print(len(sanity_check_dataset))"
   ]
  },
  {
   "cell_type": "code",
   "execution_count": 8,
   "metadata": {},
   "outputs": [],
   "source": [
    "sanity_check_dataloader = DataLoader(\n",
    "    sanity_check_dataset, batch_size=BATCH_SIZE, shuffle=True\n",
    ")"
   ]
  },
  {
   "cell_type": "code",
   "execution_count": 9,
   "metadata": {},
   "outputs": [
    {
     "name": "stdout",
     "output_type": "stream",
     "text": [
      "images\n",
      "torch.Size([16, 3, 512, 512])\n",
      "{0.0: 7805, 0.003921569: 20313, 0.007843138: 13147, 0.011764706: 5582, 0.015686275: 4850, 0.019607844: 4705, 0.023529412: 4551, 0.02745098: 4603, 0.03137255: 4635, 0.03529412: 5265, 0.039215688: 5801, 0.043137256: 7249, 0.047058824: 8151, 0.050980393: 9106, 0.05490196: 9675, 0.05882353: 10280, 0.0627451: 11696, 0.06666667: 13541, 0.07058824: 16463, 0.07450981: 20899, 0.078431375: 23438, 0.08235294: 24084, 0.08627451: 23864, 0.09019608: 23735, 0.09411765: 23242, 0.09803922: 22960, 0.101960786: 22333, 0.105882354: 22393, 0.10980392: 22987, 0.11372549: 23853, 0.11764706: 25911, 0.12156863: 29845, 0.1254902: 37503, 0.12941177: 50847, 0.13333334: 63833, 0.13725491: 59599, 0.14117648: 57054, 0.14509805: 54288, 0.14901961: 59276, 0.15294118: 61034, 0.15686275: 67825, 0.16078432: 73970, 0.16470589: 74629, 0.16862746: 85915, 0.17254902: 87636, 0.1764706: 94596, 0.18039216: 97159, 0.18431373: 105657, 0.1882353: 112279, 0.19215687: 106332, 0.19607843: 100643, 0.2: 92319, 0.20392157: 95804, 0.20784314: 92659, 0.21176471: 91936, 0.21568628: 93011, 0.21960784: 97730, 0.22352941: 96414, 0.22745098: 98151, 0.23137255: 97006, 0.23529412: 97159, 0.23921569: 93378, 0.24313726: 93716, 0.24705882: 91015, 0.2509804: 91569, 0.25490198: 91328, 0.25882354: 90419, 0.2627451: 91959, 0.26666668: 89620, 0.27058825: 90283, 0.27450982: 88835, 0.2784314: 88418, 0.28235295: 88772, 0.28627452: 88779, 0.2901961: 89143, 0.29411766: 88808, 0.29803923: 88527, 0.3019608: 90130, 0.30588236: 90284, 0.30980393: 91277, 0.3137255: 92394, 0.31764707: 93057, 0.32156864: 92892, 0.3254902: 93078, 0.32941177: 92672, 0.33333334: 92797, 0.3372549: 92109, 0.34117648: 91348, 0.34509805: 91076, 0.34901962: 89876, 0.3529412: 87008, 0.35686275: 86066, 0.36078432: 83863, 0.3647059: 82302, 0.36862746: 80998, 0.37254903: 79676, 0.3764706: 78811, 0.38039216: 77654, 0.38431373: 77157, 0.3882353: 77240, 0.39215687: 75980, 0.39607844: 74849, 0.4: 74624, 0.40392157: 74720, 0.40784314: 73608, 0.4117647: 73608, 0.41568628: 73232, 0.41960785: 74059, 0.42352942: 74608, 0.42745098: 74968, 0.43137255: 76588, 0.43529412: 77220, 0.4392157: 78071, 0.44313726: 78645, 0.44705883: 79820, 0.4509804: 80953, 0.45490196: 81833, 0.45882353: 82394, 0.4627451: 83533, 0.46666667: 83844, 0.47058824: 82145, 0.4745098: 81266, 0.47843137: 78231, 0.48235294: 76159, 0.4862745: 74309, 0.49019608: 72536, 0.49411765: 69933, 0.49803922: 68314, 0.5019608: 67814, 0.5058824: 67325, 0.50980395: 66208, 0.5137255: 64988, 0.5176471: 65039, 0.52156866: 65208, 0.5254902: 64521, 0.5294118: 64643, 0.53333336: 65489, 0.5372549: 65956, 0.5411765: 65936, 0.54509807: 67554, 0.54901963: 69281, 0.5529412: 69258, 0.5568628: 70069, 0.56078434: 71991, 0.5647059: 71904, 0.5686275: 72558, 0.57254905: 70868, 0.5764706: 69630, 0.5803922: 67149, 0.58431375: 64681, 0.5882353: 62926, 0.5921569: 60978, 0.59607846: 60382, 0.6: 58648, 0.6039216: 58133, 0.60784316: 57586, 0.6117647: 57278, 0.6156863: 57086, 0.61960787: 56593, 0.62352943: 55304, 0.627451: 53708, 0.6313726: 53107, 0.63529414: 52040, 0.6392157: 50325, 0.6431373: 49895, 0.64705884: 49409, 0.6509804: 48151, 0.654902: 46607, 0.65882355: 45364, 0.6627451: 44109, 0.6666667: 42847, 0.67058825: 40671, 0.6745098: 38853, 0.6784314: 37828, 0.68235296: 36473, 0.6862745: 35218, 0.6901961: 33765, 0.69411767: 32654, 0.69803923: 32034, 0.7019608: 31199, 0.7058824: 30767, 0.70980394: 29524, 0.7137255: 29947, 0.7176471: 29160, 0.72156864: 28190, 0.7254902: 27148, 0.7294118: 26742, 0.73333335: 26821, 0.7372549: 26097, 0.7411765: 26755, 0.74509805: 26507, 0.7490196: 26478, 0.7529412: 26797, 0.75686276: 27150, 0.7607843: 26737, 0.7647059: 26711, 0.76862746: 26879, 0.77254903: 27190, 0.7764706: 26966, 0.78039217: 25969, 0.78431374: 25693, 0.7882353: 25564, 0.7921569: 25272, 0.79607844: 24180, 0.8: 22632, 0.8039216: 21315, 0.80784315: 19913, 0.8117647: 18704, 0.8156863: 17618, 0.81960785: 16434, 0.8235294: 16268, 0.827451: 14971, 0.83137256: 13798, 0.8352941: 12843, 0.8392157: 11940, 0.84313726: 11776, 0.84705883: 11909, 0.8509804: 12071, 0.85490197: 11712, 0.85882354: 11689, 0.8627451: 11431, 0.8666667: 10973, 0.87058824: 9990, 0.8745098: 8816, 0.8784314: 8266, 0.88235295: 8001, 0.8862745: 7666, 0.8901961: 7811, 0.89411765: 7588, 0.8980392: 7716, 0.9019608: 7637, 0.90588236: 7147, 0.9098039: 7015, 0.9137255: 7599, 0.91764706: 8295, 0.92156863: 8451, 0.9254902: 8360, 0.92941177: 9186, 0.93333334: 8834, 0.9372549: 7206, 0.9411765: 5828, 0.94509804: 5778, 0.9490196: 5333, 0.9529412: 5469, 0.95686275: 5452, 0.9607843: 4566, 0.9647059: 5337, 0.96862745: 4571, 0.972549: 5363, 0.9764706: 4397, 0.98039216: 5215, 0.9843137: 5432, 0.9882353: 4725, 0.99215686: 5265, 0.99607843: 9968, 1.0: 32537}\n",
      "\n",
      "masks\n",
      "torch.Size([16, 1, 512, 512])\n",
      "{0: 3481033, 255: 713271}\n"
     ]
    }
   ],
   "source": [
    "for images, masks in sanity_check_dataloader:\n",
    "    print(\"images\")\n",
    "    print(images.shape)\n",
    "    unique, counts = np.unique(images, return_counts=True)\n",
    "    print(dict(zip(unique, counts)))\n",
    "    print()\n",
    "    print(\"masks\")\n",
    "    print(masks.shape)\n",
    "    unique, counts = np.unique(masks, return_counts=True)\n",
    "    print(dict(zip(unique, counts)))\n",
    "    break"
   ]
  },
  {
   "cell_type": "code",
   "execution_count": 10,
   "metadata": {},
   "outputs": [],
   "source": [
    "# view_and_save_images_shapes(\n",
    "#     sanity_check_dataloader, \"inria_patches_images_shapes\", verbose=True\n",
    "# )"
   ]
  },
  {
   "cell_type": "markdown",
   "metadata": {},
   "source": [
    "### Train, validation and test data"
   ]
  },
  {
   "cell_type": "code",
   "execution_count": 11,
   "metadata": {},
   "outputs": [
    {
     "name": "stdout",
     "output_type": "stream",
     "text": [
      "14400 3600 14400\n"
     ]
    }
   ],
   "source": [
    "train_size = int(0.8 * len(labeled_dataset))\n",
    "val_size = len(labeled_dataset) - train_size\n",
    "train_dataset, val_dataset = torch.utils.data.random_split(\n",
    "    labeled_dataset, [train_size, val_size]\n",
    ")\n",
    "print(len(train_dataset), len(val_dataset), len(test_dataset))"
   ]
  },
  {
   "cell_type": "code",
   "execution_count": 12,
   "metadata": {},
   "outputs": [],
   "source": [
    "train_loader = DataLoader(\n",
    "    train_dataset,\n",
    "    batch_size=BATCH_SIZE,\n",
    "    shuffle=True,\n",
    "    num_workers=4,\n",
    "    persistent_workers=True,\n",
    ")\n",
    "val_loader = DataLoader(\n",
    "    val_dataset,\n",
    "    batch_size=BATCH_SIZE,\n",
    "    shuffle=False,\n",
    "    num_workers=4,\n",
    "    persistent_workers=True,\n",
    ")\n",
    "test_loader = DataLoader(\n",
    "    test_dataset,\n",
    "    batch_size=BATCH_SIZE,\n",
    "    shuffle=False,\n",
    "    num_workers=4,\n",
    "    persistent_workers=True,\n",
    ")"
   ]
  },
  {
   "cell_type": "code",
   "execution_count": 13,
   "metadata": {},
   "outputs": [
    {
     "name": "stdout",
     "output_type": "stream",
     "text": [
      "torch.Size([16, 3, 512, 512])\n",
      "torch.Size([16, 1, 512, 512])\n"
     ]
    }
   ],
   "source": [
    "for images, masks in train_loader:\n",
    "    print(images.shape)\n",
    "    print(masks.shape)\n",
    "    break"
   ]
  },
  {
   "cell_type": "code",
   "execution_count": 14,
   "metadata": {},
   "outputs": [],
   "source": [
    "to_pil_transform = ToPILImage()"
   ]
  },
  {
   "cell_type": "code",
   "execution_count": 15,
   "metadata": {},
   "outputs": [],
   "source": [
    "if BATCH_SIZE == 1:\n",
    "    img = to_pil_transform(images.squeeze())"
   ]
  },
  {
   "cell_type": "code",
   "execution_count": 16,
   "metadata": {},
   "outputs": [],
   "source": [
    "# img.show()"
   ]
  },
  {
   "cell_type": "code",
   "execution_count": 17,
   "metadata": {},
   "outputs": [],
   "source": [
    "if BATCH_SIZE == 1:\n",
    "    msk = to_pil_transform(masks.squeeze()).convert(\"L\")"
   ]
  },
  {
   "cell_type": "code",
   "execution_count": 18,
   "metadata": {},
   "outputs": [],
   "source": [
    "# msk.show()"
   ]
  },
  {
   "cell_type": "markdown",
   "metadata": {},
   "source": [
    "# Training module"
   ]
  },
  {
   "cell_type": "code",
   "execution_count": 19,
   "metadata": {},
   "outputs": [],
   "source": [
    "class SegmentationModel(pl.LightningModule):\n",
    "    def __init__(self, model, learning_rate=1e-3):\n",
    "        super(SegmentationModel, self).__init__()\n",
    "\n",
    "        self.model = model\n",
    "        self.learning_rate = learning_rate\n",
    "\n",
    "        self.criterion = smp.losses.SoftBCEWithLogitsLoss()\n",
    "        # self.criterion = smp.losses.DiceLoss()\n",
    "        self.train_iou = JaccardIndex(num_classes=2, task=\"binary\")\n",
    "        self.val_iou = JaccardIndex(num_classes=2, task=\"binary\")\n",
    "\n",
    "    def forward(self, x):\n",
    "        output = self.model(x.to(device))\n",
    "        return output\n",
    "\n",
    "    def training_step(self, batch, batch_idx):\n",
    "        images, masks = batch\n",
    "        masks = torch.div(masks, 255).float()\n",
    "        preds = self(images)\n",
    "        loss = self.criterion(preds, masks)\n",
    "\n",
    "        self.log(\"train_loss\", loss, on_epoch=True, on_step=True)\n",
    "        self.log(\"train_iou\", self.train_iou(preds, masks), on_epoch=True, on_step=True)\n",
    "\n",
    "        return loss\n",
    "\n",
    "    def validation_step(self, batch, batch_idx):\n",
    "        images, masks = batch\n",
    "        masks = torch.div(masks, 255).float()\n",
    "        preds = self(images)\n",
    "        loss = self.criterion(preds, masks)\n",
    "\n",
    "        self.log(\"val_loss\", loss, on_epoch=True, on_step=True)\n",
    "        self.log(\"val_iou\", self.val_iou(preds, masks), on_epoch=True, on_step=True)\n",
    "\n",
    "        return loss\n",
    "\n",
    "    def test_step(self, batch, batch_idx):\n",
    "        # just here to activate the test_epoch_end\n",
    "        # callback SaveTestPreds starts on_test_epoch_end\n",
    "        pass\n",
    "\n",
    "    def configure_optimizers(self):\n",
    "        optimizer = torch.optim.Adam(self.parameters(), lr=self.learning_rate)\n",
    "        return optimizer"
   ]
  },
  {
   "cell_type": "code",
   "execution_count": 20,
   "metadata": {},
   "outputs": [],
   "source": [
    "model = smp.Unet(\n",
    "    encoder_name=\"resnet18\",  # choose encoder, e.g. mobilenet_v2 or efficientnet-b7\n",
    "    encoder_weights=\"imagenet\",  # use `imagenet` pre-trained weights for encoder initialization\n",
    "    in_channels=3,  # model input channels (1 for gray-scale images, 3 for RGB, etc.)\n",
    "    classes=1,  # model output channels (number of classes in your dataset)\n",
    "    activation=\"sigmoid\",\n",
    ").to(device)"
   ]
  },
  {
   "cell_type": "code",
   "execution_count": 21,
   "metadata": {},
   "outputs": [],
   "source": [
    "# model = smp.UnetPlusPlus(\n",
    "#     encoder_name=\"resnet18\",  # choose encoder, e.g. mobilenet_v2 or efficientnet-b7\n",
    "#     encoder_weights=\"imagenet\",  # use `imagenet` pre-trained weights for encoder initialization\n",
    "#     in_channels=3,  # model input channels (1 for gray-scale images, 3 for RGB, etc.)\n",
    "#     classes=1,  # model output channels (number of classes in your dataset)\n",
    "# ).to(device)"
   ]
  },
  {
   "cell_type": "code",
   "execution_count": 22,
   "metadata": {},
   "outputs": [],
   "source": [
    "# model = smp.DeepLabV3(\n",
    "#     encoder_name=\"resnet18\",  # choose encoder, e.g. mobilenet_v2 or efficientnet-b7\n",
    "#     encoder_weights=\"imagenet\",  # use `imagenet` pre-trained weights for encoder initialization\n",
    "#     in_channels=3,  # model input channels (1 for gray-scale images, 3 for RGB, etc.)\n",
    "#     classes=1,\n",
    "#     activation=\"sigmoid\"\n",
    "# ).to(device)"
   ]
  },
  {
   "cell_type": "code",
   "execution_count": 23,
   "metadata": {},
   "outputs": [],
   "source": [
    "# model = smp.DeepLabV3Plus(\n",
    "#     encoder_name=\"resnet18\",  # choose encoder, e.g. mobilenet_v2 or efficientnet-b7\n",
    "#     encoder_weights=\"imagenet\",  # use `imagenet` pre-trained weights for encoder initialization\n",
    "#     in_channels=3,  # model input channels (1 for gray-scale images, 3 for RGB, etc.)\n",
    "#     classes=1,\n",
    "# ).to(device)"
   ]
  },
  {
   "cell_type": "code",
   "execution_count": 24,
   "metadata": {},
   "outputs": [],
   "source": [
    "segmentation_model = SegmentationModel(model)"
   ]
  },
  {
   "cell_type": "code",
   "execution_count": 25,
   "metadata": {},
   "outputs": [],
   "source": [
    "model_checkpoint_callback = ModelCheckpoint(\n",
    "    monitor=\"val_loss\", save_top_k=-1, mode=\"min\"\n",
    ")"
   ]
  },
  {
   "cell_type": "code",
   "execution_count": 26,
   "metadata": {},
   "outputs": [],
   "source": [
    "logger = CSVLogger(\"lightning_logs\", name=\"inria_patches_segmentation_model\")"
   ]
  },
  {
   "cell_type": "code",
   "execution_count": 27,
   "metadata": {},
   "outputs": [],
   "source": [
    "save_callback = SaveRandomImagesCallback(save_dir=SAVE_VAL_DIR)\n",
    "save_test_preds_callback = SaveTestPreds(save_dir=SAVE_TEST_DIR)\n",
    "early_stopping_callback = EarlyStopping(monitor=\"val_loss\", mode=\"min\", patience=5)"
   ]
  },
  {
   "cell_type": "code",
   "execution_count": 28,
   "metadata": {},
   "outputs": [
    {
     "name": "stderr",
     "output_type": "stream",
     "text": [
      "GPU available: True (cuda), used: True\n",
      "TPU available: False, using: 0 TPU cores\n",
      "IPU available: False, using: 0 IPUs\n",
      "HPU available: False, using: 0 HPUs\n"
     ]
    }
   ],
   "source": [
    "trainer = pl.Trainer(\n",
    "    max_epochs=50,\n",
    "    log_every_n_steps=10,\n",
    "    callbacks=[\n",
    "        model_checkpoint_callback,\n",
    "        save_callback,\n",
    "        save_test_preds_callback,\n",
    "        early_stopping_callback\n",
    "    ],\n",
    "    logger=logger,\n",
    ")\n",
    "\n",
    "# DEBUG\n",
    "# trainer = pl.Trainer(\n",
    "#     max_epochs=1,\n",
    "#     callbacks=[model_checkpoint_callback, save_callback],\n",
    "#     logger=logger,\n",
    "#     accelerator=\"cpu\"\n",
    "#     )"
   ]
  },
  {
   "cell_type": "code",
   "execution_count": 29,
   "metadata": {},
   "outputs": [
    {
     "name": "stderr",
     "output_type": "stream",
     "text": [
      "You are using a CUDA device ('NVIDIA GeForce RTX 3060') that has Tensor Cores. To properly utilize them, you should set `torch.set_float32_matmul_precision('medium' | 'high')` which will trade-off precision for performance. For more details, read https://pytorch.org/docs/stable/generated/torch.set_float32_matmul_precision.html#torch.set_float32_matmul_precision\n",
      "LOCAL_RANK: 0 - CUDA_VISIBLE_DEVICES: [0]\n",
      "\n",
      "  | Name      | Type                  | Params\n",
      "----------------------------------------------------\n",
      "0 | model     | Unet                  | 14.3 M\n",
      "1 | criterion | SoftBCEWithLogitsLoss | 0     \n",
      "2 | train_iou | BinaryJaccardIndex    | 0     \n",
      "3 | val_iou   | BinaryJaccardIndex    | 0     \n",
      "----------------------------------------------------\n",
      "14.3 M    Trainable params\n",
      "0         Non-trainable params\n",
      "14.3 M    Total params\n",
      "57.313    Total estimated model params size (MB)\n"
     ]
    },
    {
     "name": "stdout",
     "output_type": "stream",
     "text": [
      "Epoch 15:  24%|██▎       | 212/900 [01:34<05:07,  2.24it/s, v_num=4]       "
     ]
    }
   ],
   "source": [
    "trainer.fit(\n",
    "    segmentation_model, train_dataloaders=train_loader, val_dataloaders=val_loader\n",
    ")"
   ]
  },
  {
   "cell_type": "code",
   "execution_count": null,
   "metadata": {},
   "outputs": [],
   "source": [
    "trainer.test(ckpt_path=\"best\", dataloaders=test_loader)"
   ]
  },
  {
   "cell_type": "code",
   "execution_count": null,
   "metadata": {},
   "outputs": [],
   "source": []
  }
 ],
 "metadata": {
  "kernelspec": {
   "display_name": "Python 3",
   "language": "python",
   "name": "python3"
  },
  "language_info": {
   "codemirror_mode": {
    "name": "ipython",
    "version": 3
   },
   "file_extension": ".py",
   "mimetype": "text/x-python",
   "name": "python",
   "nbconvert_exporter": "python",
   "pygments_lexer": "ipython3",
   "version": "3.12.3"
  }
 },
 "nbformat": 4,
 "nbformat_minor": 2
}
