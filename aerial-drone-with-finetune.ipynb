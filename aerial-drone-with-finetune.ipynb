{
 "cells": [
  {
   "cell_type": "code",
   "execution_count": null,
   "metadata": {},
   "outputs": [],
   "source": [
    "import numpy as np\n",
    "import matplotlib.pyplot as plt\n",
    "\n",
    "import torch\n",
    "from torch.utils.data import DataLoader, random_split\n",
    "import pytorch_lightning as pl\n",
    "from pytorch_lightning.callbacks import ModelCheckpoint\n",
    "from pytorch_lightning.loggers import CSVLogger\n",
    "from torchvision.transforms import Resize, InterpolationMode, ToPILImage, RandomCrop\n",
    "from torchmetrics import JaccardIndex, Precision, Recall, F1Score\n",
    "from pytorch_lightning.callbacks.early_stopping import EarlyStopping\n",
    "from src.callbacks.SaveRandomImagesCallback import SaveRandomImagesCallback\n",
    "from src.callbacks.SaveTestPredsMulticlass import SaveTestPredsMulticlass\n",
    "import segmentation_models_pytorch as smp\n",
    "\n",
    "from src.evaluation.evaluate_result import evaluate_result\n",
    "from src.datasets.AerialDroneSemanticSegmentationDataset import (\n",
    "    AerialDroneSemanticSegmentationDataset,\n",
    ")"
   ]
  },
  {
   "cell_type": "markdown",
   "metadata": {},
   "source": [
    "## Prepare environment"
   ]
  },
  {
   "cell_type": "code",
   "execution_count": null,
   "metadata": {},
   "outputs": [],
   "source": [
    "torch.cuda.is_available()"
   ]
  },
  {
   "cell_type": "code",
   "execution_count": null,
   "metadata": {},
   "outputs": [],
   "source": [
    "device = torch.device(\"cuda\" if torch.cuda.is_available() else \"cpu\")\n",
    "# if you get some cryptic CUDA error, set device to \"cpu\" and try again\n",
    "\n",
    "# DEBUG\n",
    "# device = torch.device(\"cpu\")\n",
    "print(device)"
   ]
  },
  {
   "cell_type": "code",
   "execution_count": null,
   "metadata": {},
   "outputs": [],
   "source": [
    "VAL_SIZE = 0.2\n",
    "BATCH_SIZE = 1\n",
    "SEED = 42\n",
    "AERIAL_DRONE_DATASET_PATH = (\n",
    "    \"data/AerialDroneSemanticSegmentationDataset/dataset/semantic_drone_dataset\"\n",
    ")\n",
    "SAVE_VAL_DIR = \"outputs/AerialDrone/val\"\n",
    "SAVE_TEST_DIR = \"outputs/AerialDrone/test\"\n",
    "\n",
    "# INRIA_DATASET_PATH = \"data/TestSubsets/INRIAAerialImageLabellingDataset\"  # laptop\n",
    "IMAGE_SIZE = 576  # home PC\n",
    "\n",
    "IMAGE_HEIGHT = 608\n",
    "IMAGE_WIDTH = 416"
   ]
  },
  {
   "cell_type": "code",
   "execution_count": null,
   "metadata": {},
   "outputs": [],
   "source": [
    "labeled_dataset = AerialDroneSemanticSegmentationDataset(\n",
    "    AERIAL_DRONE_DATASET_PATH,\n",
    "    transforms=[\n",
    "        RandomCrop((IMAGE_HEIGHT, IMAGE_WIDTH)),\n",
    "    ],\n",
    ")\n",
    "print(len(labeled_dataset))"
   ]
  },
  {
   "cell_type": "markdown",
   "metadata": {},
   "source": [
    "## Data preparation"
   ]
  },
  {
   "cell_type": "code",
   "execution_count": null,
   "metadata": {},
   "outputs": [],
   "source": [
    "sanity_check_loader = DataLoader(labeled_dataset, batch_size=BATCH_SIZE, shuffle=False)"
   ]
  },
  {
   "cell_type": "markdown",
   "metadata": {},
   "source": [
    "### Train, validation and test split"
   ]
  },
  {
   "cell_type": "code",
   "execution_count": null,
   "metadata": {},
   "outputs": [],
   "source": [
    "train_size = int(0.7 * len(labeled_dataset))\n",
    "val_size = int(0.2 * len(labeled_dataset))\n",
    "test_size = len(labeled_dataset) - train_size - val_size\n",
    "train_dataset, val_dataset, test_dataset = random_split(\n",
    "    labeled_dataset, [train_size, val_size, test_size]\n",
    ")\n",
    "print(len(train_dataset), len(val_dataset), len(test_dataset))"
   ]
  },
  {
   "cell_type": "code",
   "execution_count": null,
   "metadata": {},
   "outputs": [],
   "source": [
    "train_loader = DataLoader(train_dataset, batch_size=BATCH_SIZE, shuffle=True)\n",
    "val_loader = DataLoader(val_dataset, batch_size=BATCH_SIZE, shuffle=False)\n",
    "test_loader = DataLoader(test_dataset, batch_size=BATCH_SIZE, shuffle=False)"
   ]
  },
  {
   "cell_type": "code",
   "execution_count": null,
   "metadata": {},
   "outputs": [],
   "source": [
    "for images, masks in train_loader:\n",
    "    print(images.shape)\n",
    "    print(masks.shape)\n",
    "    break"
   ]
  },
  {
   "cell_type": "code",
   "execution_count": null,
   "metadata": {},
   "outputs": [],
   "source": [
    "to_pil_transform = ToPILImage()"
   ]
  },
  {
   "cell_type": "code",
   "execution_count": null,
   "metadata": {},
   "outputs": [],
   "source": [
    "if BATCH_SIZE == 1:\n",
    "    img = to_pil_transform(images.squeeze())"
   ]
  },
  {
   "cell_type": "code",
   "execution_count": null,
   "metadata": {},
   "outputs": [],
   "source": [
    "# img.show()"
   ]
  },
  {
   "cell_type": "code",
   "execution_count": null,
   "metadata": {},
   "outputs": [],
   "source": [
    "if BATCH_SIZE == 1:\n",
    "    msk = to_pil_transform(masks.squeeze())"
   ]
  },
  {
   "cell_type": "code",
   "execution_count": null,
   "metadata": {},
   "outputs": [],
   "source": [
    "# msk.show()"
   ]
  },
  {
   "cell_type": "code",
   "execution_count": null,
   "metadata": {},
   "outputs": [],
   "source": [
    "for images, masks in train_loader:\n",
    "    print(images.shape)\n",
    "    print(masks.shape)\n",
    "    break"
   ]
  },
  {
   "cell_type": "code",
   "execution_count": null,
   "metadata": {},
   "outputs": [],
   "source": [
    "to_pil_transform = ToPILImage()"
   ]
  },
  {
   "cell_type": "code",
   "execution_count": null,
   "metadata": {},
   "outputs": [],
   "source": [
    "img = to_pil_transform(images.squeeze())"
   ]
  },
  {
   "cell_type": "code",
   "execution_count": null,
   "metadata": {},
   "outputs": [],
   "source": [
    "# img.show()"
   ]
  },
  {
   "cell_type": "code",
   "execution_count": null,
   "metadata": {},
   "outputs": [],
   "source": [
    "msk = to_pil_transform(masks.squeeze())"
   ]
  },
  {
   "cell_type": "code",
   "execution_count": null,
   "metadata": {},
   "outputs": [],
   "source": [
    "# msk.show()"
   ]
  },
  {
   "cell_type": "markdown",
   "metadata": {},
   "source": [
    "# Training module"
   ]
  },
  {
   "cell_type": "code",
   "execution_count": null,
   "metadata": {},
   "outputs": [],
   "source": [
    "class SegmentationModel(pl.LightningModule):\n",
    "    def __init__(self, model, learning_rate=1e-3):\n",
    "        super(SegmentationModel, self).__init__()\n",
    "        \n",
    "        self.model = model\n",
    "        self.learning_rate = learning_rate\n",
    "\n",
    "        self.criterion = smp.losses.JaccardLoss(mode=\"multiclass\", from_logits=False)\n",
    "        self.train_iou = JaccardIndex(num_classes=23, task=\"multiclass\")\n",
    "        self.val_iou = JaccardIndex(num_classes=23, task=\"multiclass\")\n",
    "\n",
    "        # self.save_hyperparameters()\n",
    "\n",
    "    def forward(self, x):\n",
    "        output = self.model(x.to(device))\n",
    "        return output\n",
    "\n",
    "    def training_step(self, batch, batch_idx):\n",
    "        images, masks = batch\n",
    "        preds = self(images)\n",
    "        loss = self.criterion(preds, masks.squeeze(1).long())\n",
    "\n",
    "        self.log(\"train_loss\", loss, on_epoch=True, on_step=True)\n",
    "        self.log(\"train_iou\", self.train_iou(preds, masks.squeeze(1)), on_epoch=True, on_step=True)\n",
    "\n",
    "        return loss\n",
    "\n",
    "    def validation_step(self, batch, batch_idx):\n",
    "        images, masks = batch\n",
    "        preds = self(images)\n",
    "        loss = self.criterion(preds, masks.squeeze(1).long())\n",
    "\n",
    "        self.log(\"val_loss\", loss, on_epoch=True, on_step=True)\n",
    "        self.log(\"val_iou\", self.val_iou(preds, masks.squeeze(1)), on_epoch=True, on_step=True)\n",
    "        \n",
    "        return loss\n",
    "\n",
    "    def test_step(self, batch, batch_idx):\n",
    "        # just here to activate the test_epoch_end\n",
    "        # callback SaveTestPreds starts on_test_epoch_end \n",
    "        pass\n",
    "\n",
    "    def configure_optimizers(self):\n",
    "        optimizer = torch.optim.Adam(self.parameters(), lr=self.learning_rate)\n",
    "        return optimizer"
   ]
  },
  {
   "cell_type": "markdown",
   "metadata": {},
   "source": [
    "### Model selection"
   ]
  },
  {
   "cell_type": "code",
   "execution_count": null,
   "metadata": {},
   "outputs": [],
   "source": [
    "model = smp.Unet(\n",
    "    encoder_name=\"resnet18\",  # choose encoder, e.g. mobilenet_v2 or efficientnet-b7\n",
    "    encoder_weights=\"imagenet\",  # use `imagenet` pre-trained weights for encoder initialization\n",
    "    in_channels=3,  # model input channels (1 for gray-scale images, 3 for RGB, etc.)\n",
    "    classes=23,  # model output channels (number of classes in your dataset)\n",
    "    activation=\"softmax\",\n",
    ").to(device)"
   ]
  },
  {
   "cell_type": "code",
   "execution_count": null,
   "metadata": {},
   "outputs": [],
   "source": [
    "# model = smp.UnetPlusPlus(\n",
    "#     encoder_name=\"resnet18\",  # choose encoder, e.g. mobilenet_v2 or efficientnet-b7\n",
    "#     encoder_weights=\"imagenet\",  # use `imagenet` pre-trained weights for encoder initialization\n",
    "#     in_channels=3,  # model input channels (1 for gray-scale images, 3 for RGB, etc.)\n",
    "#     classes=1,  # model output channels (number of classes in your dataset)\n",
    "# ).to(device)"
   ]
  },
  {
   "cell_type": "code",
   "execution_count": null,
   "metadata": {},
   "outputs": [],
   "source": [
    "# model = smp.DeepLabV3(\n",
    "#     encoder_name=\"resnet18\",  # choose encoder, e.g. mobilenet_v2 or efficientnet-b7\n",
    "#     encoder_weights=\"imagenet\",  # use `imagenet` pre-trained weights for encoder initialization\n",
    "#     in_channels=3,  # model input channels (1 for gray-scale images, 3 for RGB, etc.)\n",
    "#     classes=1,\n",
    "# ).to(device)"
   ]
  },
  {
   "cell_type": "code",
   "execution_count": null,
   "metadata": {},
   "outputs": [],
   "source": [
    "# model = smp.DeepLabV3Plus(\n",
    "#     encoder_name=\"resnet18\",  # choose encoder, e.g. mobilenet_v2 or efficientnet-b7\n",
    "#     encoder_weights=\"imagenet\",  # use `imagenet` pre-trained weights for encoder initialization\n",
    "#     in_channels=3,  # model input channels (1 for gray-scale images, 3 for RGB, etc.)\n",
    "#     classes=1,\n",
    "# ).to(device)"
   ]
  },
  {
   "cell_type": "code",
   "execution_count": null,
   "metadata": {},
   "outputs": [],
   "source": [
    "segmentation_model = SegmentationModel(model)"
   ]
  },
  {
   "cell_type": "code",
   "execution_count": null,
   "metadata": {},
   "outputs": [],
   "source": [
    "model_checkpoint_callback = ModelCheckpoint(\n",
    "    monitor=\"val_loss\", save_top_k=-1, mode=\"min\"\n",
    ")"
   ]
  },
  {
   "cell_type": "code",
   "execution_count": null,
   "metadata": {},
   "outputs": [],
   "source": [
    "logger = CSVLogger(\"lightning_logs\", name=\"aerial_drone_segmentation_model\")"
   ]
  },
  {
   "cell_type": "code",
   "execution_count": null,
   "metadata": {},
   "outputs": [],
   "source": [
    "save_callback = SaveRandomImagesCallback(save_dir=SAVE_VAL_DIR)\n",
    "\n",
    "# Dubai test dataset is also labeled\n",
    "# so we can use different logic for test set evaluation\n",
    "save_test_preds_callback = SaveTestPredsMulticlass(save_dir=SAVE_TEST_DIR)\n",
    "\n",
    "early_stopping_callback = EarlyStopping(monitor=\"val_loss\", mode=\"min\", patience=5)"
   ]
  },
  {
   "cell_type": "code",
   "execution_count": null,
   "metadata": {},
   "outputs": [],
   "source": [
    "trainer = pl.Trainer(\n",
    "    max_epochs=1,\n",
    "    log_every_n_steps=10,\n",
    "    callbacks=[\n",
    "        model_checkpoint_callback,\n",
    "        save_callback,\n",
    "        save_test_preds_callback,\n",
    "        early_stopping_callback,\n",
    "    ],\n",
    "    logger=logger,\n",
    ")\n",
    "\n",
    "# DEBUG\n",
    "# trainer = pl.Trainer(\n",
    "#     max_epochs=1,\n",
    "#     callbacks=[model_checkpoint_callback, save_callback],\n",
    "#     logger=logger,\n",
    "#     accelerator=\"cpu\"\n",
    "#     )"
   ]
  },
  {
   "cell_type": "code",
   "execution_count": null,
   "metadata": {},
   "outputs": [],
   "source": [
    "trainer.fit(\n",
    "    segmentation_model, train_dataloaders=train_loader, val_dataloaders=val_loader\n",
    ")"
   ]
  },
  {
   "cell_type": "code",
   "execution_count": null,
   "metadata": {},
   "outputs": [],
   "source": [
    "trainer.test(ckpt_path=\"best\", dataloaders=test_loader)"
   ]
  },
  {
   "cell_type": "code",
   "execution_count": null,
   "metadata": {},
   "outputs": [],
   "source": []
  }
 ],
 "metadata": {
  "kernelspec": {
   "display_name": "Python 3",
   "language": "python",
   "name": "python3"
  },
  "language_info": {
   "codemirror_mode": {
    "name": "ipython",
    "version": 3
   },
   "file_extension": ".py",
   "mimetype": "text/x-python",
   "name": "python",
   "nbconvert_exporter": "python",
   "pygments_lexer": "ipython3",
   "version": "3.12.3"
  }
 },
 "nbformat": 4,
 "nbformat_minor": 2
}
