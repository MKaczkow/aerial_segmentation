{
 "cells": [
  {
   "cell_type": "code",
   "execution_count": 1,
   "metadata": {},
   "outputs": [],
   "source": [
    "import torch\n",
    "from torch.utils.data import DataLoader\n",
    "from src.datasets.INRIAAerialImageLabellingDataset import (\n",
    "    INRIAAerialImageLabellingDataset,\n",
    ")\n",
    "from src.datasets.UAVidSemanticSegmentationDataset import (\n",
    "    UAVidSemanticSegmentationDataset,\n",
    ")\n",
    "from src.utils import (\n",
    "    process_inria_dataloader_and_save,\n",
    "    process_uavid_dataloader_and_save,\n",
    ")"
   ]
  },
  {
   "cell_type": "code",
   "execution_count": 2,
   "metadata": {},
   "outputs": [
    {
     "name": "stdout",
     "output_type": "stream",
     "text": [
      "cuda\n"
     ]
    }
   ],
   "source": [
    "torch.cuda.is_available()\n",
    "device = torch.device(\"cuda\" if torch.cuda.is_available() else \"cpu\")\n",
    "# if you get some cryptic CUDA error, set device to \"cpu\" and try again\n",
    "print(device)"
   ]
  },
  {
   "cell_type": "markdown",
   "metadata": {},
   "source": [
    "## UAVid"
   ]
  },
  {
   "cell_type": "code",
   "execution_count": 3,
   "metadata": {},
   "outputs": [],
   "source": [
    "VAL_SIZE = 0.2\n",
    "BATCH_SIZE = 2\n",
    "SEED = 42\n",
    "SAVE_VAL_DIR = \"outputs/UAVid/val\"\n",
    "SAVE_TEST_DIR = \"outputs/UAVid/test\"\n",
    "UAVID_DATASET_PATH = \"data/UAVidSemanticSegmentationDataset\"\n",
    "IMAGE_WIDTH = 1024\n",
    "IMAGE_HEIGHT = 576"
   ]
  },
  {
   "cell_type": "markdown",
   "metadata": {},
   "source": [
    "## Prepare data"
   ]
  },
  {
   "cell_type": "markdown",
   "metadata": {},
   "source": [
    "### Train"
   ]
  },
  {
   "cell_type": "code",
   "execution_count": 4,
   "metadata": {},
   "outputs": [
    {
     "name": "stdout",
     "output_type": "stream",
     "text": [
      "200\n"
     ]
    }
   ],
   "source": [
    "train_dataset = UAVidSemanticSegmentationDataset(\n",
    "    UAVID_DATASET_PATH,\n",
    "    split=\"train\",\n",
    ")\n",
    "print(len(train_dataset))"
   ]
  },
  {
   "cell_type": "code",
   "execution_count": 5,
   "metadata": {},
   "outputs": [],
   "source": [
    "train_loader = DataLoader(\n",
    "    train_dataset, batch_size=BATCH_SIZE, shuffle=True, num_workers=8\n",
    ")"
   ]
  },
  {
   "cell_type": "code",
   "execution_count": 6,
   "metadata": {},
   "outputs": [
    {
     "name": "stdout",
     "output_type": "stream",
     "text": [
      "process uavid dataloader and save\n",
      "image\n",
      "<class 'torch.Tensor'>\n",
      "torch.Size([3, 2160, 3840])\n",
      "torch.float32\n",
      "mask\n",
      "<class 'torch.Tensor'>\n",
      "torch.Size([1, 2160, 3840])\n",
      "torch.uint8\n",
      "slice and save\n",
      "image\n",
      "<class 'torch.Tensor'>\n",
      "torch.Size([2160, 3840])\n",
      "torch.float32\n"
     ]
    },
    {
     "ename": "ValueError",
     "evalue": "not enough values to unpack (expected 3, got 2)",
     "output_type": "error",
     "traceback": [
      "\u001b[1;31m---------------------------------------------------------------------------\u001b[0m",
      "\u001b[1;31mValueError\u001b[0m                                Traceback (most recent call last)",
      "Cell \u001b[1;32mIn[6], line 1\u001b[0m\n\u001b[1;32m----> 1\u001b[0m \u001b[43mprocess_uavid_dataloader_and_save\u001b[49m\u001b[43m(\u001b[49m\u001b[43mtrain_dataset\u001b[49m\u001b[43m,\u001b[49m\u001b[43m \u001b[49m\u001b[43mtrain\u001b[49m\u001b[38;5;241;43m=\u001b[39;49m\u001b[38;5;28;43;01mTrue\u001b[39;49;00m\u001b[43m)\u001b[49m\n",
      "File \u001b[1;32md:\\__repos\\aerial_segmentation\\src\\utils.py:149\u001b[0m, in \u001b[0;36mprocess_uavid_dataloader_and_save\u001b[1;34m(dataloader, patch_size, image_save_path, mask_save_path, train)\u001b[0m\n\u001b[0;32m    146\u001b[0m \u001b[38;5;28mprint\u001b[39m(mask\u001b[38;5;241m.\u001b[39mdtype)\n\u001b[0;32m    148\u001b[0m \u001b[38;5;28;01mfor\u001b[39;00m img_idx \u001b[38;5;129;01min\u001b[39;00m \u001b[38;5;28mrange\u001b[39m(image\u001b[38;5;241m.\u001b[39msize(\u001b[38;5;241m0\u001b[39m)):  \u001b[38;5;66;03m# iterate over batch dimension\u001b[39;00m\n\u001b[1;32m--> 149\u001b[0m     \u001b[43mslice_and_save\u001b[49m\u001b[43m(\u001b[49m\u001b[43mimage\u001b[49m\u001b[43m[\u001b[49m\u001b[43mimg_idx\u001b[49m\u001b[43m]\u001b[49m\u001b[43m,\u001b[49m\u001b[43m \u001b[49m\u001b[43mmask\u001b[49m\u001b[43m[\u001b[49m\u001b[43mimg_idx\u001b[49m\u001b[43m]\u001b[49m\u001b[43m,\u001b[49m\u001b[43m \u001b[49m\u001b[43mpatch_size\u001b[49m\u001b[43m,\u001b[49m\u001b[43m \u001b[49m\u001b[43mimage_save_path\u001b[49m\u001b[43m,\u001b[49m\u001b[43m \u001b[49m\u001b[43mmask_save_path\u001b[49m\u001b[43m,\u001b[49m\u001b[43m \u001b[49m\u001b[43mprefix\u001b[49m\u001b[38;5;241;43m=\u001b[39;49m\u001b[38;5;124;43mf\u001b[39;49m\u001b[38;5;124;43m\"\u001b[39;49m\u001b[38;5;124;43mbatch_\u001b[39;49m\u001b[38;5;132;43;01m{\u001b[39;49;00m\u001b[43mbatch_idx\u001b[49m\u001b[38;5;132;43;01m}\u001b[39;49;00m\u001b[38;5;124;43m_img_\u001b[39;49m\u001b[38;5;132;43;01m{\u001b[39;49;00m\u001b[43mimg_idx\u001b[49m\u001b[38;5;132;43;01m}\u001b[39;49;00m\u001b[38;5;124;43m\"\u001b[39;49m\u001b[43m,\u001b[49m\u001b[43m \u001b[49m\u001b[43mtrain\u001b[49m\u001b[38;5;241;43m=\u001b[39;49m\u001b[43mtrain\u001b[49m\u001b[43m)\u001b[49m\n",
      "File \u001b[1;32md:\\__repos\\aerial_segmentation\\src\\utils.py:87\u001b[0m, in \u001b[0;36mslice_and_save\u001b[1;34m(image, mask, patch_size, image_save_path, mask_save_path, prefix, train)\u001b[0m\n\u001b[0;32m     85\u001b[0m \u001b[38;5;28mprint\u001b[39m(image\u001b[38;5;241m.\u001b[39mshape)\n\u001b[0;32m     86\u001b[0m \u001b[38;5;28mprint\u001b[39m(image\u001b[38;5;241m.\u001b[39mdtype)\n\u001b[1;32m---> 87\u001b[0m _, img_height, img_width \u001b[38;5;241m=\u001b[39m image\u001b[38;5;241m.\u001b[39mshape\n\u001b[0;32m     89\u001b[0m \u001b[38;5;66;03m# Calculate the number of patches along each dimension\u001b[39;00m\n\u001b[0;32m     90\u001b[0m num_patches_vertical \u001b[38;5;241m=\u001b[39m img_height \u001b[38;5;241m/\u001b[39m\u001b[38;5;241m/\u001b[39m patch_height\n",
      "\u001b[1;31mValueError\u001b[0m: not enough values to unpack (expected 3, got 2)"
     ]
    }
   ],
   "source": [
    "process_uavid_dataloader_and_save(train_dataset, train=True)"
   ]
  },
  {
   "cell_type": "markdown",
   "metadata": {},
   "source": [
    "### Val"
   ]
  },
  {
   "cell_type": "code",
   "execution_count": null,
   "metadata": {},
   "outputs": [],
   "source": [
    "val_dataset = UAVidSemanticSegmentationDataset(\n",
    "    UAVID_DATASET_PATH,\n",
    "    split=\"valid\",\n",
    ")\n",
    "print(len(val_dataset))"
   ]
  },
  {
   "cell_type": "code",
   "execution_count": null,
   "metadata": {},
   "outputs": [],
   "source": [
    "val_loader = DataLoader(\n",
    "    val_dataset, batch_size=BATCH_SIZE, shuffle=False, num_workers=8\n",
    ")"
   ]
  },
  {
   "cell_type": "code",
   "execution_count": null,
   "metadata": {},
   "outputs": [],
   "source": [
    "process_uavid_dataloader_and_save(val_dataset, train=True)"
   ]
  },
  {
   "cell_type": "markdown",
   "metadata": {},
   "source": [
    "### Test"
   ]
  },
  {
   "cell_type": "code",
   "execution_count": null,
   "metadata": {},
   "outputs": [],
   "source": [
    "test_dataset = UAVidSemanticSegmentationDataset(\n",
    "    UAVID_DATASET_PATH,\n",
    "    split=\"test\",\n",
    ")\n",
    "print(len(test_dataset))"
   ]
  },
  {
   "cell_type": "code",
   "execution_count": null,
   "metadata": {},
   "outputs": [],
   "source": [
    "test_loader = DataLoader(\n",
    "    test_dataset, batch_size=BATCH_SIZE, shuffle=False, num_workers=8\n",
    ")"
   ]
  },
  {
   "cell_type": "code",
   "execution_count": null,
   "metadata": {},
   "outputs": [],
   "source": [
    "process_uavid_dataloader_and_save(test_loader, train=False)"
   ]
  },
  {
   "cell_type": "markdown",
   "metadata": {},
   "source": [
    "## INRIA"
   ]
  },
  {
   "cell_type": "code",
   "execution_count": null,
   "metadata": {},
   "outputs": [],
   "source": [
    "VAL_SIZE = 0.2\n",
    "BATCH_SIZE = 4\n",
    "SEED = 42\n",
    "IMAGE_SIZE = 576\n",
    "SAVE_VAL_DIR = \"outputs/INRIA/val\"\n",
    "SAVE_TEST_DIR = \"outputs/INRIA/test\"\n",
    "INRIA_DATASET_PATH = \"data/INRIAAerialImageLabellingDataset\"  # home PC\n",
    "# INRIA_DATASET_PATH = \"data/TestSubsets/INRIAAerialImageLabellingDataset\"  # laptop"
   ]
  },
  {
   "cell_type": "markdown",
   "metadata": {},
   "source": [
    "### Train"
   ]
  },
  {
   "cell_type": "code",
   "execution_count": null,
   "metadata": {},
   "outputs": [],
   "source": [
    "labeled_dataset = INRIAAerialImageLabellingDataset(\n",
    "    INRIA_DATASET_PATH,\n",
    "    split=\"train\",\n",
    ")\n",
    "print(len(labeled_dataset))"
   ]
  },
  {
   "cell_type": "code",
   "execution_count": null,
   "metadata": {},
   "outputs": [],
   "source": [
    "labeled_dataloader = torch.utils.data.DataLoader(\n",
    "    labeled_dataset,\n",
    "    batch_size=BATCH_SIZE,\n",
    "    shuffle=False,\n",
    "    num_workers=4,\n",
    ")"
   ]
  },
  {
   "cell_type": "code",
   "execution_count": null,
   "metadata": {},
   "outputs": [],
   "source": [
    "# process_inria_dataloader_and_save(labeled_dataloader)"
   ]
  },
  {
   "cell_type": "markdown",
   "metadata": {},
   "source": [
    "### Test"
   ]
  },
  {
   "cell_type": "code",
   "execution_count": null,
   "metadata": {},
   "outputs": [],
   "source": [
    "unlabeled_dataset = INRIAAerialImageLabellingDataset(\n",
    "    INRIA_DATASET_PATH,\n",
    "    split=\"test\",\n",
    ")\n",
    "print(len(unlabeled_dataset))"
   ]
  },
  {
   "cell_type": "code",
   "execution_count": null,
   "metadata": {},
   "outputs": [],
   "source": [
    "unlabeled_dataloader = torch.utils.data.DataLoader(\n",
    "    unlabeled_dataset,\n",
    "    batch_size=BATCH_SIZE,\n",
    "    shuffle=False,\n",
    "    num_workers=4,\n",
    ")"
   ]
  },
  {
   "cell_type": "code",
   "execution_count": null,
   "metadata": {},
   "outputs": [],
   "source": [
    "# process_inria_dataloader_and_save(unlabeled_dataloader, train=False)"
   ]
  },
  {
   "cell_type": "code",
   "execution_count": null,
   "metadata": {},
   "outputs": [],
   "source": []
  }
 ],
 "metadata": {
  "kernelspec": {
   "display_name": "venv",
   "language": "python",
   "name": "python3"
  },
  "language_info": {
   "codemirror_mode": {
    "name": "ipython",
    "version": 3
   },
   "file_extension": ".py",
   "mimetype": "text/x-python",
   "name": "python",
   "nbconvert_exporter": "python",
   "pygments_lexer": "ipython3",
   "version": "3.12.3"
  }
 },
 "nbformat": 4,
 "nbformat_minor": 2
}
